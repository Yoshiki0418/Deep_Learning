{
  "nbformat": 4,
  "nbformat_minor": 0,
  "metadata": {
    "colab": {
      "provenance": [],
      "machine_shape": "hm",
      "gpuType": "L4",
      "authorship_tag": "ABX9TyMCsrHyYlN7FVj3vVlL/8uc",
      "include_colab_link": true
    },
    "kernelspec": {
      "name": "python3",
      "display_name": "Python 3"
    },
    "language_info": {
      "name": "python"
    },
    "accelerator": "GPU"
  },
  "cells": [
    {
      "cell_type": "markdown",
      "metadata": {
        "id": "view-in-github",
        "colab_type": "text"
      },
      "source": [
        "<a href=\"https://colab.research.google.com/github/Yoshiki0418/Deep_Learning/blob/main/DL_Lecture3/Word2Vec.ipynb\" target=\"_parent\"><img src=\"https://colab.research.google.com/assets/colab-badge.svg\" alt=\"Open In Colab\"/></a>"
      ]
    },
    {
      "cell_type": "markdown",
      "source": [
        "## Word2Vec"
      ],
      "metadata": {
        "id": "Hz5i1RI_Mzka"
      }
    },
    {
      "cell_type": "markdown",
      "source": [
        "### Gensim"
      ],
      "metadata": {
        "id": "rYH9J9FrM2gS"
      }
    },
    {
      "cell_type": "code",
      "execution_count": 1,
      "metadata": {
        "id": "R22oVMkUMrMl"
      },
      "outputs": [],
      "source": [
        "# colabでは不要\n",
        "# !pip install gensim"
      ]
    },
    {
      "cell_type": "code",
      "source": [
        "from gensim.models import KeyedVectors"
      ],
      "metadata": {
        "id": "ICa_ZWGuNDrE"
      },
      "execution_count": 2,
      "outputs": []
    },
    {
      "cell_type": "code",
      "source": [
        "# google drive のマウント\n",
        "from google.colab import drive\n",
        "drive_path = '/content/drive'\n",
        "drive.mount(drive_path)"
      ],
      "metadata": {
        "colab": {
          "base_uri": "https://localhost:8080/"
        },
        "id": "qXuwxlSzNIGp",
        "outputId": "7a0562a4-d78c-45d3-944c-613c0cefccb8"
      },
      "execution_count": 3,
      "outputs": [
        {
          "output_type": "stream",
          "name": "stdout",
          "text": [
            "Mounted at /content/drive\n"
          ]
        }
      ]
    },
    {
      "cell_type": "code",
      "source": [
        "# モデルファイルのロード\n",
        "word2vec = KeyedVectors.load_word2vec_format(f'{drive_path}/MyDrive/Deep_Learning/DL_Lecture3/GoogleNews-vectors-negative300.bin', binary=True)"
      ],
      "metadata": {
        "id": "oHm2CBRT2njf"
      },
      "execution_count": 4,
      "outputs": []
    },
    {
      "cell_type": "code",
      "source": [
        "# word embedding\n",
        "word_vector = word2vec[\"computer\"]\n",
        "word_vector.shape"
      ],
      "metadata": {
        "colab": {
          "base_uri": "https://localhost:8080/"
        },
        "id": "PXml-QDh23Mk",
        "outputId": "c09288c6-8eb2-4332-9f01-d129a06f8cd1"
      },
      "execution_count": 5,
      "outputs": [
        {
          "output_type": "execute_result",
          "data": {
            "text/plain": [
              "(300,)"
            ]
          },
          "metadata": {},
          "execution_count": 5
        }
      ]
    },
    {
      "cell_type": "code",
      "source": [
        "# 類似の単語を取得する\n",
        "word2vec.most_similar(\"computer\")"
      ],
      "metadata": {
        "colab": {
          "base_uri": "https://localhost:8080/"
        },
        "id": "PqvevLIq3gkp",
        "outputId": "5c969d84-32dc-4305-f43b-283797b33088"
      },
      "execution_count": 6,
      "outputs": [
        {
          "output_type": "execute_result",
          "data": {
            "text/plain": [
              "[('computers', 0.7979379892349243),\n",
              " ('laptop', 0.6640493273735046),\n",
              " ('laptop_computer', 0.6548868417739868),\n",
              " ('Computer', 0.647333562374115),\n",
              " ('com_puter', 0.6082080006599426),\n",
              " ('technician_Leonard_Luchko', 0.5662748217582703),\n",
              " ('mainframes_minicomputers', 0.5617720484733582),\n",
              " ('laptop_computers', 0.5585449934005737),\n",
              " ('PC', 0.5539618730545044),\n",
              " ('maker_Dell_DELL.O', 0.5519254207611084)]"
            ]
          },
          "metadata": {},
          "execution_count": 6
        }
      ]
    },
    {
      "cell_type": "code",
      "source": [
        "# 類似度を計算する\n",
        "word2vec.similarity(\"woman\", \"man\")"
      ],
      "metadata": {
        "colab": {
          "base_uri": "https://localhost:8080/"
        },
        "id": "9JdZpbCl3wcC",
        "outputId": "60903392-0b8c-4e13-ae02-cb004bbae1a3"
      },
      "execution_count": 7,
      "outputs": [
        {
          "output_type": "execute_result",
          "data": {
            "text/plain": [
              "0.76640123"
            ]
          },
          "metadata": {},
          "execution_count": 7
        }
      ]
    },
    {
      "cell_type": "code",
      "source": [
        "# \"king\" - \"man\" + \"woman\"\n",
        "result_vector = word2vec['king'] - word2vec['man'] + word2vec['woman'] - word2vec['male'] + word2vec['female'] - word2vec['men'] + word2vec['women']\n",
        "similar_words = word2vec.most_similar(result_vector)\n",
        "print(similar_words)"
      ],
      "metadata": {
        "colab": {
          "base_uri": "https://localhost:8080/"
        },
        "id": "E06QspOn36tN",
        "outputId": "edad902d-78bb-4a44-9a28-b79fa04716c2"
      },
      "execution_count": 8,
      "outputs": [
        {
          "output_type": "stream",
          "name": "stdout",
          "text": [
            "[('queen', 0.6073644161224365), ('king', 0.5188778042793274), ('princess', 0.5030085444450378), ('monarch', 0.4740608036518097), ('empress', 0.46340712904930115), ('Her_Serene_Highness', 0.4308953583240509), ('Queen_Consort', 0.4297073483467102), ('Jordan_Queen_Rania', 0.4281578063964844), ('feminist_icon', 0.42795678973197937), ('she', 0.42706796526908875)]\n"
          ]
        }
      ]
    },
    {
      "cell_type": "markdown",
      "source": [
        "### Spacy"
      ],
      "metadata": {
        "id": "u6fRQPlz4K99"
      }
    },
    {
      "cell_type": "code",
      "source": [
        "# colabでは不要\n",
        "# !pip install spacy"
      ],
      "metadata": {
        "id": "C03S1vF94Ku6"
      },
      "execution_count": 9,
      "outputs": []
    },
    {
      "cell_type": "code",
      "source": [
        "import spacy"
      ],
      "metadata": {
        "id": "WGuW2AxK446V"
      },
      "execution_count": 10,
      "outputs": []
    },
    {
      "cell_type": "code",
      "source": [
        "# モデルのロード\n",
        "nlp = spacy.load('en_core_web_sm')"
      ],
      "metadata": {
        "id": "POGw2Yn049pl"
      },
      "execution_count": 11,
      "outputs": []
    },
    {
      "cell_type": "code",
      "source": [
        "# word embedding\n",
        "nlp('computer').vector"
      ],
      "metadata": {
        "colab": {
          "base_uri": "https://localhost:8080/"
        },
        "id": "IEQGD49G5A9P",
        "outputId": "0e528b3f-447c-48a4-fbe6-97fef1733301"
      },
      "execution_count": 12,
      "outputs": [
        {
          "output_type": "execute_result",
          "data": {
            "text/plain": [
              "array([-1.6373895 , -0.6080451 , -0.656656  , -0.10872576, -0.24852705,\n",
              "        0.17527935,  0.7263826 ,  1.658519  , -0.1795105 , -0.57576895,\n",
              "        0.29377955, -1.0000905 , -0.29037115, -0.21647847, -0.03370228,\n",
              "        0.70579475, -0.7825656 , -1.2829044 ,  1.3557242 ,  0.81198955,\n",
              "        0.6912365 ,  0.57129043, -0.3336426 , -1.0607941 ,  0.8841657 ,\n",
              "        0.25746697, -0.03119813,  0.7934418 ,  0.11529171,  0.27637503,\n",
              "       -0.3697168 ,  0.8258281 ,  1.375557  ,  0.55934906, -0.5268314 ,\n",
              "       -1.1254272 ,  0.20773923,  0.47141504,  0.38074216, -0.7482727 ,\n",
              "       -0.07192928, -0.06383505, -0.5294903 ,  1.2106017 , -0.67606163,\n",
              "       -0.47462296, -0.9633928 ,  1.2195504 ,  0.205295  , -0.22966447,\n",
              "        0.32949054,  1.4156418 ,  1.0020167 , -1.0212331 ,  0.24324086,\n",
              "        0.15824679,  0.63781977, -0.53702855,  0.11409536, -0.44219247,\n",
              "       -0.96318537, -0.11269173,  0.22333866, -0.07143135,  1.0847995 ,\n",
              "        0.8003227 , -0.18230844, -0.6724494 ,  0.09219727, -0.5087909 ,\n",
              "        0.4841568 ,  1.1335273 ,  1.3780378 , -0.4093325 ,  0.00951386,\n",
              "       -0.3827051 , -0.539453  , -0.00996476,  0.17741328, -1.2335469 ,\n",
              "        0.32314333, -0.45844066, -2.109942  , -1.1390811 , -0.5345155 ,\n",
              "        1.0022924 , -0.26251128, -0.56448853, -1.4048697 ,  0.5033296 ,\n",
              "       -1.375894  ,  0.22028446,  1.1431643 ,  0.62964964,  0.9079737 ,\n",
              "        0.6585612 ], dtype=float32)"
            ]
          },
          "metadata": {},
          "execution_count": 12
        }
      ]
    },
    {
      "cell_type": "code",
      "source": [
        "nlp('computer').vector.shape"
      ],
      "metadata": {
        "colab": {
          "base_uri": "https://localhost:8080/"
        },
        "id": "_PAhX2K_5GUT",
        "outputId": "5d086a60-d6be-4733-9578-82368ee678b3"
      },
      "execution_count": 13,
      "outputs": [
        {
          "output_type": "execute_result",
          "data": {
            "text/plain": [
              "(96,)"
            ]
          },
          "metadata": {},
          "execution_count": 13
        }
      ]
    },
    {
      "cell_type": "code",
      "source": [
        "# 類似度を取得\n",
        "nlp('woman').similarity(nlp('man'))"
      ],
      "metadata": {
        "colab": {
          "base_uri": "https://localhost:8080/"
        },
        "id": "5M8CnyCK5H9r",
        "outputId": "9374dd58-e477-4c25-8ed1-b114d8cea4ad"
      },
      "execution_count": 14,
      "outputs": [
        {
          "output_type": "stream",
          "name": "stderr",
          "text": [
            "<ipython-input-14-e41c63190dc3>:2: UserWarning: [W007] The model you're using has no word vectors loaded, so the result of the Doc.similarity method will be based on the tagger, parser and NER, which may not give useful similarity judgements. This may happen if you're using one of the small models, e.g. `en_core_web_sm`, which don't ship with word vectors and only use context-sensitive tensors. You can always add your own word vectors, or use one of the larger models instead if available.\n",
            "  nlp('woman').similarity(nlp('man'))\n"
          ]
        },
        {
          "output_type": "execute_result",
          "data": {
            "text/plain": [
              "0.9191395182030869"
            ]
          },
          "metadata": {},
          "execution_count": 14
        }
      ]
    },
    {
      "cell_type": "markdown",
      "source": [
        "### FastText(with Gensim)"
      ],
      "metadata": {
        "id": "00R9_2zK5jm3"
      }
    },
    {
      "cell_type": "code",
      "source": [
        "import gensim.downloader as api"
      ],
      "metadata": {
        "id": "ZXsaueIS5oDz"
      },
      "execution_count": 15,
      "outputs": []
    },
    {
      "cell_type": "code",
      "source": [
        "api.info(\"text8\")"
      ],
      "metadata": {
        "colab": {
          "base_uri": "https://localhost:8080/"
        },
        "id": "ffR6XbVy5xTt",
        "outputId": "3340c3ab-260f-44dc-c0d0-a335b04a16f6"
      },
      "execution_count": 16,
      "outputs": [
        {
          "output_type": "execute_result",
          "data": {
            "text/plain": [
              "{'num_records': 1701,\n",
              " 'record_format': 'list of str (tokens)',\n",
              " 'file_size': 33182058,\n",
              " 'reader_code': 'https://github.com/RaRe-Technologies/gensim-data/releases/download/text8/__init__.py',\n",
              " 'license': 'not found',\n",
              " 'description': 'First 100,000,000 bytes of plain text from Wikipedia. Used for testing purposes; see wiki-english-* for proper full Wikipedia datasets.',\n",
              " 'checksum': '68799af40b6bda07dfa47a32612e5364',\n",
              " 'file_name': 'text8.gz',\n",
              " 'read_more': ['http://mattmahoney.net/dc/textdata.html'],\n",
              " 'parts': 1}"
            ]
          },
          "metadata": {},
          "execution_count": 16
        }
      ]
    },
    {
      "cell_type": "code",
      "source": [
        "dataset = api.load(\"text8\")"
      ],
      "metadata": {
        "colab": {
          "base_uri": "https://localhost:8080/"
        },
        "id": "_jyTy6vg54Xf",
        "outputId": "622d3b29-7092-4a0d-d4a7-42a1208612fe"
      },
      "execution_count": 17,
      "outputs": [
        {
          "output_type": "stream",
          "name": "stdout",
          "text": [
            "[==================================================] 100.0% 31.6/31.6MB downloaded\n"
          ]
        }
      ]
    },
    {
      "cell_type": "code",
      "source": [
        "len(next(iter(dataset)))"
      ],
      "metadata": {
        "colab": {
          "base_uri": "https://localhost:8080/"
        },
        "id": "YQ2MUeHf5-Zt",
        "outputId": "371625a9-2265-48c7-b440-ab412a9a112f"
      },
      "execution_count": 18,
      "outputs": [
        {
          "output_type": "execute_result",
          "data": {
            "text/plain": [
              "10000"
            ]
          },
          "metadata": {},
          "execution_count": 18
        }
      ]
    },
    {
      "cell_type": "code",
      "source": [
        "next(iter(dataset))[:10]"
      ],
      "metadata": {
        "colab": {
          "base_uri": "https://localhost:8080/"
        },
        "id": "Uqs7uA6k6KvL",
        "outputId": "43a180c5-d59c-4719-cb26-60e56a888b1a"
      },
      "execution_count": 19,
      "outputs": [
        {
          "output_type": "execute_result",
          "data": {
            "text/plain": [
              "['anarchism',\n",
              " 'originated',\n",
              " 'as',\n",
              " 'a',\n",
              " 'term',\n",
              " 'of',\n",
              " 'abuse',\n",
              " 'first',\n",
              " 'used',\n",
              " 'against']"
            ]
          },
          "metadata": {},
          "execution_count": 19
        }
      ]
    },
    {
      "cell_type": "code",
      "source": [
        "# 学習\n",
        "import time\n",
        "from gensim.models import FastText\n",
        "\n",
        "model= FastText(dataset, vector_size=100, window=5, min_count=5, workers=4)"
      ],
      "metadata": {
        "id": "WQ2L6pUN6UhF"
      },
      "execution_count": 20,
      "outputs": []
    },
    {
      "cell_type": "code",
      "source": [
        "# word embedding\n",
        "model.wv[\"computer\"]"
      ],
      "metadata": {
        "colab": {
          "base_uri": "https://localhost:8080/"
        },
        "id": "sKXXzfql9khN",
        "outputId": "01ea47bf-ca4f-4c66-e323-a19bf36b2b2c"
      },
      "execution_count": 21,
      "outputs": [
        {
          "output_type": "execute_result",
          "data": {
            "text/plain": [
              "array([-0.3368557 , -0.50422144, -2.4464548 , -0.5482762 ,  1.424063  ,\n",
              "       -1.5313919 , -1.3108474 ,  2.9374683 , -0.7774449 , -0.33755875,\n",
              "       -0.5508743 , -2.4525783 ,  0.09038621,  5.594705  ,  0.9913587 ,\n",
              "        0.2205801 , -3.1974232 , -0.6995666 ,  1.6008328 ,  0.6042301 ,\n",
              "       -2.5662487 , -0.403846  ,  1.8994025 ,  3.030899  ,  1.2777435 ,\n",
              "        0.21621898, -0.9690964 ,  0.17130025, -2.3295963 ,  0.11490372,\n",
              "       -0.51346517,  1.5284276 , -0.40242678,  1.0481551 , -1.2095419 ,\n",
              "       -0.15212208,  1.6904906 , -2.0882099 , -0.5281863 , -0.62221617,\n",
              "        0.6355957 ,  0.3056146 , -1.5123475 ,  0.47721276,  0.42774588,\n",
              "       -1.5372456 , -1.9580439 , -0.3376169 , -0.14532322, -2.88542   ,\n",
              "        2.5131109 ,  0.8092616 , -0.72117424, -1.1794027 , -1.6090612 ,\n",
              "        1.1633413 , -1.7099754 ,  0.36929867, -1.1873311 ,  0.9574918 ,\n",
              "        1.1283084 ,  1.814018  , -0.69787896,  1.8072568 , -0.10777862,\n",
              "        0.70899147, -0.9466499 ,  1.2656484 , -0.34652314,  1.4696344 ,\n",
              "       -0.35878393, -0.94201386,  1.5922883 , -2.4497907 , -2.3357842 ,\n",
              "        1.489032  ,  1.6447357 , -0.8213722 , -0.4974587 , -0.5211248 ,\n",
              "       -3.78011   , -0.05044468, -0.92901206,  0.08344665, -2.2052526 ,\n",
              "        0.3382583 ,  1.4547206 ,  1.0739527 ,  2.220072  ,  3.5941782 ,\n",
              "       -0.32457778, -0.00641312, -3.6111126 ,  5.0549226 ,  0.00774528,\n",
              "        0.47864226, -0.2861841 ,  0.8304811 , -1.0832672 , -0.75347966],\n",
              "      dtype=float32)"
            ]
          },
          "metadata": {},
          "execution_count": 21
        }
      ]
    },
    {
      "cell_type": "code",
      "source": [
        "model.wv[\"computer\"].shape"
      ],
      "metadata": {
        "colab": {
          "base_uri": "https://localhost:8080/"
        },
        "id": "t0qAIbMt9qQx",
        "outputId": "e678e885-467f-4686-d4d7-5c7d208dbe55"
      },
      "execution_count": 22,
      "outputs": [
        {
          "output_type": "execute_result",
          "data": {
            "text/plain": [
              "(100,)"
            ]
          },
          "metadata": {},
          "execution_count": 22
        }
      ]
    },
    {
      "cell_type": "code",
      "source": [
        "# 類似度\n",
        "similarity = model.wv.similarity(\"computer\", \"orange\")\n",
        "print(similarity)"
      ],
      "metadata": {
        "colab": {
          "base_uri": "https://localhost:8080/"
        },
        "id": "FDG4ZkR4-bO4",
        "outputId": "3b3431fd-05b0-45bb-861a-b819197f7aff"
      },
      "execution_count": 23,
      "outputs": [
        {
          "output_type": "stream",
          "name": "stdout",
          "text": [
            "0.28080007\n"
          ]
        }
      ]
    },
    {
      "cell_type": "markdown",
      "source": [
        "## Embedding Layer"
      ],
      "metadata": {
        "id": "JLrLeL1M-wAD"
      }
    },
    {
      "cell_type": "markdown",
      "source": [
        "単語埋め込みは、文字データを深層学習モデルなどで学習する際によく用いるが、単語をベクトル化するタイミングは大きく２つのパターンがある。\n",
        "\n",
        "1つ目は、データセットクラス内でベクトル化してしまう方式である。データセットクラス内でベクトル化することで、学習モデルにはすでにベクトル化されたデータが入力されることを前提に設計される。\n",
        "\n",
        "２つ目は、学習モデル内で単語のベクトル化を行う設計である。基本的にすでに学習された重みを用いてベクトル化を行うが、その時のタスクに応じてWord Embedding部分の重みを再度調整することが可能となる。このような設計を取ることで、End2Endのモデルが構築できる。\n",
        "\n",
        "以下には、２つ目で記述したモデル内での単語ベクトル化の設計のサンプルを構築する。"
      ],
      "metadata": {
        "id": "K4_HQZ8D-6jY"
      }
    },
    {
      "cell_type": "code",
      "source": [
        "import torch\n",
        "\n",
        "# embedding matrix\n",
        "vocab_size = len(word2vec) # 実際には手元のデータのvocab sizeを指定\n",
        "embedding_dim = 300\n",
        "\n",
        "embedding_matrix = torch.zeros((vocab_size, embedding_dim))\n",
        "print(embedding_matrix.shape)"
      ],
      "metadata": {
        "colab": {
          "base_uri": "https://localhost:8080/"
        },
        "id": "1Mder5Ll-vOc",
        "outputId": "6178d746-2e0c-4980-fbf7-1399b36205be"
      },
      "execution_count": 25,
      "outputs": [
        {
          "output_type": "stream",
          "name": "stdout",
          "text": [
            "torch.Size([3000000, 300])\n"
          ]
        }
      ]
    },
    {
      "cell_type": "code",
      "source": [
        "for idx, word in enumerate(word2vec.key_to_index.keys()):\n",
        "    embedding_matrix[idx] = torch.from_numpy(word2vec[word])"
      ],
      "metadata": {
        "id": "qHeTRvHqDDQe"
      },
      "execution_count": 28,
      "outputs": []
    },
    {
      "cell_type": "code",
      "source": [
        "# embedding layerの挙動を確認する\n",
        "from torch import nn\n",
        "embedding_layer = nn.Embedding.from_pretrained(embedding_matrix, freeze=False)"
      ],
      "metadata": {
        "id": "dEcCJwqHD40o"
      },
      "execution_count": 30,
      "outputs": []
    },
    {
      "cell_type": "code",
      "source": [
        "# forwardのテスト\n",
        "text = torch.tensor([[1,2,3],[4,5,6]])\n",
        "out = embedding_layer(text)"
      ],
      "metadata": {
        "id": "6Y283eaSEIk7"
      },
      "execution_count": 32,
      "outputs": []
    },
    {
      "cell_type": "code",
      "source": [
        "# 単語とその埋め込みベクトルの確認\n",
        "i, j = 1, 0\n",
        "word = list(word2vec.key_to_index.keys())[text[i, j]]\n",
        "print(f\"word:{word}\")"
      ],
      "metadata": {
        "colab": {
          "base_uri": "https://localhost:8080/"
        },
        "id": "DcyZA1ouEbU7",
        "outputId": "61e9b6fa-d3be-4580-ef64-982aa6819303"
      },
      "execution_count": 34,
      "outputs": [
        {
          "output_type": "stream",
          "name": "stdout",
          "text": [
            "word:is\n"
          ]
        }
      ]
    },
    {
      "cell_type": "code",
      "source": [
        "assert torch.all(embedding_layer(text[i, j])==embedding_matrix[text[i, j]])"
      ],
      "metadata": {
        "id": "pw0Jox5YEwnP"
      },
      "execution_count": 36,
      "outputs": []
    },
    {
      "cell_type": "code",
      "source": [
        "# 重みから直接indexした結果\n",
        "assert torch.all(embedding_layer.weight[text, :]==out)"
      ],
      "metadata": {
        "id": "bRi48IK0FHZj"
      },
      "execution_count": 37,
      "outputs": []
    }
  ]
}