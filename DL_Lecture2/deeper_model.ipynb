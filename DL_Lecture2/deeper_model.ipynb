{
  "nbformat": 4,
  "nbformat_minor": 0,
  "metadata": {
    "colab": {
      "provenance": [],
      "authorship_tag": "ABX9TyOU7TsVE/5fPg6BWO91fGVt",
      "include_colab_link": true
    },
    "kernelspec": {
      "name": "python3",
      "display_name": "Python 3"
    },
    "language_info": {
      "name": "python"
    }
  },
  "cells": [
    {
      "cell_type": "markdown",
      "metadata": {
        "id": "view-in-github",
        "colab_type": "text"
      },
      "source": [
        "<a href=\"https://colab.research.google.com/github/Yoshiki0418/Deep_Learning/blob/main/DL_Lecture2/deeper_model.ipynb\" target=\"_parent\"><img src=\"https://colab.research.google.com/assets/colab-badge.svg\" alt=\"Open In Colab\"/></a>"
      ]
    },
    {
      "cell_type": "markdown",
      "source": [
        "## Deeper Model"
      ],
      "metadata": {
        "id": "Ae7w4aUjmTls"
      }
    },
    {
      "cell_type": "code",
      "source": [
        "# googleドライブをマウント\n",
        "from google.colab import drive\n",
        "drive.mount('/content/drive')"
      ],
      "metadata": {
        "colab": {
          "base_uri": "https://localhost:8080/"
        },
        "id": "21WzNNm4mYrG",
        "outputId": "6b43cd29-41d4-462a-cdbb-3b6c81ded0ed"
      },
      "execution_count": 1,
      "outputs": [
        {
          "output_type": "stream",
          "name": "stdout",
          "text": [
            "Mounted at /content/drive\n"
          ]
        }
      ]
    },
    {
      "cell_type": "code",
      "source": [
        "%cd /content/drive/MyDrive/Deep_Learning/DL_Lecture2"
      ],
      "metadata": {
        "colab": {
          "base_uri": "https://localhost:8080/"
        },
        "id": "sIrdcwiMmkQe",
        "outputId": "891aa78e-4d2f-40ba-edd8-ad3ede343c5e"
      },
      "execution_count": 2,
      "outputs": [
        {
          "output_type": "stream",
          "name": "stdout",
          "text": [
            "/content/drive/MyDrive/Deep_Learning/DL_Lecture2\n"
          ]
        }
      ]
    },
    {
      "cell_type": "code",
      "execution_count": 3,
      "metadata": {
        "id": "BhbYA7JBmS9t"
      },
      "outputs": [],
      "source": [
        "import numpy as np\n",
        "import matplotlib.pyplot as plt\n",
        "import torch\n",
        "from torch.nn import init\n",
        "from torch.nn import functional as F\n",
        "from torch.utils.data import DataLoader\n",
        "from torch import nn, optim\n",
        "import torchvision\n",
        "from torchvision import transforms\n",
        "\n",
        "%load_ext autoreload\n",
        "%autoreload 2\n",
        "import utils"
      ]
    },
    {
      "cell_type": "markdown",
      "source": [
        "### Residual Block"
      ],
      "metadata": {
        "id": "Ql0HaBVhmzqX"
      }
    },
    {
      "cell_type": "code",
      "source": [
        "# 一番初期のresidual blockの実装\n",
        "class ResidualBlock(nn.Module):\n",
        "    def __init__(self, in_channels, out_channels, stride=1):\n",
        "        super().__init__()\n",
        "        self.conv1 = nn.Conv2d(in_channels, out_channels, kernel_size=3, stride=stride, padding=1, bias=False)\n",
        "        self.bn1 = nn.BatchNorm2d(out_channels)\n",
        "        self.conv2 = nn.Conv2d(out_channels, out_channels, kernel_size=3, stride=1, padding=1, bias=False)\n",
        "        self.bn2 = nn.BatchNorm2d(out_channels)\n",
        "\n",
        "        self.shortcut = nn.Sequential()\n",
        "\n",
        "        # スキップ結合時に次元が揃うようにする\n",
        "        if stride != 1 or in_channels != out_channels:\n",
        "            self.shortcut = nn.Sequential(\n",
        "                nn.Conv2d(in_channels, out_channels, kernel_size=1, stride=stride, bias=False),\n",
        "                nn.BatchNorm2d(out_channels)\n",
        "            )\n",
        "\n",
        "    def forward(self, X):\n",
        "        out = F.relu(self.bn1(self.conv1(X)))\n",
        "        out = self.bn2(self.conv2(out))\n",
        "        out += self.shortcut(X)\n",
        "        out = F.relu(out)"
      ],
      "metadata": {
        "id": "-Cmd2loOm0c2"
      },
      "execution_count": 6,
      "outputs": []
    },
    {
      "cell_type": "code",
      "source": [
        "# 改良版 (Pre-Activation)\n",
        "class PreActBlock(nn.Module):\n",
        "    def __init__(self, in_channels, out_channels, stride=1):\n",
        "        super().__init__()\n",
        "        self.bn1 = nn.BatchNorm2d(in_channels)\n",
        "        self.conv1 = nn.Conv2d(in_channels, out_channels, kernel_size=3, stride=stride, padding=1, bias=False)\n",
        "        self.bn2 = nn.BatchNorm2d(out_channels)\n",
        "        self.conv2 = nn.Conv2d(out_channels, out_channels, kernel_size=3, stride=1, padding=1, bias=False)\n",
        "        self.shortcut = nn.Sequential()\n",
        "\n",
        "        # スキップ結合時に次元が揃うようにする\n",
        "        if stride != 1 or in_channels != out_channels:\n",
        "            self.shortcut = nn.Sequential(\n",
        "                nn.Conv2d(in_channels, out_channels, kernel_size=1, stride=stride, bias=False),\n",
        "            )\n",
        "\n",
        "    def forward(self, X):\n",
        "        out = self.conv1(F.relu(self.bn1(X)))\n",
        "        out = self.conv2(F.relu(self.bn2(out)))\n",
        "        out += self.shortcut(X)\n",
        "        return out"
      ],
      "metadata": {
        "id": "uS6Ax76jovh3"
      },
      "execution_count": 7,
      "outputs": []
    },
    {
      "cell_type": "code",
      "source": [
        "# インスタンス生成\n",
        "resblock = ResidualBlock(3, 64, stride=2)\n",
        "preact = PreActBlock(3, 64, stride=2)"
      ],
      "metadata": {
        "id": "SjKJumTgqJVu"
      },
      "execution_count": 8,
      "outputs": []
    },
    {
      "cell_type": "code",
      "source": [
        "preact"
      ],
      "metadata": {
        "colab": {
          "base_uri": "https://localhost:8080/"
        },
        "id": "mFgxNe2uqlp5",
        "outputId": "1b6707af-c409-42eb-fbaa-815998369057"
      },
      "execution_count": 9,
      "outputs": [
        {
          "output_type": "execute_result",
          "data": {
            "text/plain": [
              "PreActBlock(\n",
              "  (bn1): BatchNorm2d(3, eps=1e-05, momentum=0.1, affine=True, track_running_stats=True)\n",
              "  (conv1): Conv2d(3, 64, kernel_size=(3, 3), stride=(2, 2), padding=(1, 1), bias=False)\n",
              "  (bn2): BatchNorm2d(64, eps=1e-05, momentum=0.1, affine=True, track_running_stats=True)\n",
              "  (conv2): Conv2d(64, 64, kernel_size=(3, 3), stride=(1, 1), padding=(1, 1), bias=False)\n",
              "  (shortcut): Sequential(\n",
              "    (0): Conv2d(3, 64, kernel_size=(1, 1), stride=(2, 2), bias=False)\n",
              "  )\n",
              ")"
            ]
          },
          "metadata": {},
          "execution_count": 9
        }
      ]
    },
    {
      "cell_type": "code",
      "source": [
        "# 順伝搬テスト\n",
        "X = torch.randn(1, 3, 32, 32)\n",
        "output = preact(X)"
      ],
      "metadata": {
        "id": "6sAv143cqtP0"
      },
      "execution_count": 10,
      "outputs": []
    },
    {
      "cell_type": "code",
      "source": [
        "output.shape"
      ],
      "metadata": {
        "colab": {
          "base_uri": "https://localhost:8080/"
        },
        "id": "XL_feOqVqwjQ",
        "outputId": "cde91ec0-0a4f-46ff-ae4c-8f73983d70f6"
      },
      "execution_count": 11,
      "outputs": [
        {
          "output_type": "execute_result",
          "data": {
            "text/plain": [
              "torch.Size([1, 64, 16, 16])"
            ]
          },
          "metadata": {},
          "execution_count": 11
        }
      ]
    },
    {
      "cell_type": "markdown",
      "source": [
        "### Bottleneck構造"
      ],
      "metadata": {
        "id": "Ch8vmDrnI1-6"
      }
    },
    {
      "cell_type": "code",
      "source": [
        "# point wiseは1x1のconv: パラメータ削減, 次元の変更に使う\n",
        "# Bottleneck構造: 1x1conv -> 3x3conv -> 1x1convとすることで，channel数を減らして計算コストを削減する\n",
        "\n",
        "class Bottleneck(nn.Module):\n",
        "    def __init__(self, in_channel, out_channel, stride=1):\n",
        "        super().__init__()\n",
        "        self.expansion_factor = 4\n",
        "        self.pw1 = nn.Conv2d(in_channel, int(out_channel/self.expansion_factor), kernel_size=1, stride=1, padding=0, bias=False)\n",
        "        self.bn1 = nn.BatchNorm2d(int(out_channel/self.expansion_factor))\n",
        "        self.conv1 = nn.Conv2d(int(out_channel/self.expansion_factor), int(out_channel/self.expansion_factor), kernel_size=3, stride=stride, padding=\"same\", bias=False)\n",
        "        self.bn2 = nn.BatchNorm2d(int(out_channel/self.expansion_factor))\n",
        "        self.pw2 = nn.Conv2d(int(out_channel/self.expansion_factor), out_channel, kernel_size=1, stride=1, padding=0, bias=False)\n",
        "        self.bn3 = nn.BatchNorm2d(out_channel)\n",
        "        self.shortcut = nn.Sequential()\n",
        "\n",
        "        if stride != 1 or in_channel != out_channel:\n",
        "            self.shortcut = nn.Sequential(\n",
        "                nn.Conv2d(in_channel, out_channel, kernel_size=1, stride=stride, bias=False),\n",
        "                nn.BatchNorm2d(out_channel)\n",
        "            )\n",
        "\n",
        "    def forward(self, X):\n",
        "        out = F.relu(self.bn1(self.pw1(X)))\n",
        "        out = F.relu(self.bn2(self.conv1(out)))\n",
        "        out = self.bn3(self.pw2(out))\n",
        "        out += self.shortcut(X)\n",
        "        out = F.relu(out)\n",
        "        return out"
      ],
      "metadata": {
        "id": "ypMAQ30sI28F"
      },
      "execution_count": 33,
      "outputs": []
    },
    {
      "cell_type": "code",
      "source": [
        "# 順伝搬テスト\n",
        "bottleneck = Bottleneck(256, 256, stride=1)\n",
        "X = torch.randn(1, 256, 32, 32)\n",
        "output = bottleneck(X)\n",
        "output.shape"
      ],
      "metadata": {
        "colab": {
          "base_uri": "https://localhost:8080/"
        },
        "id": "Z-xzyweBLhhZ",
        "outputId": "ec240e19-0e5e-4b8a-8a06-ce2d6b036d11"
      },
      "execution_count": 34,
      "outputs": [
        {
          "output_type": "execute_result",
          "data": {
            "text/plain": [
              "torch.Size([1, 256, 32, 32])"
            ]
          },
          "metadata": {},
          "execution_count": 34
        }
      ]
    },
    {
      "cell_type": "code",
      "source": [
        "# 通常の畳み込みで同様の出力サイズにする場合は以下のような畳み込みを使用する（計算コストが高い\n",
        "output2 = nn.Conv2d(256, 256, kernel_size=3, stride=1, padding=1)(X)"
      ],
      "metadata": {
        "id": "fkYquv6SNyto"
      },
      "execution_count": 36,
      "outputs": []
    },
    {
      "cell_type": "code",
      "source": [
        "output2.shape"
      ],
      "metadata": {
        "colab": {
          "base_uri": "https://localhost:8080/"
        },
        "id": "LX5y82qXOENK",
        "outputId": "72e4a710-8517-4ddd-ee93-6f0d2321ac7f"
      },
      "execution_count": 37,
      "outputs": [
        {
          "output_type": "execute_result",
          "data": {
            "text/plain": [
              "torch.Size([1, 256, 32, 32])"
            ]
          },
          "metadata": {},
          "execution_count": 37
        }
      ]
    },
    {
      "cell_type": "markdown",
      "source": [
        "### Inception"
      ],
      "metadata": {
        "id": "9HrP-HLDm4_s"
      }
    },
    {
      "cell_type": "code",
      "source": [
        "class InceptionModule(nn.Module):\n",
        "    def __init__(self, in_ch, out_ch1, out_ch3, out_ch5, out_ch_pool):\n",
        "        super().__init__()\n",
        "\n",
        "        # 1x1\n",
        "        self.branch1 = nn.Sequential(\n",
        "            nn.Conv2d(in_ch, out_ch1, kernel_size=1, stride=1, padding=0, bias=False),\n",
        "            nn.BatchNorm2d(out_ch1),\n",
        "            nn.ReLU()\n",
        "        )\n",
        "\n",
        "        # 3x3\n",
        "        self.branch2 = nn.Sequential(\n",
        "            # point-wise\n",
        "            nn.Conv2d(in_ch, out_ch3, kernel_size=1, stride=1, padding=0, bias=False),\n",
        "            nn.BatchNorm2d(out_ch3),\n",
        "            nn.ReLU(),\n",
        "            # 3x3 conv\n",
        "            nn.Conv2d(out_ch3, out_ch3, kernel_size=3, stride=1, padding=\"same\", bias=False),\n",
        "            nn.BatchNorm2d(out_ch3),\n",
        "            nn.ReLU()\n",
        "        )\n",
        "\n",
        "        # 5x5\n",
        "        self.branch3 = nn.Sequential(\n",
        "            # point-wise\n",
        "            nn.Conv2d(in_ch, out_ch5, kernel_size=1, stride=1, padding=0, bias=False),\n",
        "            nn.BatchNorm2d(out_ch5),\n",
        "            nn.ReLU(),\n",
        "            # 5x5 conv\n",
        "            nn.Conv2d(out_ch5, out_ch5, kernel_size=5, padding=\"same\", stride=1, bias=False),\n",
        "            nn.BatchNorm2d(out_ch5),\n",
        "            nn.ReLU(),\n",
        "        )\n",
        "\n",
        "        # pooling\n",
        "        self.branch4 = nn.Sequential(\n",
        "            nn.MaxPool2d(kernel_size=3, stride=1, padding=1),\n",
        "            nn.Conv2d(in_ch, out_ch_pool, kernel_size=1, stride=1, padding=0, bias=False),\n",
        "            nn.BatchNorm2d(out_ch_pool),\n",
        "            nn.ReLU()\n",
        "        )\n",
        "\n",
        "    def forward(self, X):\n",
        "        branch1 = self.branch1(X)\n",
        "        branch2 = self.branch2(X)\n",
        "        branch3 = self.branch3(X)\n",
        "        branch4 = self.branch4(X)\n",
        "\n",
        "        return torch.cat([branch1, branch2, branch3, branch4], dim=1)"
      ],
      "metadata": {
        "id": "QNBDx9bem68k"
      },
      "execution_count": 40,
      "outputs": []
    },
    {
      "cell_type": "code",
      "source": [
        "# InceptionModuleをテスト\n",
        "X = torch.randn(16, 192, 28, 28)\n",
        "module = InceptionModule(192, 64, 128, 32, 32)\n",
        "out = module(X)\n",
        "print(out.shape)"
      ],
      "metadata": {
        "colab": {
          "base_uri": "https://localhost:8080/"
        },
        "id": "v0emlFONpK2_",
        "outputId": "7fe95bb4-7ba2-4802-f963-ea23f4ae9516"
      },
      "execution_count": 41,
      "outputs": [
        {
          "output_type": "stream",
          "name": "stdout",
          "text": [
            "torch.Size([16, 256, 28, 28])\n"
          ]
        }
      ]
    },
    {
      "cell_type": "code",
      "source": [
        "module"
      ],
      "metadata": {
        "colab": {
          "base_uri": "https://localhost:8080/"
        },
        "id": "Q94k7ePmpYGx",
        "outputId": "7e859def-2dae-4cf1-eef0-57bbe8480460"
      },
      "execution_count": 42,
      "outputs": [
        {
          "output_type": "execute_result",
          "data": {
            "text/plain": [
              "InceptionModule(\n",
              "  (branch1): Sequential(\n",
              "    (0): Conv2d(192, 64, kernel_size=(1, 1), stride=(1, 1), bias=False)\n",
              "    (1): BatchNorm2d(64, eps=1e-05, momentum=0.1, affine=True, track_running_stats=True)\n",
              "    (2): ReLU()\n",
              "  )\n",
              "  (branch2): Sequential(\n",
              "    (0): Conv2d(192, 128, kernel_size=(1, 1), stride=(1, 1), bias=False)\n",
              "    (1): BatchNorm2d(128, eps=1e-05, momentum=0.1, affine=True, track_running_stats=True)\n",
              "    (2): ReLU()\n",
              "    (3): Conv2d(128, 128, kernel_size=(3, 3), stride=(1, 1), padding=same, bias=False)\n",
              "    (4): BatchNorm2d(128, eps=1e-05, momentum=0.1, affine=True, track_running_stats=True)\n",
              "    (5): ReLU()\n",
              "  )\n",
              "  (branch3): Sequential(\n",
              "    (0): Conv2d(192, 32, kernel_size=(1, 1), stride=(1, 1), bias=False)\n",
              "    (1): BatchNorm2d(32, eps=1e-05, momentum=0.1, affine=True, track_running_stats=True)\n",
              "    (2): ReLU()\n",
              "    (3): Conv2d(32, 32, kernel_size=(5, 5), stride=(1, 1), padding=same, bias=False)\n",
              "    (4): BatchNorm2d(32, eps=1e-05, momentum=0.1, affine=True, track_running_stats=True)\n",
              "    (5): ReLU()\n",
              "  )\n",
              "  (branch4): Sequential(\n",
              "    (0): MaxPool2d(kernel_size=3, stride=1, padding=1, dilation=1, ceil_mode=False)\n",
              "    (1): Conv2d(192, 32, kernel_size=(1, 1), stride=(1, 1), bias=False)\n",
              "    (2): BatchNorm2d(32, eps=1e-05, momentum=0.1, affine=True, track_running_stats=True)\n",
              "    (3): ReLU()\n",
              "  )\n",
              ")"
            ]
          },
          "metadata": {},
          "execution_count": 42
        }
      ]
    },
    {
      "cell_type": "markdown",
      "source": [],
      "metadata": {
        "id": "pjHsm0zLoEsu"
      }
    }
  ]
}