{
  "nbformat": 4,
  "nbformat_minor": 0,
  "metadata": {
    "colab": {
      "provenance": [],
      "authorship_tag": "ABX9TyPhU0s6zru31zIclxgX5aQD",
      "include_colab_link": true
    },
    "kernelspec": {
      "name": "python3",
      "display_name": "Python 3"
    },
    "language_info": {
      "name": "python"
    }
  },
  "cells": [
    {
      "cell_type": "markdown",
      "metadata": {
        "id": "view-in-github",
        "colab_type": "text"
      },
      "source": [
        "<a href=\"https://colab.research.google.com/github/Yoshiki0418/Deep_Learning/blob/main/DL_Lecture2/transposed_conv.ipynb\" target=\"_parent\"><img src=\"https://colab.research.google.com/assets/colab-badge.svg\" alt=\"Open In Colab\"/></a>"
      ]
    },
    {
      "cell_type": "markdown",
      "source": [
        "## Transposed Conv"
      ],
      "metadata": {
        "id": "L5lCiu2BQhT7"
      }
    },
    {
      "cell_type": "code",
      "execution_count": 2,
      "metadata": {
        "colab": {
          "base_uri": "https://localhost:8080/"
        },
        "id": "focdAsVXQPZi",
        "outputId": "5874c304-f1b4-4505-e206-e6acadf63215"
      },
      "outputs": [
        {
          "output_type": "stream",
          "name": "stdout",
          "text": [
            "Mounted at /content/drive\n"
          ]
        }
      ],
      "source": [
        "# googleドライブをマウント\n",
        "from google.colab import drive\n",
        "drive.mount('/content/drive')"
      ]
    },
    {
      "cell_type": "code",
      "source": [
        "%cd /content/drive/MyDrive/Deep_Learning/DL_Lecture2"
      ],
      "metadata": {
        "colab": {
          "base_uri": "https://localhost:8080/"
        },
        "id": "MQ3qusHmQmfP",
        "outputId": "f4669554-b99e-421c-a8a9-fd31b72a22ce"
      },
      "execution_count": 3,
      "outputs": [
        {
          "output_type": "stream",
          "name": "stdout",
          "text": [
            "/content/drive/MyDrive/Deep_Learning/DL_Lecture2\n"
          ]
        }
      ]
    },
    {
      "cell_type": "code",
      "source": [
        "import numpy as np\n",
        "import torch\n",
        "from torchvision import transforms\n",
        "from torch import optim, nn\n",
        "from torch.nn import functional as F\n",
        "from torchvision.datasets import CIFAR10, MNIST\n",
        "from torch.utils.data import DataLoader\n",
        "from torchvision.utils import make_grid\n",
        "import matplotlib.pyplot as plt\n",
        "\n",
        "%load_ext autoreload\n",
        "%autoreload 2\n",
        "import utils"
      ],
      "metadata": {
        "id": "tcc0IKchRLFe"
      },
      "execution_count": 4,
      "outputs": []
    },
    {
      "cell_type": "markdown",
      "source": [
        "### Transposed Convのスクラッチ実装"
      ],
      "metadata": {
        "id": "r-JBcwStRNYS"
      }
    },
    {
      "cell_type": "code",
      "source": [
        "def conv_transpose2d(input, weight, stride=1, padding=0):\n",
        "    batch_size, ch_in, h_in, w_in = input.shape\n",
        "    _, ch_out, f_h, f_w = weight.shape\n",
        "\n",
        "    h_out = stride * (h_in - 1) + f_h - 2*padding\n",
        "    w_out = stride * (w_in - 1) + f_w - 2*padding\n",
        "\n",
        "    output = torch.zeros((batch_size, ch_out, h_out, w_out))\n",
        "\n",
        "    for b in range(batch_size):\n",
        "        for i in range(ch_in):\n",
        "            for o in range(ch_out):\n",
        "                for h in range(h_in):\n",
        "                    for w in range(w_in):\n",
        "                        h_start = h * stride - padding\n",
        "                        w_start = w * stride - padding\n",
        "                        for f_h_idx in range(f_h):\n",
        "                            for f_w_idx in range(f_w):\n",
        "                                # 出力位置の計算\n",
        "                                h_out_idx = h_start + f_h_idx\n",
        "                                w_out_idx = w_start + f_w_idx\n",
        "\n",
        "                                if 0 <= h_out_idx < h_out and 0 <= w_out_idx < w_out:\n",
        "                                    output[b, o, h_out_idx, w_out_idx] += input[b, i, h, w] * weight[i, o, f_h_idx, f_w_idx]\n",
        "\n",
        "    return output"
      ],
      "metadata": {
        "id": "H25-rC6kRShE"
      },
      "execution_count": 5,
      "outputs": []
    },
    {
      "cell_type": "code",
      "source": [
        "input = torch.randn(1, 3, 5, 5)\n",
        "convt_layer = nn.ConvTranspose2d(3, 4, kernel_size=3, stride=2, padding=2, bias=False)\n",
        "weight = convt_layer.weight\n",
        "\n",
        "output_scratch = conv_transpose2d(input, weight)\n",
        "output = convt_layer(input)\n",
        "\n",
        "# 出力の形状が同じであることを確認する\n",
        "print(f\"スクラッチ：{output_scratch.shape}\")\n",
        "print(f\"Pytorch：{output.shape}\")"
      ],
      "metadata": {
        "colab": {
          "base_uri": "https://localhost:8080/"
        },
        "id": "RohHGKFTTeMm",
        "outputId": "d5a1500a-5351-4eb3-81f7-f889e520dda7"
      },
      "execution_count": 10,
      "outputs": [
        {
          "output_type": "stream",
          "name": "stdout",
          "text": [
            "スクラッチ：torch.Size([1, 4, 7, 7])\n",
            "Pytorch：torch.Size([1, 4, 7, 7])\n"
          ]
        }
      ]
    },
    {
      "cell_type": "markdown",
      "source": [
        "## Autoencoder"
      ],
      "metadata": {
        "id": "q2qE_Q_9UxNx"
      }
    },
    {
      "cell_type": "code",
      "source": [
        "class ConvAutoencoder(nn.Module):\n",
        "    def __init__(self):\n",
        "        super().__init__()\n",
        "        # encoder\n",
        "        self.conv1 = nn.Conv2d(1, 16, kernel_size=3, padding=1)\n",
        "        self.conv2 = nn.Conv2d(16, 4, kernel_size=3, padding=1)\n",
        "        self.pool = nn.MaxPool2d(2, 2)\n",
        "        self.relu = nn.ReLU()\n",
        "\n",
        "        # decoder\n",
        "        self.t_conv1 = nn.ConvTranspose2d(4, 16, kernel_size=2, stride=2)\n",
        "        self.t_conv2 = nn.ConvTranspose2d(16, 1, kernel_size=2, stride=2)\n",
        "\n",
        "    def forward(self, x):\n",
        "        # 1x28x28\n",
        "        out = self.pool(self.relu(self.conv1(x)))\n",
        "        # 16x14x14\n",
        "        out = self.pool(self.relu(self.conv2(out)))\n",
        "        # 4x7x7\n",
        "        out = self.relu(self.t_conv1(out))\n",
        "        # 16x14x14\n",
        "        out = F.sigmoid(self.t_conv2(out))\n",
        "        # 1x28x28\n",
        "        return out"
      ],
      "metadata": {
        "id": "VeQ-rM4_UUeR"
      },
      "execution_count": 35,
      "outputs": []
    },
    {
      "cell_type": "code",
      "source": [
        "# データ準備\n",
        "transform = transforms.ToTensor()\n",
        "train_dataset = MNIST('./mnist_data', train=True, download=True, transform=transform)\n",
        "val_dataset = MNIST('./mnist_data', train=False, download=True, transform=transform)\n",
        "\n",
        "train_loader = DataLoader(train_dataset, batch_size=128, shuffle=True)\n",
        "val_loader = DataLoader(val_dataset, batch_size=128)\n",
        "train_dataset[0][0].shape"
      ],
      "metadata": {
        "colab": {
          "base_uri": "https://localhost:8080/"
        },
        "id": "R8SFhR6_VzAV",
        "outputId": "85246253-9d70-4b00-f383-0846497466f3"
      },
      "execution_count": 18,
      "outputs": [
        {
          "output_type": "execute_result",
          "data": {
            "text/plain": [
              "torch.Size([1, 28, 28])"
            ]
          },
          "metadata": {},
          "execution_count": 18
        }
      ]
    },
    {
      "cell_type": "code",
      "source": [
        "model = ConvAutoencoder()\n",
        "optimizer = optim.Adam(model.parameters(), lr=0.001)\n",
        "epochs = 10"
      ],
      "metadata": {
        "id": "pR0_nPPpV6QX"
      },
      "execution_count": 36,
      "outputs": []
    },
    {
      "cell_type": "code",
      "source": [
        "# 学習ループ\n",
        "for epoch in range(1, epochs+1):\n",
        "    train_loss = 0.0\n",
        "    for X, _ in train_loader:\n",
        "        optimizer.zero_grad()\n",
        "        outputs = model(X)\n",
        "        loss = F.mse_loss(outputs, X)\n",
        "        loss.backward()\n",
        "        optimizer.step()\n",
        "        train_loss += loss.item()*X.shape[0]\n",
        "    train_loss = train_loss / len(train_loader)\n",
        "    print(f'Epoch: {epoch}: train loss: {train_loss}')"
      ],
      "metadata": {
        "colab": {
          "base_uri": "https://localhost:8080/"
        },
        "id": "dPNKF38SZ1gu",
        "outputId": "a368c6a3-cadf-4fe8-9119-76194dd6b131"
      },
      "execution_count": 37,
      "outputs": [
        {
          "output_type": "stream",
          "name": "stdout",
          "text": [
            "Epoch: 1: train loss: 9.304423572539266\n",
            "Epoch: 2: train loss: 2.26352802230351\n",
            "Epoch: 3: train loss: 1.7975749056984875\n",
            "Epoch: 4: train loss: 1.6518154319669647\n",
            "Epoch: 5: train loss: 1.5625443192306103\n",
            "Epoch: 6: train loss: 1.4931573299710938\n",
            "Epoch: 7: train loss: 1.4426959180501477\n",
            "Epoch: 8: train loss: 1.402897328201896\n",
            "Epoch: 9: train loss: 1.3686655901515408\n",
            "Epoch: 10: train loss: 1.3368353570448055\n"
          ]
        }
      ]
    },
    {
      "cell_type": "code",
      "source": [
        "# 検証データで実際に予測してみる\n",
        "val_loader = DataLoader(val_dataset, batch_size=8)\n",
        "images, labels = next(iter(val_loader))\n",
        "outputs = model(images)"
      ],
      "metadata": {
        "id": "L6HbkTdKcZAg"
      },
      "execution_count": 38,
      "outputs": []
    },
    {
      "cell_type": "code",
      "source": [
        "# 予測結果可視化\n",
        "images_grid = make_grid(images)\n",
        "outputs_grid = make_grid(outputs)\n",
        "# 元の画像\n",
        "plt.imshow(torch.permute(images_grid, (1, 2, 0)))"
      ],
      "metadata": {
        "colab": {
          "base_uri": "https://localhost:8080/",
          "height": 148
        },
        "id": "GM89rM_PccX6",
        "outputId": "140c53db-f544-4e41-eefe-0fc8e48be239"
      },
      "execution_count": 39,
      "outputs": [
        {
          "output_type": "execute_result",
          "data": {
            "text/plain": [
              "<matplotlib.image.AxesImage at 0x7e6943370dc0>"
            ]
          },
          "metadata": {},
          "execution_count": 39
        },
        {
          "output_type": "display_data",
          "data": {
            "text/plain": [
              "<Figure size 640x480 with 1 Axes>"
            ],
            "image/png": "[encoded data removed]"
          },
          "metadata": {}
        }
      ]
    },
    {
      "cell_type": "code",
      "source": [
        "# 出力結果\n",
        "plt.imshow(torch.permute(outputs_grid, (1, 2, 0)))"
      ],
      "metadata": {
        "colab": {
          "base_uri": "https://localhost:8080/",
          "height": 148
        },
        "id": "g5TaPqMTcf9X",
        "outputId": "ccec2a84-ce4c-4735-aad3-3c754c013185"
      },
      "execution_count": 40,
      "outputs": [
        {
          "output_type": "execute_result",
          "data": {
            "text/plain": [
              "<matplotlib.image.AxesImage at 0x7e69436d2170>"
            ]
          },
          "metadata": {},
          "execution_count": 40
        },
        {
          "output_type": "display_data",
          "data": {
            "text/plain": [
              "<Figure size 640x480 with 1 Axes>"
            ],
            "image/png": "[encoded data removed]"
          },
          "metadata": {}
        }
      ]
    }
  ]
}