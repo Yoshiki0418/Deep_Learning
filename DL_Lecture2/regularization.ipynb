{
  "nbformat": 4,
  "nbformat_minor": 0,
  "metadata": {
    "colab": {
      "provenance": [],
      "authorship_tag": "ABX9TyN+xtJmVUYoBO03jVVd9ldN",
      "include_colab_link": true
    },
    "kernelspec": {
      "name": "python3",
      "display_name": "Python 3"
    },
    "language_info": {
      "name": "python"
    }
  },
  "cells": [
    {
      "cell_type": "markdown",
      "metadata": {
        "id": "view-in-github",
        "colab_type": "text"
      },
      "source": [
        "<a href=\"https://colab.research.google.com/github/Yoshiki0418/Deep_Learning/blob/main/DL_Lecture2/regularization.ipynb\" target=\"_parent\"><img src=\"https://colab.research.google.com/assets/colab-badge.svg\" alt=\"Open In Colab\"/></a>"
      ]
    },
    {
      "cell_type": "markdown",
      "source": [
        "## Regularization"
      ],
      "metadata": {
        "id": "fz3X5bUIoK3o"
      }
    },
    {
      "cell_type": "code",
      "source": [
        "# googleドライブをマウント\n",
        "from google.colab import drive\n",
        "drive.mount('/content/drive')"
      ],
      "metadata": {
        "colab": {
          "base_uri": "https://localhost:8080/"
        },
        "id": "f9G_QkB1oP70",
        "outputId": "3756c90a-93b7-43ef-a659-a82afe759115"
      },
      "execution_count": 4,
      "outputs": [
        {
          "output_type": "stream",
          "name": "stdout",
          "text": [
            "Mounted at /content/drive\n"
          ]
        }
      ]
    },
    {
      "cell_type": "code",
      "source": [
        "%cd /content/drive/MyDrive/Deep_Learning/DL_Lecture2"
      ],
      "metadata": {
        "colab": {
          "base_uri": "https://localhost:8080/"
        },
        "id": "wmKpJ5h9oVXk",
        "outputId": "cc64eb11-6a2e-4d5c-e699-b9a891b62da8"
      },
      "execution_count": 5,
      "outputs": [
        {
          "output_type": "stream",
          "name": "stdout",
          "text": [
            "/content/drive/MyDrive/Deep_Learning/DL_Lecture2\n"
          ]
        }
      ]
    },
    {
      "cell_type": "code",
      "execution_count": 6,
      "metadata": {
        "colab": {
          "base_uri": "https://localhost:8080/"
        },
        "id": "RGDbO5tLoEzv",
        "outputId": "e2cd2425-cea8-45e4-ca67-a2575bfb1e2a"
      },
      "outputs": [
        {
          "output_type": "stream",
          "name": "stdout",
          "text": [
            "The autoreload extension is already loaded. To reload it, use:\n",
            "  %reload_ext autoreload\n"
          ]
        }
      ],
      "source": [
        "import matplotlib.pyplot as plt\n",
        "import torch\n",
        "from torch.nn import functional as F\n",
        "from torch import nn, optim\n",
        "from torch.utils.data import DataLoader\n",
        "import torchvision\n",
        "from torchvision import transforms\n",
        "\n",
        "%load_ext autoreload\n",
        "%autoreload 2\n",
        "import utils"
      ]
    },
    {
      "cell_type": "markdown",
      "source": [
        "### L2正則(重み減衰)をスクラッチ実装"
      ],
      "metadata": {
        "id": "4H689ZVZpDE6"
      }
    },
    {
      "cell_type": "code",
      "source": [
        "X = torch.tensor([[1., 2., 3.], [4., 5., 6.]])\n",
        "X"
      ],
      "metadata": {
        "colab": {
          "base_uri": "https://localhost:8080/"
        },
        "id": "0uS9HGg-pBV5",
        "outputId": "2409918d-1b86-4e10-cff8-5e3890c1eb69"
      },
      "execution_count": 5,
      "outputs": [
        {
          "output_type": "execute_result",
          "data": {
            "text/plain": [
              "tensor([[1., 2., 3.],\n",
              "        [4., 5., 6.]])"
            ]
          },
          "metadata": {},
          "execution_count": 5
        }
      ]
    },
    {
      "cell_type": "code",
      "source": [
        "# フロベニウスノルムを計算\n",
        "torch.linalg.norm(X) # torch.sqrt(torch.sum(X**2))と同じ"
      ],
      "metadata": {
        "colab": {
          "base_uri": "https://localhost:8080/"
        },
        "id": "QLiDwXBvpINZ",
        "outputId": "550b994f-2016-403d-b5ac-63f3931223e6"
      },
      "execution_count": 6,
      "outputs": [
        {
          "output_type": "execute_result",
          "data": {
            "text/plain": [
              "tensor(9.5394)"
            ]
          },
          "metadata": {},
          "execution_count": 6
        }
      ]
    },
    {
      "cell_type": "code",
      "source": [
        "def get_conv_model():\n",
        "    return nn.Sequential(\n",
        "    # 3x28x28\n",
        "    nn.Conv2d(3, 4, kernel_size=3, stride=2, padding=1),\n",
        "    nn.ReLU(),\n",
        "    # 4x14x14\n",
        "    nn.Conv2d(4, 8, kernel_size=3, stride=2, padding=1),\n",
        "    nn.ReLU(),\n",
        "    # 8x7x7\n",
        "    nn.Conv2d(8, 16, kernel_size=3, stride=2, padding=1),\n",
        "    nn.ReLU(),\n",
        "    # 16x4x4\n",
        "    nn.Conv2d(16, 32, kernel_size=3, stride=2, padding=1),\n",
        "    nn.ReLU(),\n",
        "    # 32x2x2 -> GAP -> 32 x 1 x 1\n",
        "\n",
        "    nn.Flatten(),\n",
        "    # # 128 -> 32\n",
        "    nn.Linear(128, 10)\n",
        "    # nn.Linear(32, 10)\n",
        "    # 10\n",
        ")"
      ],
      "metadata": {
        "id": "h2EaUd98pNhC"
      },
      "execution_count": 7,
      "outputs": []
    },
    {
      "cell_type": "code",
      "source": [
        "model = get_conv_model()"
      ],
      "metadata": {
        "id": "EMdDtDaYp2kM"
      },
      "execution_count": 15,
      "outputs": []
    },
    {
      "cell_type": "code",
      "source": [
        "# 実際には学習ループに組み込む\n",
        "l2_reg = torch.tensor(0.)\n",
        "for name, param in model.named_parameters():\n",
        "    # print(name, param)\n",
        "    if 'weight' in name:\n",
        "        l2_reg += torch.linalg.norm(param)**2\n",
        "# loss += (weight_decay / (2*m)) * l2_reg"
      ],
      "metadata": {
        "id": "NaKlGyB8pQdX"
      },
      "execution_count": 17,
      "outputs": []
    },
    {
      "cell_type": "markdown",
      "source": [
        "### PytorchでのL2正則"
      ],
      "metadata": {
        "id": "AfgCMni-ppHV"
      }
    },
    {
      "cell_type": "code",
      "source": [
        "optim.SGD(model.parameters(), lr=0.03, weight_decay=0.01)"
      ],
      "metadata": {
        "colab": {
          "base_uri": "https://localhost:8080/"
        },
        "id": "Z3T7Soffpp0R",
        "outputId": "bd2b594e-f996-40a7-b877-16f9c90efcb9"
      },
      "execution_count": 16,
      "outputs": [
        {
          "output_type": "execute_result",
          "data": {
            "text/plain": [
              "SGD (\n",
              "Parameter Group 0\n",
              "    dampening: 0\n",
              "    differentiable: False\n",
              "    foreach: None\n",
              "    fused: None\n",
              "    lr: 0.03\n",
              "    maximize: False\n",
              "    momentum: 0\n",
              "    nesterov: False\n",
              "    weight_decay: 0.01\n",
              ")"
            ]
          },
          "metadata": {},
          "execution_count": 16
        }
      ]
    },
    {
      "cell_type": "markdown",
      "source": [
        "### L2正則の有無でモデル比較"
      ],
      "metadata": {
        "id": "V9zl0l2vqEW-"
      }
    },
    {
      "cell_type": "code",
      "source": [
        "conv_model = get_conv_model()\n",
        "conv_model_l2 = get_conv_model()\n",
        "transform = transforms.Compose([\n",
        "    transforms.ToTensor(),\n",
        "    # transforms.Normalize((0.5, 0.5, 0.5), (0.5, 0.5, 0.5))])\n",
        "    # CIFAR10用\n",
        "    transforms.Normalize(mean=[0.4914, 0.4822, 0.4465], std=[0.2023, 0.1994, 0.2010])\n",
        "])\n",
        "classes = ('plane', 'car', 'bird', 'cat',\n",
        "           'deer', 'dog', 'frog', 'horse', 'ship', 'truck')\n",
        "train_dataset = torchvision.datasets.CIFAR10('./cifar10_data', train=True, download=True, transform=transform)\n",
        "val_dataset = torchvision.datasets.CIFAR10('./cifar10_data', train=False, download=True, transform=transform)\n",
        "train_loader = DataLoader(train_dataset, batch_size=128, shuffle=True, num_workers=4)\n",
        "val_loader = DataLoader(val_dataset, batch_size=128, num_workers=4)\n",
        "\n",
        "opt = optim.SGD(conv_model.parameters(), lr=0.03)\n",
        "opt_l2 = optim.SGD(conv_model_l2.parameters(), lr=0.03, weight_decay=0.001)"
      ],
      "metadata": {
        "colab": {
          "base_uri": "https://localhost:8080/"
        },
        "id": "ZVgEPUeOpta6",
        "outputId": "383b39b4-3197-4d32-a82c-fd6f0f191563"
      },
      "execution_count": 18,
      "outputs": [
        {
          "output_type": "stream",
          "name": "stdout",
          "text": [
            "Files already downloaded and verified\n",
            "Files already downloaded and verified\n"
          ]
        },
        {
          "output_type": "stream",
          "name": "stderr",
          "text": [
            "/usr/local/lib/python3.10/dist-packages/torch/utils/data/dataloader.py:558: UserWarning: This DataLoader will create 4 worker processes in total. Our suggested max number of worker in current system is 2, which is smaller than what this DataLoader is going to create. Please be aware that excessive worker creation might get DataLoader running slow or even freeze, lower the worker number to avoid potential slowness/freeze if necessary.\n",
            "  warnings.warn(_create_warning_msg(\n"
          ]
        }
      ]
    },
    {
      "cell_type": "code",
      "source": [
        "num_epoch = 20\n",
        "train_losses, val_losses, val_accuracies = utils.learn(conv_model, train_loader, val_loader, opt, F.cross_entropy, num_epoch=num_epoch)\n",
        "train_losses_l2, val_losses_l2, val_accuracies_l2 = utils.learn(conv_model_l2, train_loader, val_loader, opt_l2, F.cross_entropy, num_epoch=num_epoch)"
      ],
      "metadata": {
        "colab": {
          "base_uri": "https://localhost:8080/"
        },
        "id": "PheV3rtdqNBv",
        "outputId": "30dc714d-0e29-451e-937d-453afdf2448e"
      },
      "execution_count": 19,
      "outputs": [
        {
          "output_type": "stream",
          "name": "stderr",
          "text": [
            "                                                           "
          ]
        },
        {
          "output_type": "stream",
          "name": "stdout",
          "text": [
            "epoch: 0: train error: 2.2271628861537067, validation error: 2.106683365906341, validation accuracy: 0.24742879746835442\n"
          ]
        },
        {
          "output_type": "stream",
          "name": "stderr",
          "text": [
            "                                                           "
          ]
        },
        {
          "output_type": "stream",
          "name": "stdout",
          "text": [
            "epoch: 1: train error: 2.0151622121596273, validation error: 1.8880099888089337, validation accuracy: 0.33208069620253167\n"
          ]
        },
        {
          "output_type": "stream",
          "name": "stderr",
          "text": [
            "                                                           "
          ]
        },
        {
          "output_type": "stream",
          "name": "stdout",
          "text": [
            "epoch: 2: train error: 1.8460466358667749, validation error: 1.7803828535200674, validation accuracy: 0.36323180379746833\n"
          ]
        },
        {
          "output_type": "stream",
          "name": "stderr",
          "text": [
            "                                                           "
          ]
        },
        {
          "output_type": "stream",
          "name": "stdout",
          "text": [
            "epoch: 3: train error: 1.721927960510449, validation error: 1.6731037188179885, validation accuracy: 0.39339398734177217\n"
          ]
        },
        {
          "output_type": "stream",
          "name": "stderr",
          "text": [
            "                                                           "
          ]
        },
        {
          "output_type": "stream",
          "name": "stdout",
          "text": [
            "epoch: 4: train error: 1.6382084319658596, validation error: 1.5981947560853595, validation accuracy: 0.42780854430379744\n"
          ]
        },
        {
          "output_type": "stream",
          "name": "stderr",
          "text": [
            "                                                           "
          ]
        },
        {
          "output_type": "stream",
          "name": "stdout",
          "text": [
            "epoch: 5: train error: 1.5764409087198166, validation error: 1.5535184808924227, validation accuracy: 0.4399723101265823\n"
          ]
        },
        {
          "output_type": "stream",
          "name": "stderr",
          "text": [
            "                                                           "
          ]
        },
        {
          "output_type": "stream",
          "name": "stdout",
          "text": [
            "epoch: 6: train error: 1.5220174728452092, validation error: 1.4879770957970921, validation accuracy: 0.47379351265822783\n"
          ]
        },
        {
          "output_type": "stream",
          "name": "stderr",
          "text": [
            "                                                           "
          ]
        },
        {
          "output_type": "stream",
          "name": "stdout",
          "text": [
            "epoch: 7: train error: 1.467218198739659, validation error: 1.4424357021911234, validation accuracy: 0.48388053797468356\n"
          ]
        },
        {
          "output_type": "stream",
          "name": "stderr",
          "text": [
            "                                                           "
          ]
        },
        {
          "output_type": "stream",
          "name": "stdout",
          "text": [
            "epoch: 8: train error: 1.4289316451153182, validation error: 1.445759039890917, validation accuracy: 0.4834849683544304\n"
          ]
        },
        {
          "output_type": "stream",
          "name": "stderr",
          "text": [
            "                                                           "
          ]
        },
        {
          "output_type": "stream",
          "name": "stdout",
          "text": [
            "epoch: 9: train error: 1.4019473422213893, validation error: 1.443069771875309, validation accuracy: 0.49732990506329117\n"
          ]
        },
        {
          "output_type": "stream",
          "name": "stderr",
          "text": [
            "                                                           "
          ]
        },
        {
          "output_type": "stream",
          "name": "stdout",
          "text": [
            "epoch: 10: train error: 1.3774641749194212, validation error: 1.4262073507791833, validation accuracy: 0.4899129746835443\n"
          ]
        },
        {
          "output_type": "stream",
          "name": "stderr",
          "text": [
            "                                                           "
          ]
        },
        {
          "output_type": "stream",
          "name": "stdout",
          "text": [
            "epoch: 11: train error: 1.3581889178746802, validation error: 1.3992623860322977, validation accuracy: 0.504746835443038\n"
          ]
        },
        {
          "output_type": "stream",
          "name": "stderr",
          "text": [
            "                                                           "
          ]
        },
        {
          "output_type": "stream",
          "name": "stdout",
          "text": [
            "epoch: 12: train error: 1.3395138265531692, validation error: 1.3345104455947876, validation accuracy: 0.5266020569620253\n"
          ]
        },
        {
          "output_type": "stream",
          "name": "stderr",
          "text": [
            "                                                           "
          ]
        },
        {
          "output_type": "stream",
          "name": "stdout",
          "text": [
            "epoch: 13: train error: 1.3194501104257297, validation error: 1.4095605641980715, validation accuracy: 0.5014833860759493\n"
          ]
        },
        {
          "output_type": "stream",
          "name": "stderr",
          "text": [
            "                                                           "
          ]
        },
        {
          "output_type": "stream",
          "name": "stdout",
          "text": [
            "epoch: 14: train error: 1.305263142756489, validation error: 1.3354038543339017, validation accuracy: 0.5204707278481012\n"
          ]
        },
        {
          "output_type": "stream",
          "name": "stderr",
          "text": [
            "                                                           "
          ]
        },
        {
          "output_type": "stream",
          "name": "stdout",
          "text": [
            "epoch: 15: train error: 1.2958340324709177, validation error: 1.3163619750662694, validation accuracy: 0.5301621835443038\n"
          ]
        },
        {
          "output_type": "stream",
          "name": "stderr",
          "text": [
            "                                                           "
          ]
        },
        {
          "output_type": "stream",
          "name": "stdout",
          "text": [
            "epoch: 16: train error: 1.2818735283049172, validation error: 1.323674954945528, validation accuracy: 0.5274920886075949\n"
          ]
        },
        {
          "output_type": "stream",
          "name": "stderr",
          "text": [
            "                                                           "
          ]
        },
        {
          "output_type": "stream",
          "name": "stdout",
          "text": [
            "epoch: 17: train error: 1.2701119797309037, validation error: 1.2838133354730243, validation accuracy: 0.543809335443038\n"
          ]
        },
        {
          "output_type": "stream",
          "name": "stderr",
          "text": [
            "                                                           "
          ]
        },
        {
          "output_type": "stream",
          "name": "stdout",
          "text": [
            "epoch: 18: train error: 1.2612620924439881, validation error: 1.3061941605580003, validation accuracy: 0.5380735759493671\n"
          ]
        },
        {
          "output_type": "stream",
          "name": "stderr",
          "text": [
            "                                                           "
          ]
        },
        {
          "output_type": "stream",
          "name": "stdout",
          "text": [
            "epoch: 19: train error: 1.2506612289287244, validation error: 1.2774560225160816, validation accuracy: 0.543809335443038\n"
          ]
        },
        {
          "output_type": "stream",
          "name": "stderr",
          "text": [
            "                                                           "
          ]
        },
        {
          "output_type": "stream",
          "name": "stdout",
          "text": [
            "epoch: 0: train error: 2.223964471341399, validation error: 2.074985801419125, validation accuracy: 0.25761471518987344\n"
          ]
        },
        {
          "output_type": "stream",
          "name": "stderr",
          "text": [
            "                                                           "
          ]
        },
        {
          "output_type": "stream",
          "name": "stdout",
          "text": [
            "epoch: 1: train error: 2.020144739419298, validation error: 1.9328194011615802, validation accuracy: 0.29489715189873417\n"
          ]
        },
        {
          "output_type": "stream",
          "name": "stderr",
          "text": [
            "                                                           "
          ]
        },
        {
          "output_type": "stream",
          "name": "stdout",
          "text": [
            "epoch: 2: train error: 1.9096533642400562, validation error: 1.8305405317982542, validation accuracy: 0.3389042721518987\n"
          ]
        },
        {
          "output_type": "stream",
          "name": "stderr",
          "text": [
            "                                                           "
          ]
        },
        {
          "output_type": "stream",
          "name": "stdout",
          "text": [
            "epoch: 3: train error: 1.781940596487821, validation error: 1.702933967867984, validation accuracy: 0.39131724683544306\n"
          ]
        },
        {
          "output_type": "stream",
          "name": "stderr",
          "text": [
            "                                                           "
          ]
        },
        {
          "output_type": "stream",
          "name": "stdout",
          "text": [
            "epoch: 4: train error: 1.6698101048579301, validation error: 1.6571756148640113, validation accuracy: 0.4084256329113924\n"
          ]
        },
        {
          "output_type": "stream",
          "name": "stderr",
          "text": [
            "                                                           "
          ]
        },
        {
          "output_type": "stream",
          "name": "stdout",
          "text": [
            "epoch: 5: train error: 1.598421162656506, validation error: 1.5485703190670739, validation accuracy: 0.4473892405063291\n"
          ]
        },
        {
          "output_type": "stream",
          "name": "stderr",
          "text": [
            "                                                           "
          ]
        },
        {
          "output_type": "stream",
          "name": "stdout",
          "text": [
            "epoch: 6: train error: 1.546712243343558, validation error: 1.5136250091504446, validation accuracy: 0.45826740506329117\n"
          ]
        },
        {
          "output_type": "stream",
          "name": "stderr",
          "text": [
            "                                                           "
          ]
        },
        {
          "output_type": "stream",
          "name": "stdout",
          "text": [
            "epoch: 7: train error: 1.508260994311184, validation error: 1.4966856029969227, validation accuracy: 0.4698378164556962\n"
          ]
        },
        {
          "output_type": "stream",
          "name": "stderr",
          "text": [
            "                                                           "
          ]
        },
        {
          "output_type": "stream",
          "name": "stdout",
          "text": [
            "epoch: 8: train error: 1.4760736406916548, validation error: 1.4611120450345776, validation accuracy: 0.4762658227848101\n"
          ]
        },
        {
          "output_type": "stream",
          "name": "stderr",
          "text": [
            "                                                           "
          ]
        },
        {
          "output_type": "stream",
          "name": "stdout",
          "text": [
            "epoch: 9: train error: 1.4476233571386703, validation error: 1.4292051792144775, validation accuracy: 0.484375\n"
          ]
        },
        {
          "output_type": "stream",
          "name": "stderr",
          "text": [
            "                                                           "
          ]
        },
        {
          "output_type": "stream",
          "name": "stdout",
          "text": [
            "epoch: 10: train error: 1.421108629697424, validation error: 1.4170217076434364, validation accuracy: 0.489814082278481\n"
          ]
        },
        {
          "output_type": "stream",
          "name": "stderr",
          "text": [
            "                                                           "
          ]
        },
        {
          "output_type": "stream",
          "name": "stdout",
          "text": [
            "epoch: 11: train error: 1.3999835371666247, validation error: 1.389607115636898, validation accuracy: 0.5049446202531646\n"
          ]
        },
        {
          "output_type": "stream",
          "name": "stderr",
          "text": [
            "                                                           "
          ]
        },
        {
          "output_type": "stream",
          "name": "stdout",
          "text": [
            "epoch: 12: train error: 1.383444198257173, validation error: 1.3934495162360276, validation accuracy: 0.5031645569620253\n"
          ]
        },
        {
          "output_type": "stream",
          "name": "stderr",
          "text": [
            "                                                           "
          ]
        },
        {
          "output_type": "stream",
          "name": "stdout",
          "text": [
            "epoch: 13: train error: 1.3647156081846, validation error: 1.3667061132720755, validation accuracy: 0.510878164556962\n"
          ]
        },
        {
          "output_type": "stream",
          "name": "stderr",
          "text": [
            "                                                           "
          ]
        },
        {
          "output_type": "stream",
          "name": "stdout",
          "text": [
            "epoch: 14: train error: 1.3510851167961764, validation error: 1.3566684873798225, validation accuracy: 0.5120648734177216\n"
          ]
        },
        {
          "output_type": "stream",
          "name": "stderr",
          "text": [
            "                                                           "
          ]
        },
        {
          "output_type": "stream",
          "name": "stdout",
          "text": [
            "epoch: 15: train error: 1.3358208069106197, validation error: 1.388158090506928, validation accuracy: 0.49169303797468356\n"
          ]
        },
        {
          "output_type": "stream",
          "name": "stderr",
          "text": [
            "                                                           "
          ]
        },
        {
          "output_type": "stream",
          "name": "stdout",
          "text": [
            "epoch: 16: train error: 1.324968405391859, validation error: 1.347144659561447, validation accuracy: 0.5178995253164557\n"
          ]
        },
        {
          "output_type": "stream",
          "name": "stderr",
          "text": [
            "                                                           "
          ]
        },
        {
          "output_type": "stream",
          "name": "stdout",
          "text": [
            "epoch: 17: train error: 1.310822436571731, validation error: 1.3414147865923145, validation accuracy: 0.5200751582278481\n"
          ]
        },
        {
          "output_type": "stream",
          "name": "stderr",
          "text": [
            "                                                           "
          ]
        },
        {
          "output_type": "stream",
          "name": "stdout",
          "text": [
            "epoch: 18: train error: 1.2991287488766643, validation error: 1.3164894143237342, validation accuracy: 0.5322389240506329\n"
          ]
        },
        {
          "output_type": "stream",
          "name": "stderr",
          "text": [
            "                                                           "
          ]
        },
        {
          "output_type": "stream",
          "name": "stdout",
          "text": [
            "epoch: 19: train error: 1.2857418982574091, validation error: 1.3144434433949144, validation accuracy: 0.5352056962025317\n"
          ]
        },
        {
          "output_type": "stream",
          "name": "stderr",
          "text": [
            "\r"
          ]
        }
      ]
    },
    {
      "cell_type": "code",
      "source": [
        "plt.plot(train_losses, label='train loss without weight decay')\n",
        "plt.plot(train_losses_l2, label='train loss with weight decay')\n",
        "plt.plot(val_losses_l2, label='val loss with weight decay')\n",
        "plt.plot(val_losses, label='val loss without weight decay')\n",
        "plt.xlabel('epoch')\n",
        "plt.ylabel('loss')\n",
        "plt.legend()"
      ],
      "metadata": {
        "colab": {
          "base_uri": "https://localhost:8080/",
          "height": 467
        },
        "id": "__Zwgm3Ht7wg",
        "outputId": "08b802c3-189e-4c9b-c470-542dba3b44c5"
      },
      "execution_count": 20,
      "outputs": [
        {
          "output_type": "execute_result",
          "data": {
            "text/plain": [
              "<matplotlib.legend.Legend at 0x7c49fdc9d7b0>"
            ]
          },
          "metadata": {},
          "execution_count": 20
        },
        {
          "output_type": "display_data",
          "data": {
            "text/plain": [
              "<Figure size 640x480 with 1 Axes>"
            ],
            "image/png": "[encoded data removed]"
          },
          "metadata": {}
        }
      ]
    },
    {
      "cell_type": "markdown",
      "source": [
        "## Dropout"
      ],
      "metadata": {
        "id": "gG7afcnko7s_"
      }
    },
    {
      "cell_type": "markdown",
      "source": [
        "### Dropoutをスクラッチ実装"
      ],
      "metadata": {
        "id": "fJFqDLRHpAD_"
      }
    },
    {
      "cell_type": "code",
      "source": [
        "def dropout(X, drop_p):\n",
        "    keep_p = 1 - drop_p\n",
        "    mask = torch.rand(X.shape) < keep_p\n",
        "    return X * mask / keep_p"
      ],
      "metadata": {
        "id": "pdAL7UFwt8Tn"
      },
      "execution_count": 1,
      "outputs": []
    },
    {
      "cell_type": "code",
      "source": [
        "X = torch.randn((100, 100))\n",
        "droped_X = dropout(X, 0.3)"
      ],
      "metadata": {
        "id": "H7y6uDcppnkN"
      },
      "execution_count": 7,
      "outputs": []
    },
    {
      "cell_type": "code",
      "source": [
        "droped_X"
      ],
      "metadata": {
        "colab": {
          "base_uri": "https://localhost:8080/"
        },
        "id": "zQdOk8IVpyQM",
        "outputId": "07bbf892-a46c-4dbe-f623-b5897d9bad89"
      },
      "execution_count": 8,
      "outputs": [
        {
          "output_type": "execute_result",
          "data": {
            "text/plain": [
              "tensor([[-2.1217,  2.0802, -0.9232,  ...,  0.0000,  0.3735,  0.0000],\n",
              "        [ 0.3125, -0.0000,  0.0000,  ...,  0.0769, -0.1945, -1.2137],\n",
              "        [ 0.0000,  0.9723,  0.0000,  ..., -0.6329,  0.7942, -0.5624],\n",
              "        ...,\n",
              "        [-0.0000,  0.1003, -2.7261,  ...,  2.3448,  0.6005,  0.1073],\n",
              "        [-1.8314, -2.1381,  2.7259,  ...,  1.2841, -0.0000, -0.4801],\n",
              "        [ 1.6241,  1.3541,  1.8227,  ...,  0.6831, -1.1376,  0.0000]])"
            ]
          },
          "metadata": {},
          "execution_count": 8
        }
      ]
    },
    {
      "cell_type": "code",
      "source": [
        "# ReLUを適用した後にDropoutをすると，学習時と予測時でスケールが変わるので/keep_pでリスケールしスケールを合わせる\n",
        "def relu(X):\n",
        "    return torch.clamp(X, min=0)\n",
        "relu_out = relu(X)\n",
        "keep_p = 0.5\n",
        "mask = torch.rand(X.shape) < keep_p\n",
        "print((relu_out * mask).sum() / keep_p)\n",
        "print(relu_out.sum())"
      ],
      "metadata": {
        "colab": {
          "base_uri": "https://localhost:8080/"
        },
        "id": "mCb3hOnxqApE",
        "outputId": "523f88d2-7ab9-4be3-c4b6-5067a6b6f8ed"
      },
      "execution_count": 9,
      "outputs": [
        {
          "output_type": "stream",
          "name": "stdout",
          "text": [
            "tensor(4006.3184)\n",
            "tensor(3986.6516)\n"
          ]
        }
      ]
    },
    {
      "cell_type": "markdown",
      "source": [
        "### nn.Dropout"
      ],
      "metadata": {
        "id": "kIUBrJzBqUtO"
      }
    },
    {
      "cell_type": "code",
      "source": [
        "model = nn.Sequential(\n",
        "    nn.Linear(64, 20),\n",
        "    nn.ReLU(),\n",
        "    nn.Dropout(p=0.4),\n",
        "    nn.Linear(20, 10)\n",
        ")"
      ],
      "metadata": {
        "id": "ED6090CQqXPj"
      },
      "execution_count": 10,
      "outputs": []
    },
    {
      "cell_type": "code",
      "source": [
        "model"
      ],
      "metadata": {
        "colab": {
          "base_uri": "https://localhost:8080/"
        },
        "id": "v4JCoAKUqwKx",
        "outputId": "a54ff4bb-59c6-44ad-bf20-64d3eb79c1fc"
      },
      "execution_count": 11,
      "outputs": [
        {
          "output_type": "execute_result",
          "data": {
            "text/plain": [
              "Sequential(\n",
              "  (0): Linear(in_features=64, out_features=20, bias=True)\n",
              "  (1): ReLU()\n",
              "  (2): Dropout(p=0.4, inplace=False)\n",
              "  (3): Linear(in_features=20, out_features=10, bias=True)\n",
              ")"
            ]
          },
          "metadata": {},
          "execution_count": 11
        }
      ]
    },
    {
      "cell_type": "code",
      "source": [],
      "metadata": {
        "id": "RARnpBV0qxmP"
      },
      "execution_count": null,
      "outputs": []
    }
  ]
}