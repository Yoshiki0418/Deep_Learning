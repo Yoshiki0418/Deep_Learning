{
  "nbformat": 4,
  "nbformat_minor": 0,
  "metadata": {
    "colab": {
      "provenance": [],
      "authorship_tag": "ABX9TyOysAcnHIWUYstrMVR/jMXh",
      "include_colab_link": true
    },
    "kernelspec": {
      "name": "python3",
      "display_name": "Python 3"
    },
    "language_info": {
      "name": "python"
    }
  },
  "cells": [
    {
      "cell_type": "markdown",
      "metadata": {
        "id": "view-in-github",
        "colab_type": "text"
      },
      "source": [
        "<a href=\"https://colab.research.google.com/github/Yoshiki0418/Deep_Learning/blob/main/DL_Lecture2/dataaug.ipynb\" target=\"_parent\"><img src=\"https://colab.research.google.com/assets/colab-badge.svg\" alt=\"Open In Colab\"/></a>"
      ]
    },
    {
      "cell_type": "markdown",
      "source": [
        "## Data Augmentation"
      ],
      "metadata": {
        "id": "Fkn-pvz8v-p7"
      }
    },
    {
      "cell_type": "code",
      "source": [
        "# googleドライブをマウント\n",
        "from google.colab import drive\n",
        "drive.mount('/content/drive')"
      ],
      "metadata": {
        "colab": {
          "base_uri": "https://localhost:8080/"
        },
        "id": "UvUBMN-KwOEh",
        "outputId": "bfc2a450-a29d-4499-b832-c6ba3124cd89"
      },
      "execution_count": 2,
      "outputs": [
        {
          "output_type": "stream",
          "name": "stdout",
          "text": [
            "Mounted at /content/drive\n"
          ]
        }
      ]
    },
    {
      "cell_type": "code",
      "source": [
        "%cd /content/drive/MyDrive/Deep_Learning/DL_Lecture2"
      ],
      "metadata": {
        "colab": {
          "base_uri": "https://localhost:8080/"
        },
        "id": "oFzZMJXSwXMW",
        "outputId": "1f4593a6-e0ae-4015-c7e9-b7244f40eba1"
      },
      "execution_count": 3,
      "outputs": [
        {
          "output_type": "stream",
          "name": "stdout",
          "text": [
            "/content/drive/MyDrive/Deep_Learning/DL_Lecture2\n"
          ]
        }
      ]
    },
    {
      "cell_type": "code",
      "execution_count": 4,
      "metadata": {
        "colab": {
          "base_uri": "https://localhost:8080/"
        },
        "id": "Q7Eb5mg2v24O",
        "outputId": "b7c586a0-8f86-4718-addd-d75d0636abda"
      },
      "outputs": [
        {
          "output_type": "stream",
          "name": "stdout",
          "text": [
            "The autoreload extension is already loaded. To reload it, use:\n",
            "  %reload_ext autoreload\n"
          ]
        }
      ],
      "source": [
        "import numpy as np\n",
        "from torchvision import transforms\n",
        "from torch import optim\n",
        "from torch.nn import functional as F\n",
        "from torchvision.datasets import CIFAR10\n",
        "from torch.utils.data import DataLoader\n",
        "from torchvision.utils import make_grid\n",
        "import matplotlib.pyplot as plt\n",
        "\n",
        "%load_ext autoreload\n",
        "%autoreload 2\n",
        "import utils"
      ]
    },
    {
      "cell_type": "markdown",
      "source": [
        "### torchvision.transforms"
      ],
      "metadata": {
        "id": "nNBs6heow9Qp"
      }
    },
    {
      "cell_type": "code",
      "source": [
        "transform = transforms.Compose([\n",
        "    transforms.RandomHorizontalFlip(),\n",
        "    transforms.RandomCrop(32, padding=4),\n",
        "    transforms.RandomRotation(30),\n",
        "    transforms.ToTensor(),\n",
        "    transforms.Normalize((0.5, 0.5, 0.5), (0.5, 0.5, 0.5))\n",
        "])\n",
        "\n",
        "train_dataset = CIFAR10(root='./cifar10_data', train=True, download=True, transform=transform)\n",
        "train_loader = DataLoader(train_dataset, batch_size=4, shuffle=True, num_workers=4)"
      ],
      "metadata": {
        "colab": {
          "base_uri": "https://localhost:8080/"
        },
        "id": "eKeHu4RkxCbf",
        "outputId": "0f84d822-fbef-407e-ced6-974f7e346e07"
      },
      "execution_count": 5,
      "outputs": [
        {
          "output_type": "stream",
          "name": "stdout",
          "text": [
            "Files already downloaded and verified\n"
          ]
        },
        {
          "output_type": "stream",
          "name": "stderr",
          "text": [
            "/usr/local/lib/python3.10/dist-packages/torch/utils/data/dataloader.py:558: UserWarning: This DataLoader will create 4 worker processes in total. Our suggested max number of worker in current system is 2, which is smaller than what this DataLoader is going to create. Please be aware that excessive worker creation might get DataLoader running slow or even freeze, lower the worker number to avoid potential slowness/freeze if necessary.\n",
            "  warnings.warn(_create_warning_msg(\n"
          ]
        }
      ]
    },
    {
      "cell_type": "code",
      "source": [
        "X, y = next(iter(train_loader))\n",
        "X = make_grid(X).permute(1, 2, 0)\n",
        "X = X / 2 + 0.5\n",
        "plt.imshow(X)"
      ],
      "metadata": {
        "colab": {
          "base_uri": "https://localhost:8080/",
          "height": 211
        },
        "id": "eJGssop2yqED",
        "outputId": "500041f5-fd56-46cf-f80e-f2855af003d2"
      },
      "execution_count": 6,
      "outputs": [
        {
          "output_type": "execute_result",
          "data": {
            "text/plain": [
              "<matplotlib.image.AxesImage at 0x7fecbc9b0310>"
            ]
          },
          "metadata": {},
          "execution_count": 6
        },
        {
          "output_type": "display_data",
          "data": {
            "text/plain": [
              "<Figure size 640x480 with 1 Axes>"
            ],
            "image/png": "[encoded data removed]"
          },
          "metadata": {}
        }
      ]
    },
    {
      "cell_type": "markdown",
      "source": [
        "### Albumentations"
      ],
      "metadata": {
        "id": "SqbgSOO2y_HR"
      }
    },
    {
      "cell_type": "code",
      "source": [
        "!pip install albumentations\n",
        "!pip install opencv-python"
      ],
      "metadata": {
        "id": "HM1KjsOczHNu"
      },
      "execution_count": null,
      "outputs": []
    },
    {
      "cell_type": "code",
      "source": [
        "import albumentations as A\n",
        "from albumentations.pytorch import ToTensorV2\n",
        "import cv2"
      ],
      "metadata": {
        "id": "Yca9RqF-zMXT"
      },
      "execution_count": 8,
      "outputs": []
    },
    {
      "cell_type": "code",
      "source": [
        "transform = A.Compose([\n",
        "    A.HorizontalFlip(),\n",
        "    A.PadIfNeeded(min_height=40, min_width=40, border_mode=cv2.BORDER_CONSTANT, value=0),\n",
        "    A.RandomCrop(height=32, width=32),\n",
        "    A.Rotate(limit=30, border_mode=cv2.BORDER_CONSTANT),\n",
        "    A.Normalize([0.5, 0.5, 0.5], [0.5, 0.5, 0.5]),\n",
        "    ToTensorV2(),\n",
        "])"
      ],
      "metadata": {
        "id": "D-C3XizezlCF"
      },
      "execution_count": 12,
      "outputs": []
    },
    {
      "cell_type": "code",
      "source": [
        "class AlbumentationsTransform:\n",
        "    def __init__(self, transform):\n",
        "        self.transform = transform\n",
        "\n",
        "    def __call__(self, image, target=None):\n",
        "        image = self.transform(image=np.array(image))['image']\n",
        "        if target:\n",
        "            return image, target\n",
        "        else:\n",
        "            return image"
      ],
      "metadata": {
        "id": "Sy_LNGwx08p7"
      },
      "execution_count": 13,
      "outputs": []
    },
    {
      "cell_type": "code",
      "source": [
        "transform = AlbumentationsTransform(transform)"
      ],
      "metadata": {
        "id": "7Mp8Ab5x1eI0"
      },
      "execution_count": 14,
      "outputs": []
    },
    {
      "cell_type": "code",
      "source": [
        "train_dataset = CIFAR10('./cifar10_data', train=True, download=True, transform=transform)\n",
        "train_loader = DataLoader(train_dataset, batch_size=4, shuffle=True, num_workers=4)"
      ],
      "metadata": {
        "colab": {
          "base_uri": "https://localhost:8080/"
        },
        "id": "DQDw6LQ71hWQ",
        "outputId": "14b3ba50-d7eb-405a-a2ce-3fe59ede968d"
      },
      "execution_count": 15,
      "outputs": [
        {
          "output_type": "stream",
          "name": "stdout",
          "text": [
            "Files already downloaded and verified\n"
          ]
        },
        {
          "output_type": "stream",
          "name": "stderr",
          "text": [
            "/usr/local/lib/python3.10/dist-packages/torch/utils/data/dataloader.py:558: UserWarning: This DataLoader will create 4 worker processes in total. Our suggested max number of worker in current system is 2, which is smaller than what this DataLoader is going to create. Please be aware that excessive worker creation might get DataLoader running slow or even freeze, lower the worker number to avoid potential slowness/freeze if necessary.\n",
            "  warnings.warn(_create_warning_msg(\n"
          ]
        }
      ]
    },
    {
      "cell_type": "code",
      "source": [
        "X, y = next(iter(train_loader))\n",
        "X = make_grid(X).permute(1, 2, 0)\n",
        "X = X / 2 + 0.5\n",
        "plt.imshow(X)"
      ],
      "metadata": {
        "colab": {
          "base_uri": "https://localhost:8080/",
          "height": 211
        },
        "id": "EzPS7uk32Fud",
        "outputId": "869f877b-0e8f-468a-b854-8d26140176e9"
      },
      "execution_count": 16,
      "outputs": [
        {
          "output_type": "execute_result",
          "data": {
            "text/plain": [
              "<matplotlib.image.AxesImage at 0x7fec97686170>"
            ]
          },
          "metadata": {},
          "execution_count": 16
        },
        {
          "output_type": "display_data",
          "data": {
            "text/plain": [
              "<Figure size 640x480 with 1 Axes>"
            ],
            "image/png": "[encoded data removed]"
          },
          "metadata": {}
        }
      ]
    },
    {
      "cell_type": "markdown",
      "source": [
        "### imgaug"
      ],
      "metadata": {
        "id": "nKeNE9q_2eSB"
      }
    },
    {
      "cell_type": "code",
      "source": [
        "!pip install imgaug"
      ],
      "metadata": {
        "id": "MSWmMtzQ2giJ"
      },
      "execution_count": null,
      "outputs": []
    },
    {
      "cell_type": "code",
      "source": [
        "from imgaug import augmenters as iaa\n",
        "import imgaug as ia"
      ],
      "metadata": {
        "id": "wxw0zbGv2sWP"
      },
      "execution_count": 18,
      "outputs": []
    },
    {
      "cell_type": "code",
      "source": [
        "transform_ia_seq = iaa.Sequential([\n",
        "    iaa.Fliplr(0.5),\n",
        "    iaa.Pad(px=4),\n",
        "    iaa.CropToFixedSize(width=32, height=32),\n",
        "    iaa.Affine(rotate=(-30, 30))\n",
        "])\n",
        "\n",
        "class ImgAugTransform:\n",
        "    def __init__(self, ia_seq):\n",
        "        self.ia_seq = ia_seq\n",
        "\n",
        "    def __call__(self, image, target=None):\n",
        "        image = self.ia_seq.augment_image(np.array(image))\n",
        "        if target:\n",
        "            return image, target\n",
        "        else:\n",
        "            return image"
      ],
      "metadata": {
        "id": "XkpG6hZ03fiB"
      },
      "execution_count": 19,
      "outputs": []
    },
    {
      "cell_type": "code",
      "source": [
        "transform_ia = ImgAugTransform(transform_ia_seq)\n",
        "transform = transforms.Compose([\n",
        "    transform_ia,\n",
        "    transforms.ToTensor(),\n",
        "    transforms.Normalize((0.5, 0.5, 0.5), (0.5, 0.5, 0.5)),\n",
        "])\n",
        "train_dataset = CIFAR10('./cifar10_data', train=True, download=True, transform=transform)\n",
        "train_loader = DataLoader(train_dataset, batch_size=4, shuffle=True, num_workers=4)\n",
        "X, y = next(iter(train_loader))\n",
        "X = make_grid(X).permute(1, 2, 0)\n",
        "X = X / 2 + 0.5\n",
        "plt.imshow(X)"
      ],
      "metadata": {
        "colab": {
          "base_uri": "https://localhost:8080/",
          "height": 229
        },
        "id": "PFj0Wlly3p3-",
        "outputId": "605fb032-110d-4d16-ae33-db7ea06ec207"
      },
      "execution_count": 20,
      "outputs": [
        {
          "output_type": "stream",
          "name": "stdout",
          "text": [
            "Files already downloaded and verified\n"
          ]
        },
        {
          "output_type": "execute_result",
          "data": {
            "text/plain": [
              "<matplotlib.image.AxesImage at 0x7fecba3fe4d0>"
            ]
          },
          "metadata": {},
          "execution_count": 20
        },
        {
          "output_type": "display_data",
          "data": {
            "text/plain": [
              "<Figure size 640x480 with 1 Axes>"
            ],
            "image/png": "[encoded data removed]"
          },
          "metadata": {}
        }
      ]
    },
    {
      "cell_type": "markdown",
      "source": [
        "## Data augmentationで学習"
      ],
      "metadata": {
        "id": "PbB4x8hF6-EH"
      }
    },
    {
      "cell_type": "code",
      "source": [
        "transform = transforms.Compose([\n",
        "    transforms.RandomHorizontalFlip(),\n",
        "    transforms.RandomCrop(32, padding=4),\n",
        "    transforms.RandomRotation(30),\n",
        "    transforms.ToTensor(),\n",
        "    transforms.Normalize((0.5, 0.5, 0.5), (0.5, 0.5, 0.5)),\n",
        "])\n",
        "\n",
        "transform_val = transforms.Compose([\n",
        "    transforms.ToTensor(),\n",
        "    transforms.Normalize((0.5, 0.5, 0.5), (0.5, 0.5, 0.5)),\n",
        "])\n",
        "\n",
        "train_dataset = CIFAR10('./cifar10_data', train=True, download=True, transform=transform)\n",
        "val_dataset = CIFAR10('./cifar10_data', train=False, download=True, transform=transform_val)\n",
        "train_loader = DataLoader(train_dataset, batch_size=128, shuffle=True, num_workers=6)\n",
        "val_loader = DataLoader(val_dataset, batch_size=128, num_workers=6)"
      ],
      "metadata": {
        "colab": {
          "base_uri": "https://localhost:8080/"
        },
        "id": "-7QfEGTI6-7W",
        "outputId": "b4d618e2-71a4-449a-e05a-cb7114675dfe"
      },
      "execution_count": 21,
      "outputs": [
        {
          "output_type": "stream",
          "name": "stdout",
          "text": [
            "Files already downloaded and verified\n",
            "Files already downloaded and verified\n"
          ]
        },
        {
          "output_type": "stream",
          "name": "stderr",
          "text": [
            "/usr/local/lib/python3.10/dist-packages/torch/utils/data/dataloader.py:558: UserWarning: This DataLoader will create 6 worker processes in total. Our suggested max number of worker in current system is 2, which is smaller than what this DataLoader is going to create. Please be aware that excessive worker creation might get DataLoader running slow or even freeze, lower the worker number to avoid potential slowness/freeze if necessary.\n",
            "  warnings.warn(_create_warning_msg(\n"
          ]
        }
      ]
    },
    {
      "cell_type": "code",
      "source": [
        "conv_model = utils.get_conv_model(in_ch=3)\n",
        "opt = optim.Adam(conv_model.parameters(), lr=0.03)\n",
        "train_losses, val_losses, val_accuracies = utils.learn(conv_model, train_loader, val_loader, opt, F.cross_entropy, 10)"
      ],
      "metadata": {
        "colab": {
          "base_uri": "https://localhost:8080/"
        },
        "id": "TowPlZXz7O7a",
        "outputId": "d2243d16-c9be-497c-d37c-5757d9767f46"
      },
      "execution_count": 23,
      "outputs": [
        {
          "output_type": "stream",
          "name": "stderr",
          "text": [
            "                                                           "
          ]
        },
        {
          "output_type": "stream",
          "name": "stdout",
          "text": [
            "epoch: 0: train error: 1.7675053683083382, validation error: 1.5877545589133153, validation accuracy: 0.4219738924050633\n"
          ]
        },
        {
          "output_type": "stream",
          "name": "stderr",
          "text": [
            "                                                           "
          ]
        },
        {
          "output_type": "stream",
          "name": "stdout",
          "text": [
            "epoch: 1: train error: 1.5948810534708946, validation error: 1.5057222873349734, validation accuracy: 0.4467958860759494\n"
          ]
        },
        {
          "output_type": "stream",
          "name": "stderr",
          "text": [
            "                                                           "
          ]
        },
        {
          "output_type": "stream",
          "name": "stdout",
          "text": [
            "epoch: 2: train error: 1.5422944400621497, validation error: 1.4360339913187148, validation accuracy: 0.4742879746835443\n"
          ]
        },
        {
          "output_type": "stream",
          "name": "stderr",
          "text": [
            "                                                           "
          ]
        },
        {
          "output_type": "stream",
          "name": "stdout",
          "text": [
            "epoch: 3: train error: 1.5182867662985917, validation error: 1.417557345160955, validation accuracy: 0.4787381329113924\n"
          ]
        },
        {
          "output_type": "stream",
          "name": "stderr",
          "text": [
            "                                                           "
          ]
        },
        {
          "output_type": "stream",
          "name": "stdout",
          "text": [
            "epoch: 4: train error: 1.4910466448425332, validation error: 1.3507335638698144, validation accuracy: 0.5060324367088608\n"
          ]
        },
        {
          "output_type": "stream",
          "name": "stderr",
          "text": [
            "                                                           "
          ]
        },
        {
          "output_type": "stream",
          "name": "stdout",
          "text": [
            "epoch: 5: train error: 1.4784680217733164, validation error: 1.4465204326412346, validation accuracy: 0.47310126582278483\n"
          ]
        },
        {
          "output_type": "stream",
          "name": "stderr",
          "text": [
            "                                                           "
          ]
        },
        {
          "output_type": "stream",
          "name": "stdout",
          "text": [
            "epoch: 6: train error: 1.4687515390498558, validation error: 1.3407567015177086, validation accuracy: 0.510878164556962\n"
          ]
        },
        {
          "output_type": "stream",
          "name": "stderr",
          "text": [
            "                                                           "
          ]
        },
        {
          "output_type": "stream",
          "name": "stdout",
          "text": [
            "epoch: 7: train error: 1.453579972162271, validation error: 1.3277128829231746, validation accuracy: 0.5135482594936709\n"
          ]
        },
        {
          "output_type": "stream",
          "name": "stderr",
          "text": [
            "                                                           "
          ]
        },
        {
          "output_type": "stream",
          "name": "stdout",
          "text": [
            "epoch: 8: train error: 1.446475001857104, validation error: 1.4108955347085301, validation accuracy: 0.48823180379746833\n"
          ]
        },
        {
          "output_type": "stream",
          "name": "stderr",
          "text": [
            "                                                           "
          ]
        },
        {
          "output_type": "stream",
          "name": "stdout",
          "text": [
            "epoch: 9: train error: 1.4456422911275684, validation error: 1.3566775518127634, validation accuracy: 0.5117681962025317\n"
          ]
        },
        {
          "output_type": "stream",
          "name": "stderr",
          "text": [
            "\r"
          ]
        }
      ]
    },
    {
      "cell_type": "code",
      "source": [
        "train_dataset_no_aug = CIFAR10('./cifar10_data', train=True, download=True, transform=transform_val)\n",
        "train_loader_no_aug = DataLoader(train_dataset_no_aug, batch_size=128, shuffle=True, num_workers=4)\n",
        "conv_model_no_aug = utils.get_conv_model(in_ch=3)\n",
        "opt_no_aug = optim.Adam(conv_model_no_aug.parameters(), lr=0.03)\n",
        "train_losses, val_losses, val_accuracies = utils.learn(conv_model_no_aug, train_loader_no_aug, val_loader, opt_no_aug, F.cross_entropy, 10)"
      ],
      "metadata": {
        "colab": {
          "base_uri": "https://localhost:8080/"
        },
        "id": "mLRB164b7anr",
        "outputId": "92d2dc63-85a5-49ba-b20a-e63a165efe55"
      },
      "execution_count": 24,
      "outputs": [
        {
          "output_type": "stream",
          "name": "stdout",
          "text": [
            "Files already downloaded and verified\n"
          ]
        },
        {
          "output_type": "stream",
          "name": "stderr",
          "text": [
            "                                                           "
          ]
        },
        {
          "output_type": "stream",
          "name": "stdout",
          "text": [
            "epoch: 0: train error: 1.6045268975255433, validation error: 1.4341335115553457, validation accuracy: 0.4844738924050633\n"
          ]
        },
        {
          "output_type": "stream",
          "name": "stderr",
          "text": [
            "                                                           "
          ]
        },
        {
          "output_type": "stream",
          "name": "stdout",
          "text": [
            "epoch: 1: train error: 1.4003837038488949, validation error: 1.3900404942186573, validation accuracy: 0.49238528481012656\n"
          ]
        },
        {
          "output_type": "stream",
          "name": "stderr",
          "text": [
            "                                                           "
          ]
        },
        {
          "output_type": "stream",
          "name": "stdout",
          "text": [
            "epoch: 2: train error: 1.3260267829651113, validation error: 1.3240209983873972, validation accuracy: 0.5155261075949367\n"
          ]
        },
        {
          "output_type": "stream",
          "name": "stderr",
          "text": [
            "                                                           "
          ]
        },
        {
          "output_type": "stream",
          "name": "stdout",
          "text": [
            "epoch: 3: train error: 1.2753967299790638, validation error: 1.3398371361478973, validation accuracy: 0.5206685126582279\n"
          ]
        },
        {
          "output_type": "stream",
          "name": "stderr",
          "text": [
            "                                                           "
          ]
        },
        {
          "output_type": "stream",
          "name": "stdout",
          "text": [
            "epoch: 4: train error: 1.2453838272777664, validation error: 1.2639546439617495, validation accuracy: 0.546182753164557\n"
          ]
        },
        {
          "output_type": "stream",
          "name": "stderr",
          "text": [
            "                                                           "
          ]
        },
        {
          "output_type": "stream",
          "name": "stdout",
          "text": [
            "epoch: 5: train error: 1.2186695585775253, validation error: 1.2344336313537405, validation accuracy: 0.5568631329113924\n"
          ]
        },
        {
          "output_type": "stream",
          "name": "stderr",
          "text": [
            "                                                           "
          ]
        },
        {
          "output_type": "stream",
          "name": "stdout",
          "text": [
            "epoch: 6: train error: 1.2023007150196359, validation error: 1.255384541765044, validation accuracy: 0.5494462025316456\n"
          ]
        },
        {
          "output_type": "stream",
          "name": "stderr",
          "text": [
            "                                                           "
          ]
        },
        {
          "output_type": "stream",
          "name": "stdout",
          "text": [
            "epoch: 7: train error: 1.1847451038067909, validation error: 1.231000980244407, validation accuracy: 0.5657634493670886\n"
          ]
        },
        {
          "output_type": "stream",
          "name": "stderr",
          "text": [
            "                                                           "
          ]
        },
        {
          "output_type": "stream",
          "name": "stdout",
          "text": [
            "epoch: 8: train error: 1.1683734170616131, validation error: 1.2513167511058758, validation accuracy: 0.5520174050632911\n"
          ]
        },
        {
          "output_type": "stream",
          "name": "stderr",
          "text": [
            "                                                           "
          ]
        },
        {
          "output_type": "stream",
          "name": "stdout",
          "text": [
            "epoch: 9: train error: 1.1582882712259317, validation error: 1.2133777911150003, validation accuracy: 0.5644778481012658\n"
          ]
        },
        {
          "output_type": "stream",
          "name": "stderr",
          "text": [
            "\r"
          ]
        }
      ]
    }
  ]
}