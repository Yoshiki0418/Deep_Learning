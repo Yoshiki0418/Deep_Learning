{
  "nbformat": 4,
  "nbformat_minor": 0,
  "metadata": {
    "colab": {
      "provenance": [],
      "authorship_tag": "ABX9TyO0tlfJ21OwnLjdCf8QitI8",
      "include_colab_link": true
    },
    "kernelspec": {
      "name": "python3",
      "display_name": "Python 3"
    },
    "language_info": {
      "name": "python"
    }
  },
  "cells": [
    {
      "cell_type": "markdown",
      "metadata": {
        "id": "view-in-github",
        "colab_type": "text"
      },
      "source": [
        "<a href=\"https://colab.research.google.com/github/Yoshiki0418/Deep_Learning/blob/main/DL_Lecture1/nn_module.ipynb\" target=\"_parent\"><img src=\"https://colab.research.google.com/assets/colab-badge.svg\" alt=\"Open In Colab\"/></a>"
      ]
    },
    {
      "cell_type": "markdown",
      "source": [
        "# Pytorchのnnモジュール"
      ],
      "metadata": {
        "id": "cHI-t1ptleLI"
      }
    },
    {
      "cell_type": "code",
      "execution_count": 10,
      "metadata": {
        "id": "quE4nqpblSpt"
      },
      "outputs": [],
      "source": [
        "import torch\n",
        "from torch import nn\n",
        "from torch.nn import functional as F\n",
        "from sklearn import datasets\n",
        "import matplotlib.pyplot as plt\n",
        "from sklearn.model_selection import train_test_split\n",
        "import numpy as np"
      ]
    },
    {
      "cell_type": "code",
      "source": [
        "linear = nn.Linear(64, 30) # --> nn.Linear(input_dim, output_dim)\n",
        "list(linear.parameters())"
      ],
      "metadata": {
        "colab": {
          "base_uri": "https://localhost:8080/"
        },
        "id": "tU635BZ--4sy",
        "outputId": "feb4a4fe-e995-4303-8bb6-9b74f636e46c"
      },
      "execution_count": 11,
      "outputs": [
        {
          "output_type": "execute_result",
          "data": {
            "text/plain": [
              "[Parameter containing:\n",
              " tensor([[-0.0848,  0.1023,  0.0122,  ..., -0.0013, -0.1213, -0.0543],\n",
              "         [ 0.0306, -0.0220, -0.0640,  ..., -0.0692, -0.0896, -0.0756],\n",
              "         [-0.0616, -0.0943, -0.0320,  ..., -0.0549,  0.1060,  0.1180],\n",
              "         ...,\n",
              "         [-0.1193, -0.0129, -0.0196,  ...,  0.0851,  0.0219,  0.0102],\n",
              "         [ 0.0624, -0.1028, -0.0473,  ..., -0.0913, -0.0855, -0.0069],\n",
              "         [-0.1108, -0.0390, -0.1168,  ...,  0.0872, -0.0018,  0.0341]],\n",
              "        requires_grad=True),\n",
              " Parameter containing:\n",
              " tensor([ 0.1150,  0.0057,  0.0470, -0.0432, -0.0717, -0.0918, -0.0806,  0.0898,\n",
              "          0.0638,  0.0099,  0.0184, -0.0161,  0.0643,  0.1082, -0.0071, -0.0633,\n",
              "          0.1025, -0.1098,  0.0522,  0.0491, -0.0021,  0.0945, -0.0927, -0.0372,\n",
              "          0.0802, -0.0106, -0.1046, -0.0022,  0.1180, -0.0133],\n",
              "        requires_grad=True)]"
            ]
          },
          "metadata": {},
          "execution_count": 11
        }
      ]
    },
    {
      "cell_type": "code",
      "source": [
        "print(linear.weight.shape) # weight.shape --> (output_dim, input_dim)\n",
        "print(linear.bias.shape)"
      ],
      "metadata": {
        "colab": {
          "base_uri": "https://localhost:8080/"
        },
        "id": "gLu34Thh_XYs",
        "outputId": "a8acf10e-ad57-4405-af08-45a671c988cc"
      },
      "execution_count": 12,
      "outputs": [
        {
          "output_type": "stream",
          "name": "stdout",
          "text": [
            "torch.Size([30, 64])\n",
            "torch.Size([30])\n"
          ]
        }
      ]
    },
    {
      "cell_type": "code",
      "source": [
        "# 順伝播\n",
        "X = torch.randn((5, 64)) # --> (batch_size, data)\n",
        "Z = linear(X)\n",
        "Z.shape"
      ],
      "metadata": {
        "colab": {
          "base_uri": "https://localhost:8080/"
        },
        "id": "lbnBf8CeBWDk",
        "outputId": "00c12668-8f19-4747-e06a-01a283c9271f"
      },
      "execution_count": 13,
      "outputs": [
        {
          "output_type": "execute_result",
          "data": {
            "text/plain": [
              "torch.Size([5, 30])"
            ]
          },
          "metadata": {},
          "execution_count": 13
        }
      ]
    },
    {
      "cell_type": "markdown",
      "source": [
        "## MLP実装"
      ],
      "metadata": {
        "id": "6C9Ke6X5BvAq"
      }
    },
    {
      "cell_type": "code",
      "source": [
        "# 1. nn.クラスとF.関数を組み合わせたケース\n",
        "class MLP(nn.Module):\n",
        "    def __init__(self, input_dim, hid_dim, out_dim):\n",
        "        super().__init__()\n",
        "        self.l1 = nn.Linear(input_dim, hid_dim)\n",
        "        self.l2 = nn.Linear(hid_dim, out_dim)\n",
        "\n",
        "    def forward(self, x):\n",
        "        x = self.l1(x)\n",
        "        x = F.relu(x)\n",
        "        x = self.l2(x)\n",
        "        return x"
      ],
      "metadata": {
        "id": "_YmXW8C6pAU8"
      },
      "execution_count": 14,
      "outputs": []
    },
    {
      "cell_type": "code",
      "source": [
        "# 順伝播\n",
        "model = MLP(64, 30, 10)\n",
        "X = torch.randn((5, 64))\n",
        "y_pred = model(X)\n",
        "y_pred.shape"
      ],
      "metadata": {
        "colab": {
          "base_uri": "https://localhost:8080/"
        },
        "id": "O86Mkic9DQHl",
        "outputId": "2e2870bf-be22-485e-b908-fd75965396aa"
      },
      "execution_count": 15,
      "outputs": [
        {
          "output_type": "execute_result",
          "data": {
            "text/plain": [
              "torch.Size([5, 10])"
            ]
          },
          "metadata": {},
          "execution_count": 15
        }
      ]
    },
    {
      "cell_type": "code",
      "source": [
        "# 2. nn.クラスのみで構成するケース\n",
        "class MLP(nn.Module):\n",
        "    def __init__(self, input_dim, hid_dim, out_dim):\n",
        "        super().__init__()\n",
        "        self.l1 = nn.Linear(input_dim, hid_dim)\n",
        "        self.l2 = nn.Linear(hid_dim, out_dim)\n",
        "        self.relu = nn.ReLU()\n",
        "\n",
        "    def forward(self, x):\n",
        "        x = self.l1(x)\n",
        "        x = self.relu(x)\n",
        "        x = self.l2(x)\n",
        "        return x"
      ],
      "metadata": {
        "id": "wPyJF32xH9wh"
      },
      "execution_count": 16,
      "outputs": []
    },
    {
      "cell_type": "code",
      "source": [
        "# 順伝播\n",
        "model = MLP(64, 30, 10)\n",
        "X = torch.randn((5,64))\n",
        "y_pred = model(X)\n",
        "y_pred.shape"
      ],
      "metadata": {
        "colab": {
          "base_uri": "https://localhost:8080/"
        },
        "id": "l_cQyCo8yvZg",
        "outputId": "faeaeaf7-e081-4dd0-ace0-1ed2032758a4"
      },
      "execution_count": 17,
      "outputs": [
        {
          "output_type": "execute_result",
          "data": {
            "text/plain": [
              "torch.Size([5, 10])"
            ]
          },
          "metadata": {},
          "execution_count": 17
        }
      ]
    },
    {
      "cell_type": "code",
      "source": [
        "# 3. nn.Sequentialを使ったケース\n",
        "class MLP(nn.Module):\n",
        "    def __init__(self, input_dim, hid_dim, out_dim):\n",
        "        super().__init__()\n",
        "        self.block = nn.Sequential(\n",
        "            nn.Linear(input_dim, hid_dim),\n",
        "            nn.ReLU(),\n",
        "            nn.Linear(hid_dim, out_dim),\n",
        "        )\n",
        "\n",
        "    def forward(self, x):\n",
        "        x = self.block(x)\n",
        "        return x"
      ],
      "metadata": {
        "id": "dNB_HaeizDIS"
      },
      "execution_count": 18,
      "outputs": []
    },
    {
      "cell_type": "code",
      "source": [
        "# 順伝播\n",
        "model = MLP(64, 30, 10)\n",
        "X = torch.randn((5,64))\n",
        "y_pred = model(X)\n",
        "y_pred.shape"
      ],
      "metadata": {
        "colab": {
          "base_uri": "https://localhost:8080/"
        },
        "id": "BeQZ21bZz3Rm",
        "outputId": "ffbbb609-85f9-45eb-b341-2d5b8c131001"
      },
      "execution_count": 19,
      "outputs": [
        {
          "output_type": "execute_result",
          "data": {
            "text/plain": [
              "torch.Size([5, 10])"
            ]
          },
          "metadata": {},
          "execution_count": 19
        }
      ]
    },
    {
      "cell_type": "code",
      "source": [
        "class MLP(nn.Module):\n",
        "    def __init__(self, input_dim, hid_dim, out_dim):\n",
        "        super().__init__()\n",
        "        self.block = nn.Sequential(\n",
        "            nn.Linear(input_dim, hid_dim),\n",
        "            nn.ReLU(),\n",
        "            nn.Linear(hid_dim, out_dim),\n",
        "        )\n",
        "\n",
        "    def forward(self, x):\n",
        "        x = self.block(x)\n",
        "        return x\n",
        "\n",
        "# ===データの準備====\n",
        "dataset = datasets.load_digits()\n",
        "data = dataset['data']\n",
        "target = dataset['target']\n",
        "images = dataset['images']\n",
        "X_train, X_val, y_train, y_val = train_test_split(images, target, test_size=0.2, random_state=42)\n",
        "X_train_mean = X_train.mean()\n",
        "X_train_std = X_train.std()\n",
        "X_train = (X_train - X_train_mean) / X_train_std\n",
        "X_val = (X_val - X_train_mean) / X_train_std\n",
        "X_train = torch.tensor(X_train.reshape(-1, 64), dtype=torch.float32)\n",
        "X_val = torch.tensor(X_val.reshape(-1, 64), dtype=torch.float32)\n",
        "y_train = torch.tensor(y_train)\n",
        "y_val = torch.tensor(y_val)\n",
        "batch_size = 30\n",
        "num_batches = np.ceil(len(y_train)/batch_size).astype(int)\n",
        "model = MLP(64, 30, 10)\n",
        "learning_rate = 0.03\n",
        "epochs = 30\n",
        "\n",
        "# ログ\n",
        "train_losses = []\n",
        "val_losses = []\n",
        "val_accuracies = []\n",
        "\n",
        "# ===学習====q\n",
        "for epoch in range(epochs):\n",
        "    shuffled_indices = np.random.permutation(len(y_train))\n",
        "    running_loss = 0.0\n",
        "    for batch in range(num_batches):\n",
        "        start = batch * batch_size\n",
        "        end = start + batch_size\n",
        "\n",
        "        batch_indices = shuffled_indices[start:end]\n",
        "        X = X_train[batch_indices]\n",
        "        y = y_train[batch_indices]\n",
        "\n",
        "        y_pred = model(X)\n",
        "        loss = F.cross_entropy(y_pred, y)\n",
        "        loss.backward()\n",
        "        running_loss += loss.item()\n",
        "\n",
        "        # パラメータの更新\n",
        "        with torch.no_grad():\n",
        "            for param in model.parameters():\n",
        "                param -= learning_rate * param.grad\n",
        "        model.zero_grad()\n",
        "\n",
        "    # val\n",
        "    with torch.no_grad():\n",
        "        y_val_pred = model(X_val)\n",
        "        val_loss = F.cross_entropy(y_val_pred, y_val)\n",
        "        val_accuracy = torch.sum(torch.argmax(y_val_pred, dim=-1) == y_val) / y_val.shape[0]\n",
        "\n",
        "    train_losses.append(running_loss/num_batches)\n",
        "    val_losses.append(val_loss.item())\n",
        "    val_accuracies.append(val_accuracy)\n",
        "    print(f'epoch: {epoch}: train error: {running_loss/num_batches}, validation error: {val_loss.item()}, validation accuracy: {val_accuracy}')"
      ],
      "metadata": {
        "colab": {
          "base_uri": "https://localhost:8080/"
        },
        "id": "sCM02xQt06bK",
        "outputId": "79d2271a-558a-4aa0-e07c-e675bdae7302"
      },
      "execution_count": 27,
      "outputs": [
        {
          "output_type": "stream",
          "name": "stdout",
          "text": [
            "epoch: 0: train error: 2.0777708515524864, validation error: 1.8280507326126099, validation accuracy: 0.6583333611488342\n",
            "epoch: 1: train error: 1.5124255443612735, validation error: 1.2150733470916748, validation accuracy: 0.8333333134651184\n",
            "epoch: 2: train error: 0.9600045879681905, validation error: 0.751134991645813, validation accuracy: 0.9111111164093018\n",
            "epoch: 3: train error: 0.6335866159449021, validation error: 0.5291110873222351, validation accuracy: 0.9027777910232544\n",
            "epoch: 4: train error: 0.46619797435899574, validation error: 0.3935423195362091, validation accuracy: 0.9277777671813965\n",
            "epoch: 5: train error: 0.3717859474321206, validation error: 0.3239166736602783, validation accuracy: 0.9305555820465088\n",
            "epoch: 6: train error: 0.31386064644902945, validation error: 0.27837425470352173, validation accuracy: 0.9333333373069763\n",
            "epoch: 7: train error: 0.2696947719280918, validation error: 0.24628081917762756, validation accuracy: 0.9388889074325562\n",
            "epoch: 8: train error: 0.24246220709756017, validation error: 0.22249527275562286, validation accuracy: 0.9444444179534912\n",
            "epoch: 9: train error: 0.21903917705640197, validation error: 0.20525555312633514, validation accuracy: 0.9444444179534912\n",
            "epoch: 10: train error: 0.20071749901399016, validation error: 0.19035488367080688, validation accuracy: 0.949999988079071\n",
            "epoch: 11: train error: 0.185927868510286, validation error: 0.18149344623088837, validation accuracy: 0.9527778029441833\n",
            "epoch: 12: train error: 0.1759081343188882, validation error: 0.16970595717430115, validation accuracy: 0.9527778029441833\n",
            "epoch: 13: train error: 0.1645118435844779, validation error: 0.1615956723690033, validation accuracy: 0.9611111283302307\n",
            "epoch: 14: train error: 0.15552447775068381, validation error: 0.15426191687583923, validation accuracy: 0.9611111283302307\n",
            "epoch: 15: train error: 0.14720539802995822, validation error: 0.1501021683216095, validation accuracy: 0.9555555582046509\n",
            "epoch: 16: train error: 0.14035604583720365, validation error: 0.14617228507995605, validation accuracy: 0.9555555582046509\n",
            "epoch: 17: train error: 0.1345746652999272, validation error: 0.1401253640651703, validation accuracy: 0.9555555582046509\n",
            "epoch: 18: train error: 0.12933787113676468, validation error: 0.13439598679542542, validation accuracy: 0.9638888835906982\n",
            "epoch: 19: train error: 0.12388870275268953, validation error: 0.13292890787124634, validation accuracy: 0.9583333134651184\n",
            "epoch: 20: train error: 0.12009974755346775, validation error: 0.1288251429796219, validation accuracy: 0.9583333134651184\n",
            "epoch: 21: train error: 0.11447837514181931, validation error: 0.12648726999759674, validation accuracy: 0.9611111283302307\n",
            "epoch: 22: train error: 0.11210361340393622, validation error: 0.12432130426168442, validation accuracy: 0.9611111283302307\n",
            "epoch: 23: train error: 0.10828025670101245, validation error: 0.12072274088859558, validation accuracy: 0.9638888835906982\n",
            "epoch: 24: train error: 0.10469891224056482, validation error: 0.1193484514951706, validation accuracy: 0.9611111283302307\n",
            "epoch: 25: train error: 0.10080666890523086, validation error: 0.11663135141134262, validation accuracy: 0.9611111283302307\n",
            "epoch: 26: train error: 0.09795932669658214, validation error: 0.11450669914484024, validation accuracy: 0.9611111283302307\n",
            "epoch: 27: train error: 0.09553859212125342, validation error: 0.11447184532880783, validation accuracy: 0.9611111283302307\n",
            "epoch: 28: train error: 0.09292595259224375, validation error: 0.11206702142953873, validation accuracy: 0.9611111283302307\n",
            "epoch: 29: train error: 0.09004956344142556, validation error: 0.1110876202583313, validation accuracy: 0.9611111283302307\n"
          ]
        }
      ]
    },
    {
      "cell_type": "code",
      "source": [
        "plt.plot(train_losses)\n",
        "plt.plot(val_losses)"
      ],
      "metadata": {
        "colab": {
          "base_uri": "https://localhost:8080/",
          "height": 448
        },
        "id": "KCewmZ1q3jq_",
        "outputId": "1fda5a2f-3435-454f-c4f1-f3f50f39a1b2"
      },
      "execution_count": 28,
      "outputs": [
        {
          "output_type": "execute_result",
          "data": {
            "text/plain": [
              "[<matplotlib.lines.Line2D at 0x7bc33b0ed960>]"
            ]
          },
          "metadata": {},
          "execution_count": 28
        },
        {
          "output_type": "display_data",
          "data": {
            "text/plain": [
              "<Figure size 640x480 with 1 Axes>"
            ],
            "image/png": "[encoded data removed]"
          },
          "metadata": {}
        }
      ]
    },
    {
      "cell_type": "markdown",
      "source": [
        "## パラメータのイテレーション"
      ],
      "metadata": {
        "id": "7elScgJVB_28"
      }
    },
    {
      "cell_type": "code",
      "source": [
        "model"
      ],
      "metadata": {
        "colab": {
          "base_uri": "https://localhost:8080/"
        },
        "id": "ukcnaSWxB7Py",
        "outputId": "10328093-72b9-4481-b211-f3d7a964b5f8"
      },
      "execution_count": 29,
      "outputs": [
        {
          "output_type": "execute_result",
          "data": {
            "text/plain": [
              "MLP(\n",
              "  (block): Sequential(\n",
              "    (0): Linear(in_features=64, out_features=30, bias=True)\n",
              "    (1): ReLU()\n",
              "    (2): Linear(in_features=30, out_features=10, bias=True)\n",
              "  )\n",
              ")"
            ]
          },
          "metadata": {},
          "execution_count": 29
        }
      ]
    },
    {
      "cell_type": "code",
      "source": [
        "for param in model.parameters():\n",
        "    print(param.shape)"
      ],
      "metadata": {
        "colab": {
          "base_uri": "https://localhost:8080/"
        },
        "id": "UkmPuQa0CGBv",
        "outputId": "ed276e78-2fba-44c7-85fc-50d15049d335"
      },
      "execution_count": 30,
      "outputs": [
        {
          "output_type": "stream",
          "name": "stdout",
          "text": [
            "torch.Size([30, 64])\n",
            "torch.Size([30])\n",
            "torch.Size([10, 30])\n",
            "torch.Size([10])\n"
          ]
        }
      ]
    },
    {
      "cell_type": "code",
      "source": [
        "for name, param in model.named_parameters():\n",
        "    print(name, param.shape)"
      ],
      "metadata": {
        "colab": {
          "base_uri": "https://localhost:8080/"
        },
        "id": "bUXsj2EhCZJU",
        "outputId": "97780c23-bd66-4c4f-bcce-fdc9c0bdc72e"
      },
      "execution_count": 31,
      "outputs": [
        {
          "output_type": "stream",
          "name": "stdout",
          "text": [
            "block.0.weight torch.Size([30, 64])\n",
            "block.0.bias torch.Size([30])\n",
            "block.2.weight torch.Size([10, 30])\n",
            "block.2.bias torch.Size([10])\n"
          ]
        }
      ]
    },
    {
      "cell_type": "markdown",
      "source": [
        "## コンポーネントのイテレーション"
      ],
      "metadata": {
        "id": "h8cMP1PDC6zG"
      }
    },
    {
      "cell_type": "code",
      "source": [
        "for module in model.modules():\n",
        "    print(module)"
      ],
      "metadata": {
        "colab": {
          "base_uri": "https://localhost:8080/"
        },
        "id": "Ep94e9qaC5mM",
        "outputId": "b7d9918e-0f11-4b6e-855d-2441a43eee9e"
      },
      "execution_count": 32,
      "outputs": [
        {
          "output_type": "stream",
          "name": "stdout",
          "text": [
            "MLP(\n",
            "  (block): Sequential(\n",
            "    (0): Linear(in_features=64, out_features=30, bias=True)\n",
            "    (1): ReLU()\n",
            "    (2): Linear(in_features=30, out_features=10, bias=True)\n",
            "  )\n",
            ")\n",
            "Sequential(\n",
            "  (0): Linear(in_features=64, out_features=30, bias=True)\n",
            "  (1): ReLU()\n",
            "  (2): Linear(in_features=30, out_features=10, bias=True)\n",
            ")\n",
            "Linear(in_features=64, out_features=30, bias=True)\n",
            "ReLU()\n",
            "Linear(in_features=30, out_features=10, bias=True)\n"
          ]
        }
      ]
    }
  ]
}