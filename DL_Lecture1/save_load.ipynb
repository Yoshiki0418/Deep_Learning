{
  "nbformat": 4,
  "nbformat_minor": 0,
  "metadata": {
    "colab": {
      "provenance": [],
      "authorship_tag": "ABX9TyPICfackMJBka791cBpylQL",
      "include_colab_link": true
    },
    "kernelspec": {
      "name": "python3",
      "display_name": "Python 3"
    },
    "language_info": {
      "name": "python"
    }
  },
  "cells": [
    {
      "cell_type": "markdown",
      "metadata": {
        "id": "view-in-github",
        "colab_type": "text"
      },
      "source": [
        "<a href=\"https://colab.research.google.com/github/Yoshiki0418/Deep_Learning/blob/main/DL_Lecture1/save_load.ipynb\" target=\"_parent\"><img src=\"https://colab.research.google.com/assets/colab-badge.svg\" alt=\"Open In Colab\"/></a>"
      ]
    },
    {
      "cell_type": "markdown",
      "source": [
        "# SaveとLoad"
      ],
      "metadata": {
        "id": "DAqZ6vGIQOYx"
      }
    },
    {
      "cell_type": "code",
      "execution_count": null,
      "metadata": {
        "id": "n9ZxGpMLQJCx"
      },
      "outputs": [],
      "source": [
        "import torchvision\n",
        "import torch\n",
        "from torchvision import transforms\n",
        "from torch.utils.data import DataLoader\n",
        "import matplotlib.pyplot as plt\n",
        "import numpy as np\n",
        "from torch import optim, nn\n",
        "from torch.nn import functional as F\n",
        "from torch.utils.data import Dataset\n",
        "from sklearn import datasets\n",
        "from sklearn.model_selection import train_test_split"
      ]
    },
    {
      "cell_type": "markdown",
      "source": [
        "## early stopping"
      ],
      "metadata": {
        "id": "_IigniwjQU3u"
      }
    },
    {
      "cell_type": "code",
      "source": [
        "class MyDataset(Dataset):\n",
        "    def __init__(self, X, y, transform=False):\n",
        "        self.X = X\n",
        "        self.y = y\n",
        "        self.transform = transform\n",
        "\n",
        "    def __len__(self):\n",
        "        return len(self.X)\n",
        "\n",
        "    def __getitem__(self, idx):\n",
        "        if self.transform:\n",
        "            return self.transform(self.X[idx]), self.y[idx]\n",
        "        else:\n",
        "            return self.X[idx], self.y[idx]\n",
        "\n",
        "class MLP(nn.Module):\n",
        "    def __init__(self, input_dim, hid_dim, output_din):\n",
        "        super().__init__()\n",
        "        self.flatten = nn.Flatten()\n",
        "        self.block = nn.Sequential(\n",
        "            nn.Linear(input_dim, hid_dim),\n",
        "            nn.ReLU(),\n",
        "            nn.Linear(hid_dim, output_din)\n",
        "        )\n",
        "\n",
        "    def forward(self, x):\n",
        "        x = self.flatten(x)\n",
        "        x = self.block(x)\n",
        "        return x\n",
        "\n",
        "# 学習ループを関数化\n",
        "def learn(model, train_loader, val_loader, optimizer, loss_func, epochs, early_stopping=None):\n",
        "    # ログ\n",
        "    train_losses = []\n",
        "    val_losses = []\n",
        "    val_accuracies = []\n",
        "\n",
        "    best_val_loss = float('inf')\n",
        "    no_improve = 0 # カウント用変数\n",
        "\n",
        "    for epoch in range(epochs):\n",
        "        running_loss = 0.0\n",
        "        running_val_loss = 0.0\n",
        "        running_val_acc = 0.0\n",
        "\n",
        "        for train_batch, data in enumerate(train_loader):\n",
        "            X, y = data\n",
        "            optimizer.zero_grad()\n",
        "            y_pred = model(X)\n",
        "            loss = loss_func(y_pred, y)\n",
        "            running_loss += loss.item()\n",
        "\n",
        "            loss.backward()\n",
        "            optimizer.step()\n",
        "\n",
        "        # validation\n",
        "        with torch.no_grad():\n",
        "            for val_batch, data in enumerate(val_loader):\n",
        "                X_val, y_val = data\n",
        "                preds_val = model(X_val)\n",
        "                val_loss = loss_func(preds_val, y_val)\n",
        "                running_val_loss += val_loss.item()\n",
        "                val_accuracy = torch.sum(torch.argmax(preds_val, dim=-1) == y_val) / y_val.shape[0]\n",
        "                running_val_acc += val_accuracy.item()\n",
        "\n",
        "        train_losses.append(running_loss/(train_batch + 1))\n",
        "        val_losses.append(running_val_loss/(val_batch + 1))\n",
        "        val_accuracies.append(running_val_acc/(val_batch + 1))\n",
        "        print(f'epoch: {epoch}: train error: {train_losses[-1]}, validation error: {val_losses[-1]}, validation accuracy: {val_accuracies[-1]}')\n",
        "\n",
        "        # early stopping\n",
        "        if val_losses[-1] < best_val_loss:\n",
        "            best_val_loss = val_losses[-1]\n",
        "            no_improve = 0\n",
        "        else:\n",
        "            no_improve += 1\n",
        "\n",
        "        if early_stopping and no_improve >= early_stopping:\n",
        "            print('early stopping')\n",
        "            break\n",
        "\n",
        "    return train_losses, val_losses, val_accuracies"
      ],
      "metadata": {
        "id": "EdQ-rflhQXW8"
      },
      "execution_count": null,
      "outputs": []
    },
    {
      "cell_type": "code",
      "source": [
        "# データロード\n",
        "dataset = datasets.load_digits()\n",
        "target = dataset['target']\n",
        "images = dataset['images']\n",
        "images = images * (255. / 16.) # 0~16 -> 0~255\n",
        "images = images.astype(np.uint8)\n",
        "# 学習データと検証データ作成\n",
        "X_train, X_val, y_train, y_val = train_test_split(images, target, test_size=0.2, random_state=42)\n",
        "\n",
        "# DatasetとDataLoader作成\n",
        "transform = transforms.Compose([\n",
        "    transforms.ToTensor(),# 0~255 -> 0~1\n",
        "    transforms.Normalize((.5, ), (.5, )) # 0~1 -> -1~1\n",
        "])\n",
        "\n",
        "batch_size = 32\n",
        "train_dataset = MyDataset(X_train, y_train, transform=transform)\n",
        "val_dataset = MyDataset(X_val, y_val, transform=transform)\n",
        "train_loader = DataLoader(train_dataset, batch_size=batch_size, shuffle=True, num_workers=2)\n",
        "val_loader = DataLoader(val_dataset, batch_size=batch_size, num_workers=2)\n",
        "early_stopping = 5\n",
        "## Refactoring後の学習ループ\n",
        "learning_rate = 0.1\n",
        "model = MLP(64, 30, 10)\n",
        "opt = optim.SGD(model.parameters(), lr=learning_rate)\n",
        "num_epoch = 100\n",
        "train_losses, val_losses, val_accuracies = learn(model, train_loader, val_loader, opt, F.cross_entropy, num_epoch, early_stopping=5)"
      ],
      "metadata": {
        "colab": {
          "base_uri": "https://localhost:8080/"
        },
        "id": "eOwm9A2ZTa74",
        "outputId": "2ea37b8e-f40f-4e26-c8c3-f4aa0f3e016c"
      },
      "execution_count": null,
      "outputs": [
        {
          "output_type": "stream",
          "name": "stdout",
          "text": [
            "epoch: 0: train error: 1.8704739014307659, validation error: 1.2660809655984242, validation accuracy: 0.7864583333333334\n",
            "epoch: 1: train error: 0.8187030792236328, validation error: 0.533705860376358, validation accuracy: 0.9140625\n",
            "epoch: 2: train error: 0.41075304680400426, validation error: 0.33392229427893955, validation accuracy: 0.9296875\n",
            "epoch: 3: train error: 0.27966736753781635, validation error: 0.24689303090174994, validation accuracy: 0.9427083333333334\n",
            "epoch: 4: train error: 0.21738298568460676, validation error: 0.22281160950660706, validation accuracy: 0.9401041666666666\n",
            "epoch: 5: train error: 0.18571470561954712, validation error: 0.1840834574153026, validation accuracy: 0.953125\n",
            "epoch: 6: train error: 0.1634753471447362, validation error: 0.15624616978069147, validation accuracy: 0.9505208333333334\n",
            "epoch: 7: train error: 0.14743212345573636, validation error: 0.15557104845841727, validation accuracy: 0.9505208333333334\n",
            "epoch: 8: train error: 0.1317964465667804, validation error: 0.14095014271636805, validation accuracy: 0.9609375\n",
            "epoch: 9: train error: 0.12077543768617842, validation error: 0.13120113406330347, validation accuracy: 0.9583333333333334\n",
            "epoch: 10: train error: 0.11371505736476845, validation error: 0.14626603604604801, validation accuracy: 0.9557291666666666\n",
            "epoch: 11: train error: 0.10531286233001286, validation error: 0.1245925696566701, validation accuracy: 0.9609375\n",
            "epoch: 12: train error: 0.09821802005171776, validation error: 0.1141936785231034, validation accuracy: 0.96875\n",
            "epoch: 13: train error: 0.09488918247322241, validation error: 0.10937982300917308, validation accuracy: 0.9713541666666666\n",
            "epoch: 14: train error: 0.08734086317320665, validation error: 0.10753212372461955, validation accuracy: 0.96875\n",
            "epoch: 15: train error: 0.08283037746118174, validation error: 0.10491064734136064, validation accuracy: 0.9739583333333334\n",
            "epoch: 16: train error: 0.07801536263691054, validation error: 0.10785492851088445, validation accuracy: 0.96875\n",
            "epoch: 17: train error: 0.07394140476567877, validation error: 0.10314044201125701, validation accuracy: 0.9765625\n",
            "epoch: 18: train error: 0.07226716052326891, validation error: 0.1013922782925268, validation accuracy: 0.9661458333333334\n",
            "epoch: 19: train error: 0.06808509230613709, validation error: 0.09739332692697644, validation accuracy: 0.9739583333333334\n",
            "epoch: 20: train error: 0.06337027895367808, validation error: 0.09695042048891385, validation accuracy: 0.9765625\n",
            "epoch: 21: train error: 0.06112128407176998, validation error: 0.09339104065050681, validation accuracy: 0.9739583333333334\n",
            "epoch: 22: train error: 0.05855188390447034, validation error: 0.0962886957762142, validation accuracy: 0.96875\n",
            "epoch: 23: train error: 0.05764334880643421, validation error: 0.09157486679032445, validation accuracy: 0.9765625\n",
            "epoch: 24: train error: 0.0538015599672993, validation error: 0.09014152362942696, validation accuracy: 0.9765625\n",
            "epoch: 25: train error: 0.05312265105959442, validation error: 0.09238530835136771, validation accuracy: 0.9739583333333334\n",
            "epoch: 26: train error: 0.04976371491534842, validation error: 0.08777230232954025, validation accuracy: 0.9791666666666666\n",
            "epoch: 27: train error: 0.04737448917908801, validation error: 0.09175001232263942, validation accuracy: 0.9713541666666666\n",
            "epoch: 28: train error: 0.044658242579963474, validation error: 0.09328586530561249, validation accuracy: 0.9765625\n",
            "epoch: 29: train error: 0.044413073391964035, validation error: 0.08646653856461246, validation accuracy: 0.9765625\n",
            "epoch: 30: train error: 0.042426750622689725, validation error: 0.08868682663887739, validation accuracy: 0.9765625\n",
            "epoch: 31: train error: 0.0409987794338829, validation error: 0.08859742308656375, validation accuracy: 0.9765625\n",
            "epoch: 32: train error: 0.038150897363407744, validation error: 0.08946559694595635, validation accuracy: 0.9765625\n",
            "epoch: 33: train error: 0.037327083365784754, validation error: 0.08897111013842125, validation accuracy: 0.9817708333333334\n",
            "epoch: 34: train error: 0.036717303107596105, validation error: 0.08606820995919406, validation accuracy: 0.9765625\n",
            "epoch: 35: train error: 0.03478276127328475, validation error: 0.08857704598146181, validation accuracy: 0.9817708333333334\n",
            "epoch: 36: train error: 0.03333441033545467, validation error: 0.0878831425216049, validation accuracy: 0.9765625\n",
            "epoch: 37: train error: 0.0330085420049727, validation error: 0.08789329805100958, validation accuracy: 0.9765625\n",
            "epoch: 38: train error: 0.03222327966036068, validation error: 0.08616066196312507, validation accuracy: 0.9765625\n",
            "epoch: 39: train error: 0.030803574435412883, validation error: 0.08747607904175918, validation accuracy: 0.9765625\n",
            "early stopping\n"
          ]
        }
      ]
    },
    {
      "cell_type": "code",
      "source": [
        "plt.plot(train_losses)\n",
        "plt.plot(val_losses)"
      ],
      "metadata": {
        "colab": {
          "base_uri": "https://localhost:8080/",
          "height": 448
        },
        "id": "_faneWEwTk-K",
        "outputId": "6eedb3aa-2f55-410a-9f50-74cb10522c0d"
      },
      "execution_count": null,
      "outputs": [
        {
          "output_type": "execute_result",
          "data": {
            "text/plain": [
              "[<matplotlib.lines.Line2D at 0x7d0c4ee20df0>]"
            ]
          },
          "metadata": {},
          "execution_count": 4
        },
        {
          "output_type": "display_data",
          "data": {
            "text/plain": [
              "<Figure size 640x480 with 1 Axes>"
            ],
            "image/png": "[encoded data removed]"
          },
          "metadata": {}
        }
      ]
    },
    {
      "cell_type": "markdown",
      "source": [
        "## モデルオブジェクトの保存とロード"
      ],
      "metadata": {
        "id": "cAy1ozA8ZH6f"
      }
    },
    {
      "cell_type": "markdown",
      "source": [
        "モデル全体を保村するときには、一般的に拡張子ptが用いられる"
      ],
      "metadata": {
        "id": "9YY81O9RaBYC"
      }
    },
    {
      "cell_type": "code",
      "source": [
        "torch.save(model, \"sample_model.pt\")\n",
        "loaded_model = torch.load(\"sample_model.pt\")\n",
        "loaded_model"
      ],
      "metadata": {
        "colab": {
          "base_uri": "https://localhost:8080/"
        },
        "id": "CEQ0ijkBZFOw",
        "outputId": "4a6ddd07-10d1-45f5-e3b5-a9306fcf2b39"
      },
      "execution_count": null,
      "outputs": [
        {
          "output_type": "execute_result",
          "data": {
            "text/plain": [
              "MLP(\n",
              "  (flatten): Flatten(start_dim=1, end_dim=-1)\n",
              "  (block): Sequential(\n",
              "    (0): Linear(in_features=64, out_features=30, bias=True)\n",
              "    (1): ReLU()\n",
              "    (2): Linear(in_features=30, out_features=10, bias=True)\n",
              "  )\n",
              ")"
            ]
          },
          "metadata": {},
          "execution_count": 7
        }
      ]
    },
    {
      "cell_type": "markdown",
      "source": [
        "## モデルのパラメータの保存とロード"
      ],
      "metadata": {
        "id": "OAiwQFRWZj2n"
      }
    },
    {
      "cell_type": "markdown",
      "source": [
        "モデルのパラメータのみを保存する場合には、一般的に拡張子pthで保存されることが多い。"
      ],
      "metadata": {
        "id": "D61A2uyJaMGw"
      }
    },
    {
      "cell_type": "code",
      "source": [
        "params = model.state_dict()\n",
        "another_model = MLP(64, 30, 10)\n",
        "another_model.load_state_dict(params)"
      ],
      "metadata": {
        "colab": {
          "base_uri": "https://localhost:8080/"
        },
        "id": "e_TATw8NZmWd",
        "outputId": "a92579aa-27bb-411c-e1c1-647ffa7a1ffe"
      },
      "execution_count": null,
      "outputs": [
        {
          "output_type": "execute_result",
          "data": {
            "text/plain": [
              "<All keys matched successfully>"
            ]
          },
          "metadata": {},
          "execution_count": 8
        }
      ]
    },
    {
      "cell_type": "code",
      "source": [
        "torch.save(model.state_dict(), 'sample_model_state_dict.pth')\n",
        "another_model.load_state_dict(torch.load('sample_model_state_dict.pth'))"
      ],
      "metadata": {
        "colab": {
          "base_uri": "https://localhost:8080/"
        },
        "id": "NalwMx0Laos9",
        "outputId": "c5b17e37-5f1d-42a3-f16e-69ab3e846c1a"
      },
      "execution_count": null,
      "outputs": [
        {
          "output_type": "execute_result",
          "data": {
            "text/plain": [
              "<All keys matched successfully>"
            ]
          },
          "metadata": {},
          "execution_count": 9
        }
      ]
    },
    {
      "cell_type": "code",
      "source": [
        "# モデル保存付き\n",
        "def learn(model, train_loader, val_loader, optimizer, loss_func, num_epoch, early_stopping=None, save_path=None):\n",
        "    # ログ\n",
        "    train_losses = []\n",
        "    val_losses = []\n",
        "    val_accuracies = []\n",
        "\n",
        "    best_val_loss = float('inf')\n",
        "    no_improve = 0 # カウント用変数\n",
        "\n",
        "    for epoch in range(num_epoch):\n",
        "        running_loss = 0.0\n",
        "        running_val_loss = 0.0\n",
        "        running_val_acc = 0.0\n",
        "\n",
        "        for train_batch, data in enumerate(train_loader):\n",
        "\n",
        "            X, y = data\n",
        "            optimizer.zero_grad()\n",
        "            # forward\n",
        "            preds = model(X)\n",
        "            loss = loss_func(preds, y)\n",
        "            running_loss += loss.item()\n",
        "\n",
        "            # backward\n",
        "            loss.backward()\n",
        "            optimizer.step()\n",
        "\n",
        "        # validation\n",
        "        with torch.no_grad():\n",
        "            for val_batch, data in enumerate(val_loader):\n",
        "                X_val, y_val = data\n",
        "                preds_val = model(X_val)\n",
        "                val_loss = loss_func(preds_val, y_val)\n",
        "                running_val_loss += val_loss.item()\n",
        "                val_accuracy = torch.sum(torch.argmax(preds_val, dim=-1) == y_val) / y_val.shape[0]\n",
        "                running_val_acc += val_accuracy.item()\n",
        "\n",
        "        train_losses.append(running_loss/(train_batch + 1))\n",
        "        val_losses.append(running_val_loss/(val_batch + 1))\n",
        "        val_accuracies.append(running_val_acc/(val_batch + 1))\n",
        "        print(f'epoch: {epoch}: train error: {train_losses[-1]}, validation error: {val_losses[-1]}, validation accuracy: {val_accuracies[-1]}')\n",
        "\n",
        "        if val_losses[-1] < best_val_loss:\n",
        "            best_val_loss = val_losses[-1]\n",
        "            no_improve = 0\n",
        "            if save_path is not None:\n",
        "                state = {\n",
        "                'model_state_dict': model.state_dict(),\n",
        "                'optimizer_state_dict': optimizer.state_dict(),\n",
        "                'val_loss': val_losses[-1]\n",
        "                }\n",
        "                torch.save(state, save_path)\n",
        "        else:\n",
        "            no_improve += 1\n",
        "\n",
        "        if early_stopping and no_improve >= early_stopping:\n",
        "            print('Stopping early')\n",
        "            break\n",
        "\n",
        "    return train_losses, val_losses, val_accuracies"
      ],
      "metadata": {
        "id": "WtWFEqV8fQ0o"
      },
      "execution_count": null,
      "outputs": []
    },
    {
      "cell_type": "code",
      "source": [
        "model = MLP(64, 30, 10)\n",
        "opt = optim.SGD(model.parameters(), lr=learning_rate)\n",
        "train_losses, val_losses, val_accuracies = learn(model, train_loader, val_loader, opt, F.cross_entropy, num_epoch, early_stopping=5, save_path='checkparm')"
      ],
      "metadata": {
        "colab": {
          "base_uri": "https://localhost:8080/"
        },
        "id": "jl-YohhPfXEP",
        "outputId": "8e560ae0-54f1-49be-800a-640d893f4380"
      },
      "execution_count": null,
      "outputs": [
        {
          "output_type": "stream",
          "name": "stdout",
          "text": [
            "epoch: 0: train error: 1.7474647071626452, validation error: 1.090665449698766, validation accuracy: 0.8255208333333334\n",
            "epoch: 1: train error: 0.7305539608001709, validation error: 0.521380419532458, validation accuracy: 0.8723958333333334\n",
            "epoch: 2: train error: 0.4069489538669586, validation error: 0.343248891333739, validation accuracy: 0.921875\n",
            "epoch: 3: train error: 0.2825710952281952, validation error: 0.2936784029006958, validation accuracy: 0.8932291666666666\n",
            "epoch: 4: train error: 0.22919729467895295, validation error: 0.22178655986984572, validation accuracy: 0.9348958333333334\n",
            "epoch: 5: train error: 0.19245588646994696, validation error: 0.19005835553010306, validation accuracy: 0.9505208333333334\n",
            "epoch: 6: train error: 0.1669131923880842, validation error: 0.17540879423419634, validation accuracy: 0.9505208333333334\n",
            "epoch: 7: train error: 0.15114641421371036, validation error: 0.15769076409439245, validation accuracy: 0.9583333333333334\n",
            "epoch: 8: train error: 0.13514921317497888, validation error: 0.14779373227308193, validation accuracy: 0.9583333333333334\n",
            "epoch: 9: train error: 0.1264859923058086, validation error: 0.14709643243501583, validation accuracy: 0.9505208333333334\n",
            "epoch: 10: train error: 0.12056574163337548, validation error: 0.13210624549537897, validation accuracy: 0.9583333333333334\n",
            "epoch: 11: train error: 0.10636607615484131, validation error: 0.12164345507820447, validation accuracy: 0.9609375\n",
            "epoch: 12: train error: 0.10269627947774199, validation error: 0.11874661035835743, validation accuracy: 0.9635416666666666\n",
            "epoch: 13: train error: 0.09473960556917721, validation error: 0.11534577080359061, validation accuracy: 0.9635416666666666\n",
            "epoch: 14: train error: 0.09013901203870774, validation error: 0.11558396834880114, validation accuracy: 0.9713541666666666\n",
            "epoch: 15: train error: 0.08499487936496734, validation error: 0.11138948642959197, validation accuracy: 0.9765625\n",
            "epoch: 16: train error: 0.08112515666418606, validation error: 0.10963299420351784, validation accuracy: 0.9713541666666666\n",
            "epoch: 17: train error: 0.07638181191351678, validation error: 0.10275532848512132, validation accuracy: 0.9765625\n",
            "epoch: 18: train error: 0.07255699067480034, validation error: 0.10588471948479612, validation accuracy: 0.9739583333333334\n",
            "epoch: 19: train error: 0.07014139607134792, validation error: 0.10073603829368949, validation accuracy: 0.9713541666666666\n",
            "epoch: 20: train error: 0.06722817307131158, validation error: 0.09902507641042273, validation accuracy: 0.9713541666666666\n",
            "epoch: 21: train error: 0.06335408366802665, validation error: 0.0997077541736265, validation accuracy: 0.9739583333333334\n",
            "epoch: 22: train error: 0.06133757353656822, validation error: 0.09724176411206524, validation accuracy: 0.9765625\n",
            "epoch: 23: train error: 0.059122141243682966, validation error: 0.09921780896062653, validation accuracy: 0.9739583333333334\n",
            "epoch: 24: train error: 0.05699341458578904, validation error: 0.09719468435893457, validation accuracy: 0.9713541666666666\n",
            "epoch: 25: train error: 0.05577179967529244, validation error: 0.09286319728319843, validation accuracy: 0.9791666666666666\n",
            "epoch: 26: train error: 0.05328641886719399, validation error: 0.09980290988460183, validation accuracy: 0.9739583333333334\n",
            "epoch: 27: train error: 0.05184631486319834, validation error: 0.09302582708187401, validation accuracy: 0.9739583333333334\n",
            "epoch: 28: train error: 0.05068336220251189, validation error: 0.0937446029080699, validation accuracy: 0.9739583333333334\n",
            "epoch: 29: train error: 0.04727868343599968, validation error: 0.09264750219881535, validation accuracy: 0.96875\n",
            "epoch: 30: train error: 0.04653871183594068, validation error: 0.09199618641287088, validation accuracy: 0.9739583333333334\n",
            "epoch: 31: train error: 0.04526817459199164, validation error: 0.09552140052740772, validation accuracy: 0.96875\n",
            "epoch: 32: train error: 0.043997207428846094, validation error: 0.09186805008600156, validation accuracy: 0.9739583333333334\n",
            "epoch: 33: train error: 0.04134315966318051, validation error: 0.09069284688060482, validation accuracy: 0.9739583333333334\n",
            "epoch: 34: train error: 0.04063064785053332, validation error: 0.0971050044366469, validation accuracy: 0.9661458333333334\n",
            "epoch: 35: train error: 0.03951443122285936, validation error: 0.09055317177747686, validation accuracy: 0.9739583333333334\n",
            "epoch: 36: train error: 0.03663495967371596, validation error: 0.08805262413807213, validation accuracy: 0.9739583333333334\n",
            "epoch: 37: train error: 0.0369383141087989, validation error: 0.09264266824660201, validation accuracy: 0.9765625\n",
            "epoch: 38: train error: 0.03492186496862107, validation error: 0.0893304799683392, validation accuracy: 0.9713541666666666\n",
            "epoch: 39: train error: 0.03472108794376254, validation error: 0.09213951975107193, validation accuracy: 0.9713541666666666\n",
            "epoch: 40: train error: 0.03215794981353813, validation error: 0.09739972736376028, validation accuracy: 0.9739583333333334\n",
            "epoch: 41: train error: 0.03219839645446175, validation error: 0.09180131989220779, validation accuracy: 0.96875\n",
            "Stopping early\n"
          ]
        }
      ]
    },
    {
      "cell_type": "code",
      "source": [
        "state = torch.load('checkparm')\n",
        "model.load_state_dict(state['model_state_dict'])\n",
        "opt.load_state_dict(state['optimizer_state_dict'])"
      ],
      "metadata": {
        "id": "p4bA5n61fdfT"
      },
      "execution_count": null,
      "outputs": []
    },
    {
      "cell_type": "code",
      "source": [],
      "metadata": {
        "id": "NB0B6At3ft7u"
      },
      "execution_count": null,
      "outputs": []
    }
  ]
}