{
  "nbformat": 4,
  "nbformat_minor": 0,
  "metadata": {
    "colab": {
      "provenance": [],
      "authorship_tag": "ABX9TyNvU32nrwImz1cLa7vMLIX/",
      "include_colab_link": true
    },
    "kernelspec": {
      "name": "python3",
      "display_name": "Python 3"
    },
    "language_info": {
      "name": "python"
    }
  },
  "cells": [
    {
      "cell_type": "markdown",
      "metadata": {
        "id": "view-in-github",
        "colab_type": "text"
      },
      "source": [
        "<a href=\"https://colab.research.google.com/github/Yoshiki0418/Deep_Learning/blob/main/DL_Lecture1/Autograd.ipynb\" target=\"_parent\"><img src=\"https://colab.research.google.com/assets/colab-badge.svg\" alt=\"Open In Colab\"/></a>"
      ]
    },
    {
      "cell_type": "markdown",
      "source": [
        "## Autograd(自動微分)"
      ],
      "metadata": {
        "id": "YEXIjUlISG2t"
      }
    },
    {
      "cell_type": "markdown",
      "source": [
        "Pytorchでは計算グラフを自動的に構築し、勾配を逆方向に計算することができる。tensor生成時に、`requires_grad=True`を設定することで自動微分を有効にすることができる。計算後に、`.backward`を呼ぶことで自動的に勾配が計算される。\n",
        "\n",
        "勾配情報は、`.grad`属性に累積されるが、末端ノードに対する勾配しか保存されない。中間ノードに対する勾配を保存したい場合は、当該tensorに対して、`.retain_grad()`を実行する必要がある。"
      ],
      "metadata": {
        "id": "-VP1TRmnSQQZ"
      }
    },
    {
      "cell_type": "code",
      "execution_count": 13,
      "metadata": {
        "colab": {
          "base_uri": "https://localhost:8080/"
        },
        "id": "trrBqZMqOFCc",
        "outputId": "8236fd51-a7b7-4aa2-96fc-503cfc58b547"
      },
      "outputs": [
        {
          "output_type": "stream",
          "name": "stdout",
          "text": [
            "tensor(1.5000)\n",
            "tensor(-0.2968)\n"
          ]
        }
      ],
      "source": [
        "import torch\n",
        "\n",
        "x = torch.tensor(2., requires_grad=True)\n",
        "y = torch.tensor(3., requires_grad=True)\n",
        "\n",
        "z = y * torch.log(x) + torch.sin(y)\n",
        "\n",
        "z.backward()\n",
        "\n",
        "print(x.grad)\n",
        "print(y.grad)"
      ]
    },
    {
      "cell_type": "code",
      "source": [
        "x = torch.tensor(2., requires_grad=True)\n",
        "y = torch.tensor(3., requires_grad=True)\n",
        "\n",
        "# 中間ノードの勾配も取得\n",
        "sum_xy = x + y\n",
        "sum_xy.retain_grad()\n",
        "\n",
        "z = sum_xy.pow(2)\n",
        "z.backward()\n",
        "\n",
        "print(x.grad)\n",
        "print(y.grad)\n",
        "print(sum_xy.grad)"
      ],
      "metadata": {
        "colab": {
          "base_uri": "https://localhost:8080/"
        },
        "id": "ShBMQ7T9OyZH",
        "outputId": "cb8d5bd0-8b52-47c0-d14a-4571c650da0b"
      },
      "execution_count": 19,
      "outputs": [
        {
          "output_type": "stream",
          "name": "stdout",
          "text": [
            "tensor(10.)\n",
            "tensor(10.)\n",
            "tensor(10.)\n"
          ]
        }
      ]
    },
    {
      "cell_type": "markdown",
      "source": [
        "## 勾配の計算を排除したい時"
      ],
      "metadata": {
        "id": "E7CFBEH2XY9d"
      }
    },
    {
      "cell_type": "markdown",
      "source": [
        "モデルの学習にはトレーニングを検証が必要であり、トレーニングの際はパラメータの最適化のために勾配の計算をする必要があるのだが、検証の時には勾配を計算する必要がない。ここで、勾配を使用しないのにも何も設定していないと自動的に勾配が計算されてしまう。これでは、計算リソースを無駄に使用してしまう原因となり、効率の悪い学習になってしまう。\n",
        "\n",
        "この問題を解決するためには、`with torch.no_grad()`を用いることで、その中で計算する際には勾配が計算されないようにすることができる。\n",
        "\n",
        "通常は、`model.eval()'でモデルを評価モードに設定した後に記述されることが多い。\n",
        "\n",
        "```\n",
        "# モデルを評価モードに設定\n",
        "model.eval()\n",
        "\n",
        "# 勾配計算を行わないコンテキスト内での推論\n",
        "with torch.no_grad():\n",
        "    output = model(input_data)\n",
        "```\n",
        "\n",
        "`model.eval()`では何が行われているのか？\n",
        "\n",
        "* ドロップアウト (Dropout):\n",
        " * トレーニング時: 一部のユニットをランダムに無効にする（ドロップアウト率に従って）。\n",
        " * 評価時: すべてのユニットを使用する。ドロップアウトは無効になります。\n",
        "\n",
        "* バッチ正規化 (Batch Normalization):\n",
        " * トレーニング時: ミニバッチごとに計算された平均と分散を使用して正規化します。\n",
        " * 評価時: トレーニング中に集計された移動平均と移動分散を使用して正規化します。\n",
        "\n",
        "```\n",
        "import torch.nn as nn\n",
        "\n",
        "batch_norm = nn.BatchNorm1d(num_features=10)\n",
        "model = nn.Sequential(\n",
        "    nn.Linear(10, 10),\n",
        "    batch_norm,\n",
        "    nn.Linear(10, 1)\n",
        ")\n",
        "\n",
        "# トレーニングモード\n",
        "model.train()\n",
        "output_train = model(input_data)  # ミニバッチごとの平均と分散で正規化\n",
        "\n",
        "# 評価モード\n",
        "model.eval()\n",
        "output_eval = model(input_data)  # 移動平均と移動分散で正規化\n",
        "```"
      ],
      "metadata": {
        "id": "Ht6fQCg1Xed1"
      }
    },
    {
      "cell_type": "code",
      "source": [
        "x = torch.tensor(2., requires_grad=True)\n",
        "y = torch.tensor(3., requires_grad=True)\n",
        "\n",
        "\n",
        "with torch.no_grad():\n",
        "    z1 = y * torch.log(x) + torch.sin(y)\n",
        "\n",
        "# 勾配が計算されない\n",
        "z1.backward()"
      ],
      "metadata": {
        "colab": {
          "base_uri": "https://localhost:8080/",
          "height": 347
        },
        "id": "VvXwiaqqS2fm",
        "outputId": "66deb902-7c9f-4f70-cae4-94a7877b3fb4"
      },
      "execution_count": 23,
      "outputs": [
        {
          "output_type": "error",
          "ename": "RuntimeError",
          "evalue": "element 0 of tensors does not require grad and does not have a grad_fn",
          "traceback": [
            "\u001b[0;31m---------------------------------------------------------------------------\u001b[0m",
            "\u001b[0;31mRuntimeError\u001b[0m                              Traceback (most recent call last)",
            "\u001b[0;32m<ipython-input-23-ee5cd47ac218>\u001b[0m in \u001b[0;36m<cell line: 9>\u001b[0;34m()\u001b[0m\n\u001b[1;32m      7\u001b[0m \u001b[0;34m\u001b[0m\u001b[0m\n\u001b[1;32m      8\u001b[0m \u001b[0;31m# 勾配が計算されない\u001b[0m\u001b[0;34m\u001b[0m\u001b[0;34m\u001b[0m\u001b[0m\n\u001b[0;32m----> 9\u001b[0;31m \u001b[0mz1\u001b[0m\u001b[0;34m.\u001b[0m\u001b[0mbackward\u001b[0m\u001b[0;34m(\u001b[0m\u001b[0;34m)\u001b[0m\u001b[0;34m\u001b[0m\u001b[0;34m\u001b[0m\u001b[0m\n\u001b[0m",
            "\u001b[0;32m/usr/local/lib/python3.10/dist-packages/torch/_tensor.py\u001b[0m in \u001b[0;36mbackward\u001b[0;34m(self, gradient, retain_graph, create_graph, inputs)\u001b[0m\n\u001b[1;32m    523\u001b[0m                 \u001b[0minputs\u001b[0m\u001b[0;34m=\u001b[0m\u001b[0minputs\u001b[0m\u001b[0;34m,\u001b[0m\u001b[0;34m\u001b[0m\u001b[0;34m\u001b[0m\u001b[0m\n\u001b[1;32m    524\u001b[0m             )\n\u001b[0;32m--> 525\u001b[0;31m         torch.autograd.backward(\n\u001b[0m\u001b[1;32m    526\u001b[0m             \u001b[0mself\u001b[0m\u001b[0;34m,\u001b[0m \u001b[0mgradient\u001b[0m\u001b[0;34m,\u001b[0m \u001b[0mretain_graph\u001b[0m\u001b[0;34m,\u001b[0m \u001b[0mcreate_graph\u001b[0m\u001b[0;34m,\u001b[0m \u001b[0minputs\u001b[0m\u001b[0;34m=\u001b[0m\u001b[0minputs\u001b[0m\u001b[0;34m\u001b[0m\u001b[0;34m\u001b[0m\u001b[0m\n\u001b[1;32m    527\u001b[0m         )\n",
            "\u001b[0;32m/usr/local/lib/python3.10/dist-packages/torch/autograd/__init__.py\u001b[0m in \u001b[0;36mbackward\u001b[0;34m(tensors, grad_tensors, retain_graph, create_graph, grad_variables, inputs)\u001b[0m\n\u001b[1;32m    265\u001b[0m     \u001b[0;31m# some Python versions print out the first line of a multi-line function\u001b[0m\u001b[0;34m\u001b[0m\u001b[0;34m\u001b[0m\u001b[0m\n\u001b[1;32m    266\u001b[0m     \u001b[0;31m# calls in the traceback and some print out the last line\u001b[0m\u001b[0;34m\u001b[0m\u001b[0;34m\u001b[0m\u001b[0m\n\u001b[0;32m--> 267\u001b[0;31m     _engine_run_backward(\n\u001b[0m\u001b[1;32m    268\u001b[0m         \u001b[0mtensors\u001b[0m\u001b[0;34m,\u001b[0m\u001b[0;34m\u001b[0m\u001b[0;34m\u001b[0m\u001b[0m\n\u001b[1;32m    269\u001b[0m         \u001b[0mgrad_tensors_\u001b[0m\u001b[0;34m,\u001b[0m\u001b[0;34m\u001b[0m\u001b[0;34m\u001b[0m\u001b[0m\n",
            "\u001b[0;32m/usr/local/lib/python3.10/dist-packages/torch/autograd/graph.py\u001b[0m in \u001b[0;36m_engine_run_backward\u001b[0;34m(t_outputs, *args, **kwargs)\u001b[0m\n\u001b[1;32m    742\u001b[0m         \u001b[0munregister_hooks\u001b[0m \u001b[0;34m=\u001b[0m \u001b[0m_register_logging_hooks_on_whole_graph\u001b[0m\u001b[0;34m(\u001b[0m\u001b[0mt_outputs\u001b[0m\u001b[0;34m)\u001b[0m\u001b[0;34m\u001b[0m\u001b[0;34m\u001b[0m\u001b[0m\n\u001b[1;32m    743\u001b[0m     \u001b[0;32mtry\u001b[0m\u001b[0;34m:\u001b[0m\u001b[0;34m\u001b[0m\u001b[0;34m\u001b[0m\u001b[0m\n\u001b[0;32m--> 744\u001b[0;31m         return Variable._execution_engine.run_backward(  # Calls into the C++ engine to run the backward pass\n\u001b[0m\u001b[1;32m    745\u001b[0m             \u001b[0mt_outputs\u001b[0m\u001b[0;34m,\u001b[0m \u001b[0;34m*\u001b[0m\u001b[0margs\u001b[0m\u001b[0;34m,\u001b[0m \u001b[0;34m**\u001b[0m\u001b[0mkwargs\u001b[0m\u001b[0;34m\u001b[0m\u001b[0;34m\u001b[0m\u001b[0m\n\u001b[1;32m    746\u001b[0m         )  # Calls into the C++ engine to run the backward pass\n",
            "\u001b[0;31mRuntimeError\u001b[0m: element 0 of tensors does not require grad and does not have a grad_fn"
          ]
        }
      ]
    },
    {
      "cell_type": "code",
      "source": [],
      "metadata": {
        "id": "TobX88W3XGFr"
      },
      "execution_count": null,
      "outputs": []
    }
  ]
}