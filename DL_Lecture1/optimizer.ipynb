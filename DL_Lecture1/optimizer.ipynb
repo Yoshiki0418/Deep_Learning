{
  "nbformat": 4,
  "nbformat_minor": 0,
  "metadata": {
    "colab": {
      "provenance": [],
      "authorship_tag": "ABX9TyOEQP0gvAl8yOV9GdDxf6if",
      "include_colab_link": true
    },
    "kernelspec": {
      "name": "python3",
      "display_name": "Python 3"
    },
    "language_info": {
      "name": "python"
    }
  },
  "cells": [
    {
      "cell_type": "markdown",
      "metadata": {
        "id": "view-in-github",
        "colab_type": "text"
      },
      "source": [
        "<a href=\"https://colab.research.google.com/github/Yoshiki0418/Deep_Learning/blob/main/DL_Lecture1/optimizer.ipynb\" target=\"_parent\"><img src=\"https://colab.research.google.com/assets/colab-badge.svg\" alt=\"Open In Colab\"/></a>"
      ]
    },
    {
      "cell_type": "markdown",
      "source": [
        "# Optimizer"
      ],
      "metadata": {
        "id": "Q8a6ssseJXsT"
      }
    },
    {
      "cell_type": "code",
      "source": [
        "import torch\n",
        "from torch import nn\n",
        "from torch.nn import functional as F\n",
        "from sklearn import datasets\n",
        "import matplotlib.pyplot as plt\n",
        "from sklearn.model_selection import train_test_split\n",
        "import numpy as np"
      ],
      "metadata": {
        "id": "ajqBfw_FJXdB"
      },
      "execution_count": 1,
      "outputs": []
    },
    {
      "cell_type": "markdown",
      "source": [
        "## スクラッチ実装"
      ],
      "metadata": {
        "id": "E8mBEOivJcsj"
      }
    },
    {
      "cell_type": "code",
      "execution_count": 2,
      "metadata": {
        "id": "ITojQYnvH7Ja"
      },
      "outputs": [],
      "source": [
        "class MLP(nn.Module):\n",
        "    def __init__(self, input_dim, hid_dim, output_dim):\n",
        "        super().__init__()\n",
        "        self.block = nn.Sequential(\n",
        "            nn.Linear(input_dim, hid_dim),\n",
        "            nn.ReLU(),\n",
        "            nn.Linear(hid_dim, output_dim)\n",
        "        )\n",
        "\n",
        "    def forward(self, x):\n",
        "        x = self.block(x)\n",
        "        return x"
      ]
    },
    {
      "cell_type": "code",
      "source": [
        "model = MLP(64, 30, 10)"
      ],
      "metadata": {
        "id": "tbCb3rV4KGMd"
      },
      "execution_count": 3,
      "outputs": []
    },
    {
      "cell_type": "code",
      "source": [
        "class Optimizer():\n",
        "    def __init__(self, parameters, lr=0.03):\n",
        "        self.parameters = list(parameters)\n",
        "        self.lr = lr\n",
        "\n",
        "    def step(self):\n",
        "        with torch.no_grad():\n",
        "            for param in self.parameters:\n",
        "                param -= self.lr * param.grad\n",
        "\n",
        "    def zero_grad(self):\n",
        "        for param in self.parameters:\n",
        "            if param.grad is not None:\n",
        "                param.grad.zero_()"
      ],
      "metadata": {
        "id": "5WrgtH4-L4PC"
      },
      "execution_count": 13,
      "outputs": []
    },
    {
      "cell_type": "code",
      "source": [
        "lr = 0.01\n",
        "optimizer = Optimizer(parameters=model.parameters(), lr = lr)"
      ],
      "metadata": {
        "id": "OIVfJH1CKNxb"
      },
      "execution_count": 14,
      "outputs": []
    },
    {
      "cell_type": "code",
      "source": [
        "# ===データの準備====\n",
        "dataset = datasets.load_digits()\n",
        "data = dataset['data']\n",
        "target = dataset['target']\n",
        "images = dataset['images']\n",
        "X_train, X_val, y_train, y_val = train_test_split(images, target, test_size=0.2, random_state=42)\n",
        "X_train_mean = X_train.mean()\n",
        "X_train_std = X_train.std()\n",
        "X_train = (X_train - X_train_mean) / X_train_std\n",
        "X_val = (X_val - X_train_mean) / X_train_std\n",
        "X_train = torch.tensor(X_train.reshape(-1, 64), dtype=torch.float32)\n",
        "X_val = torch.tensor(X_val.reshape(-1, 64), dtype=torch.float32)\n",
        "y_train = torch.tensor(y_train)\n",
        "y_val = torch.tensor(y_val)\n",
        "batch_size = 30\n",
        "num_batches = np.ceil(len(y_train)/batch_size).astype(int)\n",
        "\n",
        "# ログ\n",
        "train_losses = []\n",
        "val_losses = []\n",
        "val_accuracies = []\n",
        "for epoch in range(100):\n",
        "    # エポック毎にデータをシャッフル\n",
        "    shuffled_indices = np.random.permutation(len(y_train))\n",
        "    running_loss = 0.0\n",
        "\n",
        "    for i in range(num_batches):\n",
        "\n",
        "        # mini batch作成\n",
        "        start = i * batch_size\n",
        "        end = start + batch_size\n",
        "\n",
        "        batch_indices = shuffled_indices[start:end]\n",
        "        y = y_train[batch_indices] # batch_size x 10\n",
        "\n",
        "        X = X_train[batch_indices] # batch_size x 64\n",
        "        # 順伝播と逆伝播の計算\n",
        "        optimizer.zero_grad()\n",
        "        preds = model(X)\n",
        "        loss = F.cross_entropy(preds, y)\n",
        "        loss.backward()\n",
        "        running_loss += loss.item()\n",
        "\n",
        "        # パラメータ更新\n",
        "        optimizer.step()\n",
        "\n",
        "\n",
        "    # validation\n",
        "    with torch.no_grad():\n",
        "        preds_val = model(X_val)\n",
        "        val_loss = F.cross_entropy(preds_val, y_val)\n",
        "        val_accuracy = torch.sum(torch.argmax(preds_val, dim=-1) == y_val) / y_val.shape[0]\n",
        "\n",
        "    train_losses.append(running_loss/num_batches)\n",
        "    val_losses.append(val_loss.item())\n",
        "    val_accuracies.append(val_accuracy)\n",
        "    print(f'epoch: {epoch}: train error: {running_loss/num_batches}, validation error: {val_loss.item()}, validation accuracy: {val_accuracy}')"
      ],
      "metadata": {
        "colab": {
          "base_uri": "https://localhost:8080/"
        },
        "id": "BHpQ0Eg4NU17",
        "outputId": "14ae9edd-c111-43b1-8ddf-57a0efcd8502"
      },
      "execution_count": 15,
      "outputs": [
        {
          "output_type": "stream",
          "name": "stdout",
          "text": [
            "epoch: 0: train error: 2.279960592587789, validation error: 2.167412519454956, validation accuracy: 0.18333333730697632\n",
            "epoch: 1: train error: 2.0917711382110915, validation error: 1.9920040369033813, validation accuracy: 0.5249999761581421\n",
            "epoch: 2: train error: 1.9026766295234363, validation error: 1.8034493923187256, validation accuracy: 0.6388888955116272\n",
            "epoch: 3: train error: 1.7029969940582912, validation error: 1.6056959629058838, validation accuracy: 0.7166666388511658\n",
            "epoch: 4: train error: 1.499666191637516, validation error: 1.4075322151184082, validation accuracy: 0.7666666507720947\n",
            "epoch: 5: train error: 1.30664066473643, validation error: 1.225019931793213, validation accuracy: 0.8111110925674438\n",
            "epoch: 6: train error: 1.1329750965038936, validation error: 1.0568445920944214, validation accuracy: 0.8416666388511658\n",
            "epoch: 7: train error: 0.9831746829052767, validation error: 0.9155831933021545, validation accuracy: 0.8805555701255798\n",
            "epoch: 8: train error: 0.858231320977211, validation error: 0.8020438551902771, validation accuracy: 0.8722222447395325\n",
            "epoch: 9: train error: 0.7554673509051403, validation error: 0.7024333477020264, validation accuracy: 0.8861111402511597\n",
            "epoch: 10: train error: 0.6712239372233549, validation error: 0.6252949833869934, validation accuracy: 0.894444465637207\n",
            "epoch: 11: train error: 0.6008334960788488, validation error: 0.5629564523696899, validation accuracy: 0.894444465637207\n",
            "epoch: 12: train error: 0.5442913075288137, validation error: 0.5078397393226624, validation accuracy: 0.9138888716697693\n",
            "epoch: 13: train error: 0.4961247729758422, validation error: 0.4662003517150879, validation accuracy: 0.9111111164093018\n",
            "epoch: 14: train error: 0.4567927873382966, validation error: 0.42894983291625977, validation accuracy: 0.925000011920929\n",
            "epoch: 15: train error: 0.4224652647972107, validation error: 0.3991527259349823, validation accuracy: 0.9194444417953491\n",
            "epoch: 16: train error: 0.3932228327418367, validation error: 0.3730648458003998, validation accuracy: 0.9277777671813965\n",
            "epoch: 17: train error: 0.36942162550985813, validation error: 0.35037291049957275, validation accuracy: 0.9305555820465088\n",
            "epoch: 18: train error: 0.3477132475624482, validation error: 0.3300624489784241, validation accuracy: 0.9305555820465088\n",
            "epoch: 19: train error: 0.32921601676692563, validation error: 0.3131992816925049, validation accuracy: 0.9333333373069763\n",
            "epoch: 20: train error: 0.3123193110028903, validation error: 0.2984398603439331, validation accuracy: 0.9333333373069763\n",
            "epoch: 21: train error: 0.2981698075309396, validation error: 0.28678736090660095, validation accuracy: 0.9333333373069763\n",
            "epoch: 22: train error: 0.2847609578942259, validation error: 0.2744620740413666, validation accuracy: 0.9361110925674438\n",
            "epoch: 23: train error: 0.2722518133620421, validation error: 0.26329514384269714, validation accuracy: 0.9388889074325562\n",
            "epoch: 24: train error: 0.262396785741051, validation error: 0.2531813979148865, validation accuracy: 0.9361110925674438\n",
            "epoch: 25: train error: 0.2524855804319183, validation error: 0.24572382867336273, validation accuracy: 0.9416666626930237\n",
            "epoch: 26: train error: 0.2436586720868945, validation error: 0.23801013827323914, validation accuracy: 0.9388889074325562\n",
            "epoch: 27: train error: 0.2358415792696178, validation error: 0.22934195399284363, validation accuracy: 0.9444444179534912\n",
            "epoch: 28: train error: 0.2280350433041652, validation error: 0.22291795909404755, validation accuracy: 0.9444444179534912\n",
            "epoch: 29: train error: 0.22082448098808527, validation error: 0.21780535578727722, validation accuracy: 0.9472222328186035\n",
            "epoch: 30: train error: 0.2145779562803606, validation error: 0.21115173399448395, validation accuracy: 0.9416666626930237\n",
            "epoch: 31: train error: 0.20862140972167253, validation error: 0.2057531625032425, validation accuracy: 0.949999988079071\n",
            "epoch: 32: train error: 0.20296869970237216, validation error: 0.20116837322711945, validation accuracy: 0.949999988079071\n",
            "epoch: 33: train error: 0.19773385324515402, validation error: 0.1969437450170517, validation accuracy: 0.9444444179534912\n",
            "epoch: 34: train error: 0.19313375605270267, validation error: 0.19269943237304688, validation accuracy: 0.949999988079071\n",
            "epoch: 35: train error: 0.18802077028279504, validation error: 0.18889813125133514, validation accuracy: 0.9527778029441833\n",
            "epoch: 36: train error: 0.18334609270095825, validation error: 0.18473118543624878, validation accuracy: 0.9527778029441833\n",
            "epoch: 37: train error: 0.180161549244076, validation error: 0.18203283846378326, validation accuracy: 0.9527778029441833\n",
            "epoch: 38: train error: 0.17570452578365803, validation error: 0.1781446933746338, validation accuracy: 0.9527778029441833\n",
            "epoch: 39: train error: 0.17208509038512906, validation error: 0.17557981610298157, validation accuracy: 0.9527778029441833\n",
            "epoch: 40: train error: 0.16880426641243199, validation error: 0.172975093126297, validation accuracy: 0.9583333134651184\n",
            "epoch: 41: train error: 0.16546482716997465, validation error: 0.1699569672346115, validation accuracy: 0.9527778029441833\n",
            "epoch: 42: train error: 0.1620686479533712, validation error: 0.16752761602401733, validation accuracy: 0.9527778029441833\n",
            "epoch: 43: train error: 0.1593468034019073, validation error: 0.1651875227689743, validation accuracy: 0.9583333134651184\n",
            "epoch: 44: train error: 0.15630008761460581, validation error: 0.16257385909557343, validation accuracy: 0.9583333134651184\n",
            "epoch: 45: train error: 0.1532938739595314, validation error: 0.16059009730815887, validation accuracy: 0.9583333134651184\n",
            "epoch: 46: train error: 0.15111117018386722, validation error: 0.15828761458396912, validation accuracy: 0.9555555582046509\n",
            "epoch: 47: train error: 0.14849025484484932, validation error: 0.15601179003715515, validation accuracy: 0.9611111283302307\n",
            "epoch: 48: train error: 0.14552071938912073, validation error: 0.1544886976480484, validation accuracy: 0.9611111283302307\n",
            "epoch: 49: train error: 0.14333944953978062, validation error: 0.152143195271492, validation accuracy: 0.9638888835906982\n",
            "epoch: 50: train error: 0.14126578609769544, validation error: 0.1505884975194931, validation accuracy: 0.9638888835906982\n",
            "epoch: 51: train error: 0.13917220554624996, validation error: 0.1491193175315857, validation accuracy: 0.9611111283302307\n",
            "epoch: 52: train error: 0.13688326541644832, validation error: 0.14732587337493896, validation accuracy: 0.9638888835906982\n",
            "epoch: 53: train error: 0.13496993466590843, validation error: 0.14550849795341492, validation accuracy: 0.9638888835906982\n",
            "epoch: 54: train error: 0.1333986493603637, validation error: 0.14419373869895935, validation accuracy: 0.9611111283302307\n",
            "epoch: 55: train error: 0.13117441100378832, validation error: 0.1429109126329422, validation accuracy: 0.9611111283302307\n",
            "epoch: 56: train error: 0.12913381362644336, validation error: 0.14164061844348907, validation accuracy: 0.9611111283302307\n",
            "epoch: 57: train error: 0.12813542891914645, validation error: 0.1402381807565689, validation accuracy: 0.9611111283302307\n",
            "epoch: 58: train error: 0.12577382599314055, validation error: 0.13874855637550354, validation accuracy: 0.9638888835906982\n",
            "epoch: 59: train error: 0.12429951371935506, validation error: 0.13793212175369263, validation accuracy: 0.9666666388511658\n",
            "epoch: 60: train error: 0.12326081275629501, validation error: 0.1364949345588684, validation accuracy: 0.9694444537162781\n",
            "epoch: 61: train error: 0.1214208099214981, validation error: 0.1352497786283493, validation accuracy: 0.9638888835906982\n",
            "epoch: 62: train error: 0.1194582087919116, validation error: 0.13440442085266113, validation accuracy: 0.9638888835906982\n",
            "epoch: 63: train error: 0.11818043235689402, validation error: 0.13308854401111603, validation accuracy: 0.9638888835906982\n",
            "epoch: 64: train error: 0.11689209515073647, validation error: 0.13217589259147644, validation accuracy: 0.9611111283302307\n",
            "epoch: 65: train error: 0.11573785655976583, validation error: 0.13146112859249115, validation accuracy: 0.9638888835906982\n",
            "epoch: 66: train error: 0.11394886462949216, validation error: 0.13038860261440277, validation accuracy: 0.9611111283302307\n",
            "epoch: 67: train error: 0.11287593593200047, validation error: 0.1298210471868515, validation accuracy: 0.9666666388511658\n",
            "epoch: 68: train error: 0.11126650947456558, validation error: 0.12879985570907593, validation accuracy: 0.9666666388511658\n",
            "epoch: 69: train error: 0.10990741266869009, validation error: 0.12743829190731049, validation accuracy: 0.9694444537162781\n",
            "epoch: 70: train error: 0.10896780419473846, validation error: 0.12717215716838837, validation accuracy: 0.9694444537162781\n",
            "epoch: 71: train error: 0.10770116952092697, validation error: 0.12603773176670074, validation accuracy: 0.9722222089767456\n",
            "epoch: 72: train error: 0.10677080450113863, validation error: 0.12524455785751343, validation accuracy: 0.9694444537162781\n",
            "epoch: 73: train error: 0.10539220343343914, validation error: 0.1245352178812027, validation accuracy: 0.9694444537162781\n",
            "epoch: 74: train error: 0.10406867480681588, validation error: 0.12368942052125931, validation accuracy: 0.9694444537162781\n",
            "epoch: 75: train error: 0.10327376279747114, validation error: 0.12285348773002625, validation accuracy: 0.9694444537162781\n",
            "epoch: 76: train error: 0.10205162941322972, validation error: 0.12252022325992584, validation accuracy: 0.9694444537162781\n",
            "epoch: 77: train error: 0.10134251842585702, validation error: 0.12200996279716492, validation accuracy: 0.9694444537162781\n",
            "epoch: 78: train error: 0.1001966668991372, validation error: 0.12146922945976257, validation accuracy: 0.9694444537162781\n",
            "epoch: 79: train error: 0.0992786642940094, validation error: 0.12099690735340118, validation accuracy: 0.9694444537162781\n",
            "epoch: 80: train error: 0.0982673749870931, validation error: 0.11996699124574661, validation accuracy: 0.9694444537162781\n",
            "epoch: 81: train error: 0.09746961330529302, validation error: 0.11988208442926407, validation accuracy: 0.9694444537162781\n",
            "epoch: 82: train error: 0.09622061046926926, validation error: 0.1190883219242096, validation accuracy: 0.9722222089767456\n",
            "epoch: 83: train error: 0.09562603950810929, validation error: 0.11839575320482254, validation accuracy: 0.9722222089767456\n",
            "epoch: 84: train error: 0.09427374725540479, validation error: 0.11762003600597382, validation accuracy: 0.9750000238418579\n",
            "epoch: 85: train error: 0.0936411057288448, validation error: 0.11728266626596451, validation accuracy: 0.9722222089767456\n",
            "epoch: 86: train error: 0.09287421560535829, validation error: 0.11673671007156372, validation accuracy: 0.9722222089767456\n",
            "epoch: 87: train error: 0.09218682942446321, validation error: 0.11643419414758682, validation accuracy: 0.9750000238418579\n",
            "epoch: 88: train error: 0.09122286841738969, validation error: 0.1159403920173645, validation accuracy: 0.9722222089767456\n",
            "epoch: 89: train error: 0.09039470747423668, validation error: 0.11533322930335999, validation accuracy: 0.9750000238418579\n",
            "epoch: 90: train error: 0.08984125087348123, validation error: 0.1148843839764595, validation accuracy: 0.9750000238418579\n",
            "epoch: 91: train error: 0.08872078820907821, validation error: 0.11442205309867859, validation accuracy: 0.9722222089767456\n",
            "epoch: 92: train error: 0.08786479251769681, validation error: 0.11396794021129608, validation accuracy: 0.9750000238418579\n",
            "epoch: 93: train error: 0.08704086195211858, validation error: 0.11362796276807785, validation accuracy: 0.9750000238418579\n",
            "epoch: 94: train error: 0.0863817913341336, validation error: 0.11313329637050629, validation accuracy: 0.9750000238418579\n",
            "epoch: 95: train error: 0.08578496884244184, validation error: 0.11275624483823776, validation accuracy: 0.9750000238418579\n",
            "epoch: 96: train error: 0.0848356931625555, validation error: 0.11224890500307083, validation accuracy: 0.9750000238418579\n",
            "epoch: 97: train error: 0.08429277661101271, validation error: 0.11197562515735626, validation accuracy: 0.9750000238418579\n",
            "epoch: 98: train error: 0.08348984566206734, validation error: 0.11169755458831787, validation accuracy: 0.9750000238418579\n",
            "epoch: 99: train error: 0.08260061700517933, validation error: 0.11154643446207047, validation accuracy: 0.9722222089767456\n"
          ]
        }
      ]
    },
    {
      "cell_type": "markdown",
      "source": [
        "## torch.optim"
      ],
      "metadata": {
        "id": "pwySp5vGO0oR"
      }
    },
    {
      "cell_type": "code",
      "source": [
        "from torch import optim\n",
        "optimizer = optim.SGD(model.parameters(), lr=lr)"
      ],
      "metadata": {
        "id": "GTGKnvorO1VO"
      },
      "execution_count": 16,
      "outputs": []
    }
  ]
}