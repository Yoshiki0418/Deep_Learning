{
  "nbformat": 4,
  "nbformat_minor": 0,
  "metadata": {
    "colab": {
      "provenance": [],
      "authorship_tag": "ABX9TyNdV1b545jnbAJFBhAbnhpa",
      "include_colab_link": true
    },
    "kernelspec": {
      "name": "python3",
      "display_name": "Python 3"
    },
    "language_info": {
      "name": "python"
    }
  },
  "cells": [
    {
      "cell_type": "markdown",
      "metadata": {
        "id": "view-in-github",
        "colab_type": "text"
      },
      "source": [
        "<a href=\"https://colab.research.google.com/github/Yoshiki0418/Deep_Learning/blob/main/DL_Lecture1/minist.ipynb\" target=\"_parent\"><img src=\"https://colab.research.google.com/assets/colab-badge.svg\" alt=\"Open In Colab\"/></a>"
      ]
    },
    {
      "cell_type": "markdown",
      "source": [
        "### データの準備と描画"
      ],
      "metadata": {
        "id": "QJJJbwRDJHbT"
      }
    },
    {
      "cell_type": "markdown",
      "source": [
        "`sklearn.datasets`のMNISTデータを読み込んだ後に、画像データとその画像データのターゲット（数値）データを分けて変数に格納する。"
      ],
      "metadata": {
        "id": "QpU_ug7aJL50"
      }
    },
    {
      "cell_type": "code",
      "execution_count": 1,
      "metadata": {
        "colab": {
          "base_uri": "https://localhost:8080/",
          "height": 198
        },
        "id": "TTsMTNLpCPnb",
        "outputId": "56607372-d5cf-479f-9aa3-3d7c30c8bbe4"
      },
      "outputs": [
        {
          "output_type": "stream",
          "name": "stdout",
          "text": [
            "(1797, 8, 8)\n"
          ]
        },
        {
          "output_type": "display_data",
          "data": {
            "text/plain": [
              "<Figure size 1000x1000 with 20 Axes>"
            ],
            "image/png": "[encoded data removed]"
          },
          "metadata": {}
        }
      ],
      "source": [
        "from sklearn import datasets\n",
        "import numpy as np\n",
        "import matplotlib.pyplot as plt\n",
        "\n",
        "X = datasets.load_digits()\n",
        "\n",
        "# print(X[\"target\"])\n",
        "# print(X[\"images\"])\n",
        "\n",
        "images = X[\"images\"]\n",
        "target = X[\"target\"]\n",
        "\n",
        "print(images.shape) # --> (1797, 8, 8) --> (data_num, height, width)\n",
        "\n",
        "# 新しい図を幅と高さを(10,10)で作成する\n",
        "fig = plt.figure(figsize=(10, 10))\n",
        "\n",
        "# 図を20枚作成する\n",
        "for i in range(20):\n",
        "    x = images[i]\n",
        "    # 同じ図内に複数のグラフを配置する\n",
        "    ax = fig.add_subplot(10, 10, i + 1,  xticks=[], yticks=[])\n",
        "    ax.imshow(x, \"gray\")\n",
        "plt.show()"
      ]
    },
    {
      "cell_type": "markdown",
      "source": [
        "### 前処理"
      ],
      "metadata": {
        "id": "dD4TkNgULf5h"
      }
    },
    {
      "cell_type": "markdown",
      "source": [
        "ソフトマックスやロジスティック回帰での分類を行うために、画像データを１次元データに変換する。\n",
        "また、目的変数をOne-Hotエンコーディングしておく"
      ],
      "metadata": {
        "id": "sm-Sv04nLkdD"
      }
    },
    {
      "cell_type": "code",
      "source": [
        "import torch\n",
        "\n",
        "# 目的変数をOne-Hotエンコーディングする\n",
        "y = torch.nn.functional.one_hot(torch.tensor(target), num_classes=10)\n",
        "\n",
        "# 画像データの次元を変更\n",
        "X = torch.flatten(torch.tensor(images, dtype=torch.float32), start_dim=1)\n",
        "# 上記と同じ処理 ---->  X = torch.tensor(images, dtype=torch.float32).reshape(-1, 16)\n",
        "\n",
        "# 画像データの標準化\n",
        "# X = (X - X.mean()) / X.std()\n",
        "\n",
        "# 画像データを正規化\n",
        "X = X / 255.0"
      ],
      "metadata": {
        "id": "D27LEuP4CnYD"
      },
      "execution_count": 2,
      "outputs": []
    },
    {
      "cell_type": "markdown",
      "source": [
        "### パラメータ初期化"
      ],
      "metadata": {
        "id": "hHpFzYV5TiZW"
      }
    },
    {
      "cell_type": "markdown",
      "source": [
        "`torch.rand()`を用いて、パラメータを初期化する。ここで、requires_grad=Trueを設定しておくことで、勾配の計算を自動で行えるようにしておく。"
      ],
      "metadata": {
        "id": "qEE1gw2aTkbM"
      }
    },
    {
      "cell_type": "code",
      "source": [
        "W = torch.rand((10, 64), requires_grad=True) # 出力 x 入力\n",
        "b = torch.rand((1, 10), requires_grad=True) # 1 x 入力"
      ],
      "metadata": {
        "id": "Fx37Lo9_NG_v"
      },
      "execution_count": 3,
      "outputs": []
    },
    {
      "cell_type": "markdown",
      "source": [
        "### 損失関数とsoftmax関数実装"
      ],
      "metadata": {
        "id": "fzJIxl08gKu0"
      }
    },
    {
      "cell_type": "code",
      "source": [
        "def softmax(x):\n",
        "    e_x = torch.exp(x - torch.max(x, dim=-1, keepdim=True)[0])\n",
        "    return e_x / (torch.sum(e_x, dim=-1, keepdim=True) + 1e-10)\n",
        "\n",
        "def cross_entropy(y_true, y_pred):\n",
        "    return -torch.sum(y_true * torch.log(y_pred + 1e-10)) / y_true.shape[0]"
      ],
      "metadata": {
        "id": "2lxN-Jg6gP98"
      },
      "execution_count": 4,
      "outputs": []
    },
    {
      "cell_type": "code",
      "source": [],
      "metadata": {
        "id": "cV4K6irX9ZcL"
      },
      "execution_count": 4,
      "outputs": []
    },
    {
      "cell_type": "markdown",
      "source": [
        "### 学習"
      ],
      "metadata": {
        "id": "mbUD0_H7ijua"
      }
    },
    {
      "cell_type": "code",
      "source": [
        "learning_rate = 0.03\n",
        "loss_log = []"
      ],
      "metadata": {
        "id": "xFrp7t9fByRh"
      },
      "execution_count": 5,
      "outputs": []
    },
    {
      "cell_type": "code",
      "source": [
        "for epoch in range(5):\n",
        "    running_loss = 0\n",
        "    for i in range(len(target)):\n",
        "        # 6. 入力データXおよび教師ラベルのYを作成\n",
        "        y_true_ = y[i].reshape(-1, 10) # データ数xクラス数\n",
        "        x = X[i].reshape(-1, 64) # データ数 x 特徴量数\n",
        "\n",
        "        # 7. Z計算\n",
        "        Z = x@W.T + b\n",
        "\n",
        "        # 8. softmaxで予測計算\n",
        "        y_pred = softmax(Z)\n",
        "\n",
        "        # 9. 損失計算\n",
        "        loss = cross_entropy(y_true_, y_pred)\n",
        "        loss_log.append(loss.item())\n",
        "        running_loss += loss.item()\n",
        "\n",
        "        # 10. 勾配計算\n",
        "        loss.backward()\n",
        "\n",
        "        # 11. パラメータ更新\n",
        "        with torch.no_grad():\n",
        "            W -= learning_rate * W.grad\n",
        "            b -= learning_rate * b.grad\n",
        "\n",
        "        # 12. 勾配初期化\n",
        "        W.grad.zero_()\n",
        "        b.grad.zero_()\n",
        "\n",
        "    # 13. 損失ログ出力\n",
        "    print(f'epoch: {epoch+1}: {running_loss/len(target)}')"
      ],
      "metadata": {
        "colab": {
          "base_uri": "https://localhost:8080/"
        },
        "id": "ECRNgUU0imFd",
        "outputId": "ca7c6996-71ab-44b9-e766-79127ea3d824"
      },
      "execution_count": 6,
      "outputs": [
        {
          "output_type": "stream",
          "name": "stdout",
          "text": [
            "epoch: 1: 2.2944393736425877\n",
            "epoch: 2: 2.2498950686266372\n",
            "epoch: 3: 2.209718130334059\n",
            "epoch: 4: 2.170413573383953\n",
            "epoch: 5: 2.131973351713148\n"
          ]
        }
      ]
    },
    {
      "cell_type": "code",
      "source": [
        "plt.plot(loss_log)"
      ],
      "metadata": {
        "colab": {
          "base_uri": "https://localhost:8080/",
          "height": 450
        },
        "id": "AZ8dADcfpGpT",
        "outputId": "3b07a07a-ad65-4a29-83ed-3a7caba9bfa6"
      },
      "execution_count": 7,
      "outputs": [
        {
          "output_type": "execute_result",
          "data": {
            "text/plain": [
              "[<matplotlib.lines.Line2D at 0x7af8520c2fb0>]"
            ]
          },
          "metadata": {},
          "execution_count": 7
        },
        {
          "output_type": "display_data",
          "data": {
            "text/plain": [
              "<Figure size 640x480 with 1 Axes>"
            ],
            "image/png": "[encoded data removed]"
          },
          "metadata": {}
        }
      ]
    },
    {
      "cell_type": "markdown",
      "source": [
        "### Mini-Batch 学習"
      ],
      "metadata": {
        "id": "TdQZFhwwLNfF"
      }
    },
    {
      "cell_type": "code",
      "source": [
        "# ランダムにソートされたindexを使ってデータを取得することで，X, yを同時にshuffleすることが可能\n",
        "np.random.permutation(len(target))"
      ],
      "metadata": {
        "colab": {
          "base_uri": "https://localhost:8080/"
        },
        "id": "1Ft9N5EsLNMs",
        "outputId": "3deda526-75bc-4591-934f-3e4d67479a2e"
      },
      "execution_count": 8,
      "outputs": [
        {
          "output_type": "execute_result",
          "data": {
            "text/plain": [
              "array([ 697, 1251,  656, ...,  764, 1182,  266])"
            ]
          },
          "metadata": {},
          "execution_count": 8
        }
      ]
    },
    {
      "cell_type": "code",
      "source": [
        "loss_log = []\n",
        "batch_size = 30\n",
        "num_batches = np.ceil(len(target) / batch_size).astype(int)\n",
        "# 3. パラメータの初期化\n",
        "W = torch.rand((10, 64), requires_grad=True) # 出力x入力\n",
        "b = torch.rand((1, 10), requires_grad=True) # 1 x 出力\n",
        "# 5. for文で学習ループ作成\n",
        "for epoch in range(5):\n",
        "    shuffled_indices = np.random.permutation(len(target))\n",
        "    running_loss = 0\n",
        "    for i in range(num_batches):\n",
        "\n",
        "        # mini batch作成\n",
        "        start = i * batch_size\n",
        "        end = start + batch_size\n",
        "        if end > len(target):\n",
        "            end = len(target) # Adjust end index to avoid going out of bounds\n",
        "        batch_indices = shuffled_indices[start:end]\n",
        "\n",
        "        # 6. 入力データXおよび教師ラベルのYを作成\n",
        "        # Assuming 'y' is the variable containing all labels:\n",
        "        y_true_ = y[batch_indices]  # データ数xクラス数\n",
        "        x = X[batch_indices, :] # データ数 x 特徴量数\n",
        "\n",
        "        # 7. Z計算\n",
        "        Z = x@W.T + b\n",
        "\n",
        "        # 8. softmaxで予測計算\n",
        "        y_pred = softmax(Z)\n",
        "\n",
        "        # 9. 損失計算\n",
        "        loss = cross_entropy(y_true_, y_pred)\n",
        "        loss_log.append(loss.item())\n",
        "        running_loss += loss.item()\n",
        "\n",
        "        # 10. 勾配計算\n",
        "        loss.backward()\n",
        "\n",
        "        # 11. パラメータ更新\n",
        "        with torch.no_grad():\n",
        "            W -= learning_rate * W.grad\n",
        "            b -= learning_rate * b.grad\n",
        "\n",
        "        # 12. 勾配初期化\n",
        "        W.grad.zero_()\n",
        "        b.grad.zero_()\n",
        "\n",
        "    # 13. 損失ログ出力\n",
        "    print(f'epoch: {epoch+1}: {running_loss/num_batches}')"
      ],
      "metadata": {
        "colab": {
          "base_uri": "https://localhost:8080/"
        },
        "id": "VnAeJozpLAyO",
        "outputId": "d78e4e21-3060-4550-f9a1-67217fa7e75b"
      },
      "execution_count": 9,
      "outputs": [
        {
          "output_type": "stream",
          "name": "stdout",
          "text": [
            "epoch: 1: 2.3483107924461364\n",
            "epoch: 2: 2.3349910497665407\n",
            "epoch: 3: 2.3255149006843565\n",
            "epoch: 4: 2.3185566703478497\n",
            "epoch: 5: 2.313324975967407\n"
          ]
        }
      ]
    },
    {
      "cell_type": "markdown",
      "source": [
        "### 学習データと検証データを分ける"
      ],
      "metadata": {
        "id": "t5_WWmRvVJH5"
      }
    },
    {
      "cell_type": "code",
      "source": [
        "# 1. データロード\n",
        "dataset = datasets.load_digits()\n",
        "images = dataset['images']\n",
        "target = dataset['target']"
      ],
      "metadata": {
        "id": "j3Z0Mbo_VL97"
      },
      "execution_count": 10,
      "outputs": []
    },
    {
      "cell_type": "code",
      "source": [
        "from sklearn.model_selection import train_test_split\n",
        "\n",
        "# 学習データと検証データ分割\n",
        "X_train, X_val, y_train, y_val = train_test_split(images, target, test_size=0.2, random_state=42)\n",
        "print(X_train.shape, y_train.shape)\n",
        "print(X_val.shape, y_val.shape)"
      ],
      "metadata": {
        "colab": {
          "base_uri": "https://localhost:8080/"
        },
        "id": "6w7sc0t-VUXO",
        "outputId": "b0bb3cc4-a88b-46e1-9f05-bb8143934782"
      },
      "execution_count": 11,
      "outputs": [
        {
          "output_type": "stream",
          "name": "stdout",
          "text": [
            "(1437, 8, 8) (1437,)\n",
            "(360, 8, 8) (360,)\n"
          ]
        }
      ]
    },
    {
      "cell_type": "code",
      "source": [
        "# 2-1.ラベルのone-hot encoing\n",
        "y_train = torch.nn.functional.one_hot(torch.tensor(y_train), num_classes=10)\n",
        "X_train = torch.tensor(X_train, dtype=torch.float32).reshape(-1, 64)\n",
        "\n",
        "y_val = torch.nn.functional.one_hot(torch.tensor(y_val), num_classes=10)\n",
        "X_val = torch.tensor(X_val, dtype=torch.float32).reshape(-1, 64)\n",
        "\n",
        "# 2-2. 画像の標準化\n",
        "X_train_mean = X_train.mean()\n",
        "X_train_std = X_train.std()\n",
        "X_train = (X_train - X_train_mean) / X_train_std\n",
        "X_val = (X_val - X_train_mean) / X_train_std"
      ],
      "metadata": {
        "id": "MslPOAcKVcMd"
      },
      "execution_count": 12,
      "outputs": []
    },
    {
      "cell_type": "code",
      "source": [
        "batch_size = 30\n",
        "num_batches = np.ceil(len(y_train) / batch_size).astype(int)\n",
        "loss_log = []\n",
        "# 3. パラメータの初期化\n",
        "W = torch.rand((10, 64), requires_grad=True) # 出力x入力\n",
        "b = torch.rand((1, 10), requires_grad=True) # 1 x 出力\n",
        "# ログ\n",
        "train_losses = []\n",
        "val_losses = []\n",
        "val_accuracies = []\n",
        "# 5. for文で学習ループ作成\n",
        "epochs = 30\n",
        "for epoch in range(epochs):\n",
        "    shuffled_indices = np.random.permutation(len(y_train))\n",
        "    running_loss = 0\n",
        "    for i in range(num_batches):\n",
        "\n",
        "        # mini batch作成\n",
        "        start = i * batch_size\n",
        "        end = start + batch_size\n",
        "        batch_indices = shuffled_indices[start:end]\n",
        "        # 6. 入力データXおよび教師ラベルのYを作成\n",
        "        y_true_ = y_train[batch_indices, :] # データ数xクラス数\n",
        "        X = X_train[batch_indices, :] # データ数 x 特徴量数\n",
        "        # import pdb; pdb.set_trace()\n",
        "\n",
        "        # 7. Z計算\n",
        "        Z = X@W.T + b\n",
        "\n",
        "        # 8. softmaxで予測計算\n",
        "        y_pred = softmax(Z)\n",
        "\n",
        "        # 9. 損失計算\n",
        "        loss = cross_entropy(y_true_, y_pred)\n",
        "        loss_log.append(loss.item())\n",
        "        running_loss += loss.item()\n",
        "\n",
        "        # 10. 勾配計算\n",
        "        loss.backward()\n",
        "\n",
        "        # 11. パラメータ更新\n",
        "        with torch.no_grad():\n",
        "            W -= learning_rate * W.grad\n",
        "            b -= learning_rate * b.grad\n",
        "\n",
        "        # 12. 勾配初期化\n",
        "        W.grad.zero_()\n",
        "        b.grad.zero_()\n",
        "    # validation\n",
        "    with torch.no_grad():\n",
        "        Z_val = X_val@W.T + b\n",
        "        y_pred_val = softmax(Z_val)\n",
        "\n",
        "        val_loss = cross_entropy(y_val, y_pred_val)\n",
        "        val_accuracy = torch.sum(torch.argmax(y_pred_val, dim=-1) == torch.argmax(y_val, dim=-1)) / y_val.shape[0]\n",
        "\n",
        "    train_losses.append(running_loss/num_batches)\n",
        "    val_losses.append(val_loss.item())\n",
        "    val_accuracies.append(val_accuracy.item())\n",
        "\n",
        "    # 13. 損失ログ出力\n",
        "    print(f'epoch: {epoch+1}: train loss:{running_loss/num_batches}, val loss: {val_loss.item()}, val accuracy: {val_accuracy.item()}')"
      ],
      "metadata": {
        "colab": {
          "base_uri": "https://localhost:8080/"
        },
        "id": "3c_xGc7kVwIw",
        "outputId": "700e5db3-0bde-41ab-d06d-46eb7e304d0c"
      },
      "execution_count": 13,
      "outputs": [
        {
          "output_type": "stream",
          "name": "stdout",
          "text": [
            "epoch: 1: train loss:2.4826497758428254, val loss: 1.5551624298095703, val accuracy: 0.49444442987442017\n",
            "epoch: 2: train loss:1.2448181596895058, val loss: 0.9534836411476135, val accuracy: 0.7333333492279053\n",
            "epoch: 3: train loss:0.8434017499287924, val loss: 0.7057695388793945, val accuracy: 0.8138889074325562\n",
            "epoch: 4: train loss:0.6529294376571974, val loss: 0.5638532638549805, val accuracy: 0.8527777791023254\n",
            "epoch: 5: train loss:0.5391386977086464, val loss: 0.47935664653778076, val accuracy: 0.8777777552604675\n",
            "epoch: 6: train loss:0.46574992562333745, val loss: 0.42043161392211914, val accuracy: 0.894444465637207\n",
            "epoch: 7: train loss:0.41326547351976234, val loss: 0.3772554099559784, val accuracy: 0.9111111164093018\n",
            "epoch: 8: train loss:0.3737650327384472, val loss: 0.34492045640945435, val accuracy: 0.9194444417953491\n",
            "epoch: 9: train loss:0.3439768760775526, val loss: 0.3202650845050812, val accuracy: 0.9166666865348816\n",
            "epoch: 10: train loss:0.31792346481233835, val loss: 0.3026515245437622, val accuracy: 0.9222221970558167\n",
            "epoch: 11: train loss:0.2994298671061794, val loss: 0.2818707823753357, val accuracy: 0.925000011920929\n",
            "epoch: 12: train loss:0.2816046929607789, val loss: 0.2680366337299347, val accuracy: 0.9333333373069763\n",
            "epoch: 13: train loss:0.26723459269851446, val loss: 0.2554306983947754, val accuracy: 0.9333333373069763\n",
            "epoch: 14: train loss:0.2550894116672377, val loss: 0.2453414499759674, val accuracy: 0.9416666626930237\n",
            "epoch: 15: train loss:0.24380010645836592, val loss: 0.23580564558506012, val accuracy: 0.9388889074325562\n",
            "epoch: 16: train loss:0.2334721329001089, val loss: 0.22918707132339478, val accuracy: 0.9416666626930237\n",
            "epoch: 17: train loss:0.22497282953312, val loss: 0.22102218866348267, val accuracy: 0.949999988079071\n",
            "epoch: 18: train loss:0.2180239559772114, val loss: 0.21382619440555573, val accuracy: 0.9472222328186035\n",
            "epoch: 19: train loss:0.21051161860426268, val loss: 0.20793351531028748, val accuracy: 0.949999988079071\n",
            "epoch: 20: train loss:0.2038094629533589, val loss: 0.20358528196811676, val accuracy: 0.9444444179534912\n",
            "epoch: 21: train loss:0.19811643473803997, val loss: 0.19822706282138824, val accuracy: 0.9472222328186035\n",
            "epoch: 22: train loss:0.1923986153366665, val loss: 0.1938600093126297, val accuracy: 0.949999988079071\n",
            "epoch: 23: train loss:0.18770377539719144, val loss: 0.1899404525756836, val accuracy: 0.949999988079071\n",
            "epoch: 24: train loss:0.18273407081142068, val loss: 0.1862127035856247, val accuracy: 0.949999988079071\n",
            "epoch: 25: train loss:0.1789177469909191, val loss: 0.18307876586914062, val accuracy: 0.9527778029441833\n",
            "epoch: 26: train loss:0.17485130042769015, val loss: 0.17952391505241394, val accuracy: 0.9527778029441833\n",
            "epoch: 27: train loss:0.17106071603484452, val loss: 0.1765522062778473, val accuracy: 0.949999988079071\n",
            "epoch: 28: train loss:0.16780168803719184, val loss: 0.1740414798259735, val accuracy: 0.9527778029441833\n",
            "epoch: 29: train loss:0.1648872372073432, val loss: 0.1715383380651474, val accuracy: 0.9555555582046509\n",
            "epoch: 30: train loss:0.16140187811106443, val loss: 0.1689659059047699, val accuracy: 0.9555555582046509\n"
          ]
        }
      ]
    },
    {
      "cell_type": "code",
      "source": [
        "plt.plot(train_losses)\n",
        "plt.plot(val_losses)"
      ],
      "metadata": {
        "colab": {
          "base_uri": "https://localhost:8080/",
          "height": 448
        },
        "id": "Dj4NW4y8Wb0s",
        "outputId": "a463c326-f55f-4e26-8b7e-656d87c7d5e5"
      },
      "execution_count": 14,
      "outputs": [
        {
          "output_type": "execute_result",
          "data": {
            "text/plain": [
              "[<matplotlib.lines.Line2D at 0x7af773172110>]"
            ]
          },
          "metadata": {},
          "execution_count": 14
        },
        {
          "output_type": "display_data",
          "data": {
            "text/plain": [
              "<Figure size 640x480 with 1 Axes>"
            ],
            "image/png": "[encoded data removed]"
          },
          "metadata": {}
        }
      ]
    }
  ]
}