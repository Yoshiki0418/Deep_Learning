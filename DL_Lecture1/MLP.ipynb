{
  "nbformat": 4,
  "nbformat_minor": 0,
  "metadata": {
    "colab": {
      "provenance": [],
      "authorship_tag": "ABX9TyNpikXZdoW5qFhr9qZExrmY",
      "include_colab_link": true
    },
    "kernelspec": {
      "name": "python3",
      "display_name": "Python 3"
    },
    "language_info": {
      "name": "python"
    }
  },
  "cells": [
    {
      "cell_type": "markdown",
      "metadata": {
        "id": "view-in-github",
        "colab_type": "text"
      },
      "source": [
        "<a href=\"https://colab.research.google.com/github/Yoshiki0418/Deep_Learning/blob/main/DL_Lecture1/MLP.ipynb\" target=\"_parent\"><img src=\"https://colab.research.google.com/assets/colab-badge.svg\" alt=\"Open In Colab\"/></a>"
      ]
    },
    {
      "cell_type": "code",
      "execution_count": null,
      "metadata": {
        "id": "nWLP9iGMr8vs"
      },
      "outputs": [],
      "source": [
        "import torch\n",
        "from sklearn import datasets\n",
        "import matplotlib.pyplot as plt\n",
        "from torch.nn import functional as F\n",
        "from sklearn.model_selection import train_test_split"
      ]
    },
    {
      "cell_type": "code",
      "source": [
        "# データ準備\n",
        "dataset = datasets.load_digits()\n",
        "images = dataset[\"images\"]\n",
        "target = dataset[\"target\"]\n",
        "\n",
        "X_train, X_val, y_train, y_val = train_test_split(images, target, test_size=0.2, random_state=0)\n",
        "print(X_train.shape)\n",
        "print(y_train.shape)"
      ],
      "metadata": {
        "colab": {
          "base_uri": "https://localhost:8080/"
        },
        "id": "zC0jfRqUsIAK",
        "outputId": "7a176d8e-bfc8-4b88-8e70-fb1acde22e75"
      },
      "execution_count": null,
      "outputs": [
        {
          "output_type": "stream",
          "name": "stdout",
          "text": [
            "(1437, 8, 8)\n",
            "(1437,)\n"
          ]
        }
      ]
    },
    {
      "cell_type": "code",
      "source": [
        "# 前処理\n",
        "X_train = torch.tensor(X_train, dtype=torch.float32).reshape(-1, 64)\n",
        "X_val = torch.tensor(X_val, dtype=torch.float32).reshape(-1, 64)\n",
        "\n",
        "# 標準化\n",
        "X_train_mean = X_train.mean()\n",
        "X_train_std = X_train.std()\n",
        "X_train = (X_train - X_train_mean) / X_train_std\n",
        "X_val = (X_val - X_train_mean) / X_train_std"
      ],
      "metadata": {
        "id": "flRLIj-Psk79"
      },
      "execution_count": null,
      "outputs": []
    },
    {
      "cell_type": "markdown",
      "source": [
        "### スクラッチ実装(順伝播のみ)"
      ],
      "metadata": {
        "id": "CdgPRuooupD9"
      }
    },
    {
      "cell_type": "code",
      "source": [
        "m, n = X_train.shape\n",
        "nh = 30\n",
        "class_num = 10\n",
        "\n",
        "# パラメータの初期化\n",
        "w1 = torch.rand((nh, n), requires_grad=True)\n",
        "b1 = torch.zeros((1, nh), requires_grad=True)\n",
        "\n",
        "w2 = torch.rand((class_num, nh), requires_grad=True)\n",
        "b2 = torch.zeros((1, class_num), requires_grad=True)"
      ],
      "metadata": {
        "id": "pynMGMldtkOy"
      },
      "execution_count": null,
      "outputs": []
    },
    {
      "cell_type": "code",
      "source": [
        "def linear(X, w, b):\n",
        "  return X@w.T + b"
      ],
      "metadata": {
        "id": "Iv2WoytDwkEE"
      },
      "execution_count": null,
      "outputs": []
    },
    {
      "cell_type": "code",
      "source": [
        "def relu(Z):\n",
        "  return Z.clamp_min(0.)"
      ],
      "metadata": {
        "id": "tKpXQhSty7Al"
      },
      "execution_count": null,
      "outputs": []
    },
    {
      "cell_type": "code",
      "source": [
        "def softmax(x):\n",
        "  e_x = torch.exp(x - torch.max(x, dim=-1, keepdim=True)[0])\n",
        "  return e_x / (torch.sum(e_x, dim=-1, keepdim=True) + 1e-10)"
      ],
      "metadata": {
        "id": "rwiBQry4zOv-"
      },
      "execution_count": null,
      "outputs": []
    },
    {
      "cell_type": "code",
      "source": [
        "def MLP(X):\n",
        "  Z1 = linear(X, w1, b1)\n",
        "  A1 = relu(Z1)\n",
        "  Z2 = linear(A1, w2, b2)\n",
        "  A2 = softmax(Z2)\n",
        "  return A2\n",
        "\n",
        "y_train_pred = MLP(X_train)\n",
        "\n",
        "y_train_pred.shape"
      ],
      "metadata": {
        "colab": {
          "base_uri": "https://localhost:8080/"
        },
        "id": "cYhey6JiztIK",
        "outputId": "26a97620-ff68-4c39-fb22-e41dd7aa6124"
      },
      "execution_count": null,
      "outputs": [
        {
          "output_type": "execute_result",
          "data": {
            "text/plain": [
              "torch.Size([1437, 10])"
            ]
          },
          "metadata": {},
          "execution_count": 35
        }
      ]
    },
    {
      "cell_type": "code",
      "source": [],
      "metadata": {
        "id": "9RrVvwVx1SWZ"
      },
      "execution_count": null,
      "outputs": []
    }
  ]
}