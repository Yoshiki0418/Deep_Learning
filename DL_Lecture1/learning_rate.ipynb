{
  "nbformat": 4,
  "nbformat_minor": 0,
  "metadata": {
    "colab": {
      "provenance": [],
      "authorship_tag": "ABX9TyPkbDVDe75mvUejMzxGlkgo",
      "include_colab_link": true
    },
    "kernelspec": {
      "name": "python3",
      "display_name": "Python 3"
    },
    "language_info": {
      "name": "python"
    }
  },
  "cells": [
    {
      "cell_type": "markdown",
      "metadata": {
        "id": "view-in-github",
        "colab_type": "text"
      },
      "source": [
        "<a href=\"https://colab.research.google.com/github/Yoshiki0418/Deep_Learning/blob/main/DL_Lecture1/learning_rate.ipynb\" target=\"_parent\"><img src=\"https://colab.research.google.com/assets/colab-badge.svg\" alt=\"Open In Colab\"/></a>"
      ]
    },
    {
      "cell_type": "markdown",
      "source": [
        "# Learning rate"
      ],
      "metadata": {
        "id": "lJzCYUcIEmdI"
      }
    },
    {
      "cell_type": "code",
      "execution_count": 1,
      "metadata": {
        "id": "WGiMNLL3Ed5w"
      },
      "outputs": [],
      "source": [
        "import torchvision\n",
        "import torch\n",
        "from torchvision import transforms\n",
        "from torch.utils.data import DataLoader\n",
        "import matplotlib.pyplot as plt\n",
        "import numpy as np\n",
        "from torch import optim, nn\n",
        "from torch.nn import functional as F\n",
        "from torch.utils.data import Dataset\n",
        "from sklearn import datasets\n",
        "from sklearn.model_selection import train_test_split\n",
        "from torch.optim.lr_scheduler import StepLR, CosineAnnealingLR"
      ]
    },
    {
      "cell_type": "markdown",
      "source": [
        "## 準備"
      ],
      "metadata": {
        "id": "E53Sn_ysEu7E"
      }
    },
    {
      "cell_type": "code",
      "source": [
        "class MyDataset(Dataset):\n",
        "    def __init__(self, X, y, transform=None):\n",
        "        self.X = X\n",
        "        self.y = y\n",
        "        self.transform = transform\n",
        "\n",
        "    def __len__(self):\n",
        "        return len(self.X)\n",
        "\n",
        "    def __getitem__(self, idx):\n",
        "        X = self.X[idx]\n",
        "        y = self.y[idx]\n",
        "\n",
        "        if self.transform:\n",
        "            X = self.transform(X)\n",
        "\n",
        "        return X, y\n",
        "class MLP(nn.Module):\n",
        "    def __init__(self, num_in, num_hidden, num_out):\n",
        "        super().__init__()\n",
        "        self.flatten = nn.Flatten() # [b, c, h, w] -> [b, cxhxw]\n",
        "        self.l1 = nn.Linear(num_in, num_hidden)\n",
        "        self.l2 = nn.Linear(num_hidden, num_out)\n",
        "\n",
        "    def forward(self, x):\n",
        "        # z1 = self.l1(x)\n",
        "        # a1 = F.relu(z1)\n",
        "        # z2 = self.l2(a1)\n",
        "        x = self.l2(F.relu(self.l1(self.flatten(x))))\n",
        "        return x\n",
        "\n",
        "\n",
        "def learn(model, train_loader, val_loader, optimizer, loss_func, num_epoch, early_stopping=None, save_path=None):\n",
        "    # ログ\n",
        "    train_losses = []\n",
        "    val_losses = []\n",
        "    val_accuracies = []\n",
        "\n",
        "    best_val_loss = float('inf')\n",
        "    no_improve = 0 # カウント用変数\n",
        "\n",
        "    for epoch in range(num_epoch):\n",
        "        running_loss = 0.0\n",
        "        running_val_loss = 0.0\n",
        "        running_val_acc = 0.0\n",
        "\n",
        "        for train_batch, data in enumerate(train_loader):\n",
        "\n",
        "            X, y = data\n",
        "            optimizer.zero_grad()\n",
        "            # forward\n",
        "            preds = model(X)\n",
        "            loss = loss_func(preds, y)\n",
        "            running_loss += loss.item()\n",
        "\n",
        "            # backward\n",
        "            loss.backward()\n",
        "            optimizer.step()\n",
        "\n",
        "        # validation\n",
        "        with torch.no_grad():\n",
        "            for val_batch, data in enumerate(val_loader):\n",
        "                X_val, y_val = data\n",
        "                preds_val = model(X_val)\n",
        "                val_loss = loss_func(preds_val, y_val)\n",
        "                running_val_loss += val_loss.item()\n",
        "                val_accuracy = torch.sum(torch.argmax(preds_val, dim=-1) == y_val) / y_val.shape[0]\n",
        "                running_val_acc += val_accuracy.item()\n",
        "\n",
        "        train_losses.append(running_loss/(train_batch + 1))\n",
        "        val_losses.append(running_val_loss/(val_batch + 1))\n",
        "        val_accuracies.append(running_val_acc/(val_batch + 1))\n",
        "        print(f'epoch: {epoch}: train error: {train_losses[-1]}, validation error: {val_losses[-1]}, validation accuracy: {val_accuracies[-1]}')\n",
        "\n",
        "        if val_losses[-1] < best_val_loss:\n",
        "            best_val_loss = val_losses[-1]\n",
        "            no_improve = 0\n",
        "            if save_path is not None:\n",
        "                state = {\n",
        "                'model_state_dict': model.state_dict(),\n",
        "                'optimizer_state_dict': optimizer.state_dict(),\n",
        "                'val_loss': val_losses[-1]\n",
        "                }\n",
        "                torch.save(state, save_path)\n",
        "        else:\n",
        "            no_improve += 1\n",
        "\n",
        "        if early_stopping and no_improve >= early_stopping:\n",
        "            print('Stopping early')\n",
        "            break\n",
        "\n",
        "    return train_losses, val_losses, val_accuracies"
      ],
      "metadata": {
        "id": "3dKRReC4Ev7A"
      },
      "execution_count": 2,
      "outputs": []
    },
    {
      "cell_type": "code",
      "source": [
        "# データロード\n",
        "dataset = datasets.load_digits()\n",
        "target = dataset['target']\n",
        "images = dataset['images']\n",
        "images = images * (255. / 16.) # 0~16 -> 0~255\n",
        "images = images.astype(np.uint8)\n",
        "# 学習データと検証データ作成\n",
        "X_train, X_val, y_train, y_val = train_test_split(images, target, test_size=0.2, random_state=42)\n",
        "\n",
        "# DatasetとDataLoader作成\n",
        "transform = transforms.Compose([\n",
        "    transforms.ToTensor(),# 0~255 -> 0~1\n",
        "    transforms.Normalize((.5, ), (.5, )) # 0~1 -> -1~1\n",
        "])\n",
        "\n",
        "batch_size = 10\n",
        "train_dataset = MyDataset(X_train, y_train, transform=transform)\n",
        "val_dataset = MyDataset(X_val, y_val, transform=transform)\n",
        "train_loader = DataLoader(train_dataset, batch_size=batch_size, shuffle=True, num_workers=2)\n",
        "val_loader = DataLoader(val_dataset, batch_size=batch_size, num_workers=2)\n",
        "early_stopping = 5\n",
        "## Refactoring後の学習ループ\n",
        "learning_rate = 0.1\n",
        "model = MLP(64, 30, 10)\n",
        "opt = optim.SGD(model.parameters(), lr=learning_rate)\n",
        "num_epoch = 100"
      ],
      "metadata": {
        "id": "DWag3W3RE6U_"
      },
      "execution_count": 3,
      "outputs": []
    },
    {
      "cell_type": "markdown",
      "source": [
        "## Learning rate finder"
      ],
      "metadata": {
        "id": "lBu2MyV9E9U2"
      }
    },
    {
      "cell_type": "code",
      "source": [
        "# optimizerの.param_groupsの中に様々なパラメータが保持されていて，learning rateもここに格納されている\n",
        "for param_group in opt.param_groups:\n",
        "    param_group['lr'] *= 1.1"
      ],
      "metadata": {
        "id": "O0rqeNIfE9_S"
      },
      "execution_count": 4,
      "outputs": []
    },
    {
      "cell_type": "code",
      "source": [
        "opt.param_groups"
      ],
      "metadata": {
        "colab": {
          "base_uri": "https://localhost:8080/"
        },
        "id": "_epU0RKvFFr7",
        "outputId": "89eac3b7-312b-4e37-8321-303863e4d5f8"
      },
      "execution_count": 5,
      "outputs": [
        {
          "output_type": "execute_result",
          "data": {
            "text/plain": [
              "[{'params': [Parameter containing:\n",
              "   tensor([[-0.0620, -0.0966, -0.0300,  ...,  0.0856, -0.0465,  0.0072],\n",
              "           [ 0.0178,  0.0999, -0.0120,  ...,  0.0801, -0.1056,  0.1130],\n",
              "           [-0.0415, -0.0217,  0.0124,  ..., -0.0265, -0.0388, -0.0811],\n",
              "           ...,\n",
              "           [ 0.0043,  0.0562, -0.0306,  ..., -0.0481,  0.0201, -0.0775],\n",
              "           [-0.0500,  0.0851, -0.0717,  ..., -0.0343, -0.0611,  0.1204],\n",
              "           [ 0.0314,  0.1200, -0.0741,  ..., -0.0391,  0.0708, -0.0829]],\n",
              "          requires_grad=True),\n",
              "   Parameter containing:\n",
              "   tensor([-0.1168, -0.0199, -0.0368, -0.0719,  0.0874, -0.1205,  0.0351, -0.0923,\n",
              "            0.0979, -0.0152,  0.0993,  0.0277, -0.0150,  0.0539, -0.0363,  0.0403,\n",
              "           -0.0993,  0.1211, -0.0224, -0.0109,  0.0796, -0.0809,  0.1185, -0.1143,\n",
              "           -0.1248,  0.0991, -0.0866, -0.1145,  0.0056, -0.0380],\n",
              "          requires_grad=True),\n",
              "   Parameter containing:\n",
              "   tensor([[ 0.1444,  0.0450,  0.0319, -0.1249,  0.0267, -0.1213, -0.1741, -0.1340,\n",
              "            -0.0200,  0.0959, -0.0837, -0.0093, -0.1327, -0.0110, -0.1667,  0.1517,\n",
              "             0.1393,  0.0501,  0.0357,  0.0391,  0.1670,  0.1747, -0.0761,  0.0336,\n",
              "             0.1011, -0.0725,  0.0813,  0.1238,  0.0329, -0.0546],\n",
              "           [-0.0847, -0.1643,  0.1646, -0.1762, -0.0711, -0.1231,  0.1236, -0.0685,\n",
              "             0.0808,  0.1791,  0.1184, -0.1359,  0.1510, -0.0439, -0.1247,  0.0883,\n",
              "             0.0090,  0.1477, -0.1264, -0.1542,  0.0694, -0.1464,  0.0411,  0.0225,\n",
              "             0.1388, -0.0851, -0.0390, -0.0081, -0.0295,  0.0974],\n",
              "           [ 0.0473,  0.1675,  0.1341, -0.1707, -0.0415,  0.0357, -0.0371, -0.1450,\n",
              "             0.0054,  0.1208,  0.1122, -0.0186, -0.1141,  0.1470,  0.0058,  0.0106,\n",
              "            -0.1524,  0.0663,  0.0227, -0.1186,  0.1748,  0.1203, -0.0175, -0.0202,\n",
              "             0.1266,  0.1347, -0.0632,  0.0575,  0.0392, -0.0747],\n",
              "           [-0.0418,  0.0195, -0.0172,  0.0612, -0.0191, -0.1384, -0.1489,  0.0433,\n",
              "             0.0320,  0.0055,  0.0043, -0.1001,  0.0439,  0.1736,  0.0922, -0.1034,\n",
              "            -0.0387,  0.1313, -0.1629,  0.0785, -0.0504,  0.0482, -0.1511,  0.1231,\n",
              "             0.0603,  0.1411, -0.0789,  0.0449,  0.0009, -0.0124],\n",
              "           [ 0.1408, -0.0393,  0.0415, -0.0872, -0.0441,  0.0358,  0.0894,  0.1423,\n",
              "             0.1032, -0.0665,  0.0529, -0.0970, -0.0765,  0.1097,  0.0068, -0.1624,\n",
              "             0.0269,  0.1571,  0.0755, -0.0335,  0.0086,  0.0393, -0.0874, -0.0390,\n",
              "            -0.0276, -0.1447,  0.1615,  0.0154,  0.1648, -0.1093],\n",
              "           [-0.0225,  0.1759, -0.0225, -0.1428, -0.0208, -0.0632, -0.1290, -0.0312,\n",
              "            -0.1705,  0.1374,  0.0127, -0.0375, -0.0060,  0.0061, -0.1104,  0.1651,\n",
              "             0.0613, -0.1044,  0.1357,  0.0511, -0.0924,  0.1466,  0.0173, -0.0477,\n",
              "             0.1113,  0.0405,  0.1390, -0.1643, -0.0238, -0.1526],\n",
              "           [-0.0297,  0.0607, -0.0481, -0.1488, -0.0058, -0.1715, -0.0230,  0.0264,\n",
              "             0.1649,  0.1718,  0.0182,  0.1620,  0.1804,  0.0438, -0.0238,  0.1750,\n",
              "            -0.1413,  0.1467, -0.0824,  0.1735, -0.1774, -0.1639, -0.0742,  0.1118,\n",
              "             0.1518, -0.1417,  0.1183, -0.0571,  0.1079,  0.0499],\n",
              "           [ 0.1021, -0.0763, -0.0111,  0.0074, -0.1337, -0.0021,  0.1072,  0.0665,\n",
              "             0.1540,  0.0483,  0.1455, -0.0025,  0.1756,  0.0543,  0.1380,  0.0719,\n",
              "             0.1103, -0.0819,  0.0588, -0.0947, -0.0194, -0.0525, -0.1014,  0.1630,\n",
              "            -0.1706,  0.0280, -0.0654,  0.1239, -0.0005, -0.1397],\n",
              "           [-0.0595, -0.0174, -0.1257, -0.1756, -0.1057,  0.0323, -0.0643, -0.0096,\n",
              "             0.1446, -0.1464, -0.1177, -0.1702,  0.1556, -0.1117,  0.0051, -0.1118,\n",
              "             0.0803,  0.1751, -0.1226,  0.0973, -0.1139,  0.1209, -0.0103,  0.0708,\n",
              "             0.1618,  0.0285, -0.1193, -0.0267, -0.1382,  0.0124],\n",
              "           [-0.1364,  0.0821,  0.0065, -0.0900, -0.0458, -0.0403,  0.0886, -0.0076,\n",
              "             0.1148, -0.0932, -0.0728,  0.1071, -0.0367,  0.0401, -0.1023,  0.0483,\n",
              "            -0.0216, -0.1544, -0.0526, -0.1725,  0.1016,  0.0527,  0.0386,  0.1038,\n",
              "             0.0592, -0.1677,  0.1296, -0.0983, -0.0228,  0.0857]],\n",
              "          requires_grad=True),\n",
              "   Parameter containing:\n",
              "   tensor([ 0.0015, -0.1529,  0.0986,  0.0026,  0.0735,  0.1003, -0.0649,  0.0174,\n",
              "           -0.0970, -0.0907], requires_grad=True)],\n",
              "  'lr': 0.11000000000000001,\n",
              "  'momentum': 0,\n",
              "  'dampening': 0,\n",
              "  'weight_decay': 0,\n",
              "  'nesterov': False,\n",
              "  'maximize': False,\n",
              "  'foreach': None,\n",
              "  'differentiable': False,\n",
              "  'fused': None}]"
            ]
          },
          "metadata": {},
          "execution_count": 5
        }
      ]
    },
    {
      "cell_type": "code",
      "source": [
        "def lr_finder(model, train_loader, loss_func, lr_multiplier=1.2):\n",
        "\n",
        "    lr = 1e-8\n",
        "    max_lr = 10\n",
        "    opt = torch.optim.SGD(model.parameters(), lr=lr)\n",
        "    losses = []\n",
        "    lrs = []\n",
        "\n",
        "    for train_batch, data in enumerate(train_loader):\n",
        "        X, y = data\n",
        "\n",
        "        opt.zero_grad()\n",
        "        # forward\n",
        "        preds = model(X)\n",
        "        loss = loss_func(preds, y)\n",
        "        losses.append(loss.item())\n",
        "        lrs.append(lr)\n",
        "\n",
        "        # backward\n",
        "        loss.backward()\n",
        "        opt.step()\n",
        "\n",
        "        lr *= lr_multiplier\n",
        "\n",
        "        for param_group in opt.param_groups:\n",
        "            param_group['lr'] = lr\n",
        "        if lr > max_lr:\n",
        "            break\n",
        "\n",
        "    return lrs, losses"
      ],
      "metadata": {
        "id": "-8y5bc19FNx2"
      },
      "execution_count": 6,
      "outputs": []
    },
    {
      "cell_type": "code",
      "source": [
        "lrs, losses = lr_finder(model, train_loader, F.cross_entropy, lr_multiplier=1.2)\n",
        "plt.plot(lrs, losses)\n",
        "plt.xscale('log')"
      ],
      "metadata": {
        "colab": {
          "base_uri": "https://localhost:8080/",
          "height": 434
        },
        "id": "HEFiBMfRFQxi",
        "outputId": "937d5c34-d5c0-48fa-9fdf-57fb7aa45f69"
      },
      "execution_count": 7,
      "outputs": [
        {
          "output_type": "display_data",
          "data": {
            "text/plain": [
              "<Figure size 640x480 with 1 Axes>"
            ],
            "image/png": "[encoded data removed]"
          },
          "metadata": {}
        }
      ]
    },
    {
      "cell_type": "markdown",
      "source": [
        "## Learning rate scheduler"
      ],
      "metadata": {
        "id": "7VytFGeqFkmw"
      }
    },
    {
      "cell_type": "code",
      "source": [
        "# StepLR\n",
        "model = MLP(64, 30, 10)\n",
        "opt = optim.SGD(model.parameters(), lr=learning_rate)\n",
        "scheduler = StepLR(opt, step_size=30, gamma=0.1)\n",
        "for param_group in opt.param_groups:\n",
        "    print(param_group['lr'])\n",
        "for epoch in range(60):\n",
        "    scheduler.step()\n",
        "for param_group in opt.param_groups:\n",
        "    print(param_group['lr'])"
      ],
      "metadata": {
        "colab": {
          "base_uri": "https://localhost:8080/"
        },
        "id": "yDEA5phtFldu",
        "outputId": "a3e03bac-5304-4304-ff6c-36544ffce346"
      },
      "execution_count": 8,
      "outputs": [
        {
          "output_type": "stream",
          "name": "stdout",
          "text": [
            "0.1\n",
            "0.0010000000000000002\n"
          ]
        },
        {
          "output_type": "stream",
          "name": "stderr",
          "text": [
            "/usr/local/lib/python3.10/dist-packages/torch/optim/lr_scheduler.py:143: UserWarning: Detected call of `lr_scheduler.step()` before `optimizer.step()`. In PyTorch 1.1.0 and later, you should call them in the opposite order: `optimizer.step()` before `lr_scheduler.step()`.  Failure to do this will result in PyTorch skipping the first value of the learning rate schedule. See more details at https://pytorch.org/docs/stable/optim.html#how-to-adjust-learning-rate\n",
            "  warnings.warn(\"Detected call of `lr_scheduler.step()` before `optimizer.step()`. \"\n"
          ]
        }
      ]
    },
    {
      "cell_type": "code",
      "source": [
        "# CosineAnnealing\n",
        "model = MLP(64, 30, 10)\n",
        "opt = optim.SGD(model.parameters(), lr=learning_rate)\n",
        "scheduler = CosineAnnealingLR(opt, T_max=50)\n",
        "lrs = []\n",
        "for epoch in range(150):\n",
        "    lrs.append(opt.param_groups[0]['lr'])\n",
        "    scheduler.step()"
      ],
      "metadata": {
        "id": "LV7kd8hnFvKu"
      },
      "execution_count": 9,
      "outputs": []
    },
    {
      "cell_type": "code",
      "source": [
        "plt.plot(lrs)"
      ],
      "metadata": {
        "colab": {
          "base_uri": "https://localhost:8080/",
          "height": 448
        },
        "id": "8ze0XnMFFyGc",
        "outputId": "277858a1-90fc-4c8d-e3e7-38c46da1a85a"
      },
      "execution_count": 10,
      "outputs": [
        {
          "output_type": "execute_result",
          "data": {
            "text/plain": [
              "[<matplotlib.lines.Line2D at 0x7cf6197000d0>]"
            ]
          },
          "metadata": {},
          "execution_count": 10
        },
        {
          "output_type": "display_data",
          "data": {
            "text/plain": [
              "<Figure size 640x480 with 1 Axes>"
            ],
            "image/png": "[encoded data removed]"
          },
          "metadata": {}
        }
      ]
    },
    {
      "cell_type": "code",
      "source": [
        "# learning rate schedulerを学習ループに組み込む\n",
        "def learn(model, train_loader, val_loader, optimizer, loss_func, num_epoch, early_stopping=None, save_path=None, scheduler=None):\n",
        "    # ログ\n",
        "    train_losses = []\n",
        "    val_losses = []\n",
        "    val_accuracies = []\n",
        "\n",
        "    best_val_loss = float('inf')\n",
        "    no_improve = 0 # カウント用変数\n",
        "\n",
        "    for epoch in range(num_epoch):\n",
        "        running_loss = 0.0\n",
        "        running_val_loss = 0.0\n",
        "        running_val_acc = 0.0\n",
        "\n",
        "        for train_batch, data in enumerate(train_loader):\n",
        "\n",
        "            X, y = data\n",
        "            optimizer.zero_grad()\n",
        "            # forward\n",
        "            preds = model(X)\n",
        "            loss = loss_func(preds, y)\n",
        "            running_loss += loss.item()\n",
        "\n",
        "            # backward\n",
        "            loss.backward()\n",
        "            optimizer.step()\n",
        "\n",
        "        # validation\n",
        "        with torch.no_grad():\n",
        "            for val_batch, data in enumerate(val_loader):\n",
        "                X_val, y_val = data\n",
        "                preds_val = model(X_val)\n",
        "                val_loss = loss_func(preds_val, y_val)\n",
        "                running_val_loss += val_loss.item()\n",
        "                val_accuracy = torch.sum(torch.argmax(preds_val, dim=-1) == y_val) / y_val.shape[0]\n",
        "                running_val_acc += val_accuracy.item()\n",
        "\n",
        "        train_losses.append(running_loss/(train_batch + 1))\n",
        "        val_losses.append(running_val_loss/(val_batch + 1))\n",
        "        val_accuracies.append(running_val_acc/(val_batch + 1))\n",
        "        print(f'epoch: {epoch}: train error: {train_losses[-1]}, validation error: {val_losses[-1]}, validation accuracy: {val_accuracies[-1]}')\n",
        "\n",
        "        if val_losses[-1] < best_val_loss:\n",
        "            best_val_loss = val_losses[-1]\n",
        "            no_improve = 0\n",
        "            if save_path is not None:\n",
        "                state = {\n",
        "                'model_state_dict': model.state_dict(),\n",
        "                'optimizer_state_dict': optimizer.state_dict(),\n",
        "                'val_loss': val_losses[-1]\n",
        "                }\n",
        "                torch.save(state, save_path)\n",
        "        else:\n",
        "            no_improve += 1\n",
        "\n",
        "        if early_stopping and no_improve >= early_stopping:\n",
        "            print('Stopping early')\n",
        "            break\n",
        "        if scheduler:\n",
        "            scheduler.step()\n",
        "\n",
        "    return train_losses, val_losses, val_accuracies"
      ],
      "metadata": {
        "id": "ZTsnWpm0F1r4"
      },
      "execution_count": 11,
      "outputs": []
    },
    {
      "cell_type": "code",
      "source": [
        "model = MLP(64, 30, 10)\n",
        "opt = optim.SGD(model.parameters(), lr=learning_rate)\n",
        "scheduler = StepLR(opt, step_size=30, gamma=0.1)\n",
        "train_losses, val_losses, val_accuracies = learn(model, train_loader, val_loader, opt, F.cross_entropy, 100, scheduler=scheduler)"
      ],
      "metadata": {
        "colab": {
          "base_uri": "https://localhost:8080/"
        },
        "id": "LVpjC_oHGCXV",
        "outputId": "372d42ca-a207-4074-a1a6-149d7e2d2184"
      },
      "execution_count": 12,
      "outputs": [
        {
          "output_type": "stream",
          "name": "stdout",
          "text": [
            "epoch: 0: train error: 1.0985165181466274, validation error: 0.38886847181452644, validation accuracy: 0.8916666607062022\n",
            "epoch: 1: train error: 0.2681087587649624, validation error: 0.19906652025464508, validation accuracy: 0.9361111041572359\n",
            "epoch: 2: train error: 0.16515930489792177, validation error: 0.15225925030083293, validation accuracy: 0.9499999930461248\n",
            "epoch: 3: train error: 0.12667580927437586, validation error: 0.1499564583516783, validation accuracy: 0.958333326710595\n",
            "epoch: 4: train error: 0.10315839709558834, validation error: 0.1354150425047717, validation accuracy: 0.958333326710595\n",
            "epoch: 5: train error: 0.08911832932305212, validation error: 0.14612515713088214, validation accuracy: 0.9472222146060731\n",
            "epoch: 6: train error: 0.08102232564043435, validation error: 0.10958358760560966, validation accuracy: 0.9666666620307498\n",
            "epoch: 7: train error: 0.06611278421931072, validation error: 0.11569272966072378, validation accuracy: 0.9611111051506467\n",
            "epoch: 8: train error: 0.061588695851646155, validation error: 0.11925855367573807, validation accuracy: 0.9611111034949621\n",
            "epoch: 9: train error: 0.054051478112038844, validation error: 0.11117177430747284, validation accuracy: 0.9749999956952201\n",
            "epoch: 10: train error: 0.047761382223850686, validation error: 0.10592272469592798, validation accuracy: 0.9722222172551684\n",
            "epoch: 11: train error: 0.04126466807914161, validation error: 0.11452831345539177, validation accuracy: 0.9666666620307498\n",
            "epoch: 12: train error: 0.0394199183036916, validation error: 0.11111637011506698, validation accuracy: 0.9666666603750653\n",
            "epoch: 13: train error: 0.031689594484406475, validation error: 0.10083386849954776, validation accuracy: 0.9805555525753233\n",
            "epoch: 14: train error: 0.0318682194192661, validation error: 0.10486268813191499, validation accuracy: 0.9666666620307498\n",
            "epoch: 15: train error: 0.02657204756279599, validation error: 0.10417281124359255, validation accuracy: 0.9722222172551684\n",
            "epoch: 16: train error: 0.025621302527118434, validation error: 0.11152470311854915, validation accuracy: 0.9555555482705435\n",
            "epoch: 17: train error: 0.02284592978341809, validation error: 0.10514490544705445, validation accuracy: 0.9694444404708015\n",
            "epoch: 18: train error: 0.022455481829133025, validation error: 0.11613581550449857, validation accuracy: 0.9555555482705435\n",
            "epoch: 19: train error: 0.018896964535492264, validation error: 0.1088322601151756, validation accuracy: 0.9722222172551684\n",
            "epoch: 20: train error: 0.015606731571501263, validation error: 0.13064608427076665, validation accuracy: 0.9527777681748072\n",
            "epoch: 21: train error: 0.015838427221549663, validation error: 0.11533401212485235, validation accuracy: 0.9583333250549104\n",
            "epoch: 22: train error: 0.0151373582489719, validation error: 0.10674106456927904, validation accuracy: 0.9694444404708015\n",
            "epoch: 23: train error: 0.013557810610008245, validation error: 0.11053331528334336, validation accuracy: 0.9694444388151169\n",
            "epoch: 24: train error: 0.011975149639258435, validation error: 0.10726174071189437, validation accuracy: 0.9722222172551684\n",
            "epoch: 25: train error: 0.01154464749662212, validation error: 0.11041688532956566, validation accuracy: 0.9666666620307498\n",
            "epoch: 26: train error: 0.011081537086448002, validation error: 0.10854979423836791, validation accuracy: 0.9666666620307498\n",
            "epoch: 27: train error: 0.009424895024292508, validation error: 0.10616680536663302, validation accuracy: 0.9694444404708015\n",
            "epoch: 28: train error: 0.00962200647877075, validation error: 0.11446757657540729, validation accuracy: 0.9749999956952201\n",
            "epoch: 29: train error: 0.00896292471851565, validation error: 0.11494954825442012, validation accuracy: 0.9694444388151169\n",
            "epoch: 30: train error: 0.007760007077700316, validation error: 0.11258808480063938, validation accuracy: 0.9722222172551684\n",
            "epoch: 31: train error: 0.00710686607655791, validation error: 0.11189467159217908, validation accuracy: 0.9722222172551684\n",
            "epoch: 32: train error: 0.007043418622313564, validation error: 0.11153097857721958, validation accuracy: 0.9694444404708015\n",
            "epoch: 33: train error: 0.0069176345698704405, validation error: 0.11163217654049934, validation accuracy: 0.9722222172551684\n",
            "epoch: 34: train error: 0.006938339183862909, validation error: 0.11129324065041146, validation accuracy: 0.9694444404708015\n",
            "epoch: 35: train error: 0.006880894657367915, validation error: 0.11100441745394266, validation accuracy: 0.9694444404708015\n",
            "epoch: 36: train error: 0.006836852323936505, validation error: 0.1110229192064354, validation accuracy: 0.9694444404708015\n",
            "epoch: 37: train error: 0.006884729027711324, validation error: 0.11107420411281055, validation accuracy: 0.9694444404708015\n",
            "epoch: 38: train error: 0.006778016705235738, validation error: 0.11103852570259834, validation accuracy: 0.9694444404708015\n",
            "epoch: 39: train error: 0.006747500872986873, validation error: 0.1113033314832137, validation accuracy: 0.9694444404708015\n",
            "epoch: 40: train error: 0.006716448534638807, validation error: 0.11124516389847688, validation accuracy: 0.9694444404708015\n",
            "epoch: 41: train error: 0.006678530293811491, validation error: 0.11109672101459485, validation accuracy: 0.9694444404708015\n",
            "epoch: 42: train error: 0.006690023359321155, validation error: 0.11132246500144699, validation accuracy: 0.9694444404708015\n",
            "epoch: 43: train error: 0.006624735670205458, validation error: 0.11144297296616262, validation accuracy: 0.9694444404708015\n",
            "epoch: 44: train error: 0.006610020710872454, validation error: 0.11139102019397898, validation accuracy: 0.9694444404708015\n",
            "epoch: 45: train error: 0.006572304442872539, validation error: 0.11139800599105204, validation accuracy: 0.9694444404708015\n",
            "epoch: 46: train error: 0.0065754112835444785, validation error: 0.11145587923278476, validation accuracy: 0.9694444404708015\n",
            "epoch: 47: train error: 0.006517942304122294, validation error: 0.11172374776328474, validation accuracy: 0.9694444404708015\n",
            "epoch: 48: train error: 0.006504970333278632, validation error: 0.1115866735777268, validation accuracy: 0.9694444404708015\n",
            "epoch: 49: train error: 0.006460718850955042, validation error: 0.11176851606210726, validation accuracy: 0.9694444404708015\n",
            "epoch: 50: train error: 0.0064386503507497155, validation error: 0.11172332567871814, validation accuracy: 0.9694444404708015\n",
            "epoch: 51: train error: 0.006402000736771798, validation error: 0.11177147763596117, validation accuracy: 0.9694444404708015\n",
            "epoch: 52: train error: 0.006382544958594533, validation error: 0.11172198896848487, validation accuracy: 0.9694444404708015\n",
            "epoch: 53: train error: 0.0063954067041373085, validation error: 0.11185674412020792, validation accuracy: 0.9694444404708015\n",
            "epoch: 54: train error: 0.006322535651330933, validation error: 0.11185297901465674, validation accuracy: 0.9694444404708015\n",
            "epoch: 55: train error: 0.006298235341874816, validation error: 0.11174208850267557, validation accuracy: 0.9694444404708015\n",
            "epoch: 56: train error: 0.0063211584760109775, validation error: 0.11184304155095662, validation accuracy: 0.9694444404708015\n",
            "epoch: 57: train error: 0.006253063274774225, validation error: 0.11206612714684322, validation accuracy: 0.9694444404708015\n",
            "epoch: 58: train error: 0.00624502153262559, validation error: 0.11203662213221025, validation accuracy: 0.9694444404708015\n",
            "epoch: 59: train error: 0.0062293569671459815, validation error: 0.11209996077923279, validation accuracy: 0.9694444404708015\n",
            "epoch: 60: train error: 0.006092223062902728, validation error: 0.1121007992333034, validation accuracy: 0.9694444404708015\n",
            "epoch: 61: train error: 0.006074824378881911, validation error: 0.11210278116899038, validation accuracy: 0.9694444404708015\n",
            "epoch: 62: train error: 0.006073741960992468, validation error: 0.11210562264871744, validation accuracy: 0.9694444404708015\n",
            "epoch: 63: train error: 0.0060720565597875975, validation error: 0.11210865081233755, validation accuracy: 0.9694444404708015\n",
            "epoch: 64: train error: 0.006067270324062217, validation error: 0.11211224561177208, validation accuracy: 0.9694444404708015\n",
            "epoch: 65: train error: 0.006064984364431641, validation error: 0.11211262615951353, validation accuracy: 0.9694444404708015\n",
            "epoch: 66: train error: 0.006062611291680595, validation error: 0.11211680349030455, validation accuracy: 0.9694444404708015\n",
            "epoch: 67: train error: 0.006068537276847665, validation error: 0.11211861092083887, validation accuracy: 0.9694444404708015\n",
            "epoch: 68: train error: 0.006065672757737654, validation error: 0.11212538964537089, validation accuracy: 0.9694444404708015\n",
            "epoch: 69: train error: 0.006088062339990251, validation error: 0.11212452271017052, validation accuracy: 0.9694444404708015\n",
            "epoch: 70: train error: 0.006052784864702214, validation error: 0.11212591638710971, validation accuracy: 0.9694444404708015\n",
            "epoch: 71: train error: 0.006059254451865097, validation error: 0.11212354849137934, validation accuracy: 0.9694444404708015\n",
            "epoch: 72: train error: 0.006052674544611768, validation error: 0.11212649113076623, validation accuracy: 0.9694444404708015\n",
            "epoch: 73: train error: 0.0060460231351397754, validation error: 0.11212665481212349, validation accuracy: 0.9694444404708015\n",
            "epoch: 74: train error: 0.0060509814984975995, validation error: 0.1121290482349448, validation accuracy: 0.9694444404708015\n",
            "epoch: 75: train error: 0.0060659696761275785, validation error: 0.11213792065023477, validation accuracy: 0.9694444404708015\n",
            "epoch: 76: train error: 0.006048701527409624, validation error: 0.11214576164760122, validation accuracy: 0.9694444404708015\n",
            "epoch: 77: train error: 0.006045997643342262, validation error: 0.11214659620377966, validation accuracy: 0.9694444404708015\n",
            "epoch: 78: train error: 0.006069330651876549, validation error: 0.11214771185020961, validation accuracy: 0.9694444404708015\n",
            "epoch: 79: train error: 0.006035057188051319, validation error: 0.11215152430183177, validation accuracy: 0.9694444404708015\n",
            "epoch: 80: train error: 0.006038524549770348, validation error: 0.11215185058992777, validation accuracy: 0.9694444404708015\n",
            "epoch: 81: train error: 0.0060299094128721566, validation error: 0.11215621821692265, validation accuracy: 0.9694444404708015\n",
            "epoch: 82: train error: 0.006042214097962844, validation error: 0.11216293465481107, validation accuracy: 0.9694444404708015\n",
            "epoch: 83: train error: 0.006040280144702592, validation error: 0.11217284429868515, validation accuracy: 0.9694444404708015\n",
            "epoch: 84: train error: 0.006020521022492176, validation error: 0.1121737426698625, validation accuracy: 0.9694444404708015\n",
            "epoch: 85: train error: 0.00603070685140968, validation error: 0.11217628708113302, validation accuracy: 0.9694444404708015\n",
            "epoch: 86: train error: 0.006016180346806423, validation error: 0.11217820984853057, validation accuracy: 0.9694444404708015\n",
            "epoch: 87: train error: 0.006016097097623667, validation error: 0.1121839328362613, validation accuracy: 0.9694444404708015\n",
            "epoch: 88: train error: 0.006029807151435307, validation error: 0.11218683444248098, validation accuracy: 0.9694444404708015\n",
            "epoch: 89: train error: 0.006052889775876085, validation error: 0.11218567959945681, validation accuracy: 0.9694444404708015\n",
            "epoch: 90: train error: 0.00600001362360874, validation error: 0.11218593342912048, validation accuracy: 0.9694444404708015\n",
            "epoch: 91: train error: 0.005999782584290693, validation error: 0.11218618796596679, validation accuracy: 0.9694444404708015\n",
            "epoch: 92: train error: 0.006003835882590162, validation error: 0.11218670516508508, validation accuracy: 0.9694444404708015\n",
            "epoch: 93: train error: 0.006014352943086326, validation error: 0.11218679542717938, validation accuracy: 0.9694444404708015\n",
            "epoch: 94: train error: 0.006001314087067537, validation error: 0.11218697417563009, validation accuracy: 0.9694444404708015\n",
            "epoch: 95: train error: 0.0060134328103534545, validation error: 0.11218735696012219, validation accuracy: 0.9694444404708015\n",
            "epoch: 96: train error: 0.005995400391321305, validation error: 0.11218776686918217, validation accuracy: 0.9694444404708015\n",
            "epoch: 97: train error: 0.006052676207307033, validation error: 0.1121875936943171, validation accuracy: 0.9694444404708015\n",
            "epoch: 98: train error: 0.006005941047710116, validation error: 0.11218819954976628, validation accuracy: 0.9694444404708015\n",
            "epoch: 99: train error: 0.006008664523935497, validation error: 0.11218817383693629, validation accuracy: 0.9694444404708015\n"
          ]
        }
      ]
    }
  ]
}